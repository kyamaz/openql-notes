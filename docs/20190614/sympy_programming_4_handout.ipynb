{
 "cells": [
  {
   "cell_type": "markdown",
   "metadata": {},
   "source": [
    "最初に必要なライブラリを読み込みます。"
   ]
  },
  {
   "cell_type": "code",
   "execution_count": 1,
   "metadata": {},
   "outputs": [],
   "source": [
    "from sympy import *\n",
    "from sympy.physics.quantum import *\n",
    "from sympy.physics.quantum.qubit import Qubit, QubitBra, measure_all, measure_all_oneshot,measure_partial\n",
    "from sympy.physics.quantum.gate import H,X,Y,Z,S,T,CPHASE,CNOT,SWAP,UGate,CGateS,gate_simp\n",
    "from sympy.physics.quantum.gate import IdentityGate as _I\n",
    "from sympy.physics.quantum.qft import *\n",
    "\n",
    "from sympy.printing.dot import dotprint\n",
    "init_printing()\n",
    "\n",
    "%matplotlib inline\n",
    "import matplotlib.pyplot as plt\n",
    "from sympy.physics.quantum.circuitplot import CircuitPlot,labeller, Mz,CreateOneQubitGate\n"
   ]
  },
  {
   "cell_type": "markdown",
   "metadata": {},
   "source": [
    "### 【復習問題１】いつもの説明資料の量子回路をプログラミング手順にそって計算しましょう。\n",
    "\n",
    "![計算例](quantum_calc_sample.png)"
   ]
  },
  {
   "cell_type": "code",
   "execution_count": 2,
   "metadata": {},
   "outputs": [
    {
     "data": {
      "image/png": "[encoded data removed]",
      "text/latex": [
       "$\\displaystyle {\\left|00\\right\\rangle }$"
      ],
      "text/plain": [
       "❘00⟩"
      ]
     },
     "execution_count": 2,
     "metadata": {},
     "output_type": "execute_result"
    }
   ],
   "source": [
    "### 1. 計算に必要な量子ビット（量子レジスタ）を準備して、その値を初期化する\n",
    "## ２量子ビットを 0 で初期化してください。\n",
    "Qubit('00')"
   ]
  },
  {
   "cell_type": "code",
   "execution_count": 3,
   "metadata": {},
   "outputs": [
    {
     "data": {
      "image/png": "[encoded data removed]",
      "text/latex": [
       "$\\displaystyle \\left[ \\right]$"
      ],
      "text/plain": [
       "[]"
      ]
     },
     "execution_count": 3,
     "metadata": {},
     "output_type": "execute_result"
    }
   ],
   "source": [
    "### 2. 量子計算をユニタリ行列（ゲート演算子）で記述する\n",
    "## Hadamard のテンソル積 の行列表現を表示してください。\n",
    "\n",
    "h2=[]     #←[]を書き換えて、2量子ビットにそれぞれHadamardを作用するゲート操作を h2 に代入してください。\n",
    "[]            #←[]を書き換えて、h2 の行列表現を表示してください。"
   ]
  },
  {
   "cell_type": "code",
   "execution_count": 4,
   "metadata": {},
   "outputs": [
    {
     "data": {
      "image/png": "[encoded data removed]",
      "text/latex": [
       "$\\displaystyle \\left[ \\right]$"
      ],
      "text/plain": [
       "[]"
      ]
     },
     "execution_count": 4,
     "metadata": {},
     "output_type": "execute_result"
    }
   ],
   "source": [
    "## CNOT を Hadamard で挟んだゲート操作 の行列表現を表示してください。\n",
    "\n",
    "hCXh=[]     #←[]を書き換えて、H - CNOT - H の量子回路を hCXh に代入してください。\n",
    "[]                #←[]を書き換えて、hCXh の行列表現を表示してください。"
   ]
  },
  {
   "cell_type": "code",
   "execution_count": 5,
   "metadata": {},
   "outputs": [
    {
     "data": {
      "image/png": "[encoded data removed]",
      "text/latex": [
       "$\\displaystyle \\left[ \\right]$"
      ],
      "text/plain": [
       "[]"
      ]
     },
     "execution_count": 5,
     "metadata": {},
     "output_type": "execute_result"
    }
   ],
   "source": [
    "### 3. ユニタリ行列を量子ビットに作用する\n",
    "## Hadamard のテンソル積 を `Qubit('00')` に作用してください。\n",
    "\n",
    "q1 = []         #←[]を書き換えて、`Qubit('00')` に `h2` を作用させて計算してください。\n",
    "q1  # q1を Jupyter で表示します。"
   ]
  },
  {
   "cell_type": "code",
   "execution_count": 6,
   "metadata": {},
   "outputs": [
    {
     "data": {
      "image/png": "[encoded data removed]",
      "text/latex": [
       "$\\displaystyle \\left[ \\right]$"
      ],
      "text/plain": [
       "[]"
      ]
     },
     "execution_count": 6,
     "metadata": {},
     "output_type": "execute_result"
    }
   ],
   "source": [
    "## 次に、CNOT を Hadamard で挟んだゲート操作 を 前の状態に作用してください。\n",
    "\n",
    "q2 = []         #←[]を書き換えて、前の状態 `q1` に `hCXh` を作用させて計算してください。\n",
    "q2  # q2を Jupyter で表示します。"
   ]
  },
  {
   "cell_type": "code",
   "execution_count": 7,
   "metadata": {},
   "outputs": [
    {
     "data": {
      "image/png": "[encoded data removed]",
      "text/latex": [
       "$\\displaystyle \\left[ \\right]$"
      ],
      "text/plain": [
       "[]"
      ]
     },
     "execution_count": 7,
     "metadata": {},
     "output_type": "execute_result"
    }
   ],
   "source": [
    "### 4. 測定する\n",
    "## measure_all() を使って、それぞれの状態が測定される確率を表示してください。\n",
    "\n",
    "[]       #←[]を書き換えて、`q2`のそれぞれの状態が測定される確率を表示してください。"
   ]
  },
  {
   "cell_type": "markdown",
   "metadata": {},
   "source": [
    "### 【復習問題２】グローバーのアルゴリズム\n",
    "\n",
    "<strong>\n",
    "次の「課題の初期状態」 quest_state を入力として、この量子状態に $\\lvert 111 \\rangle $ が含まれるか  \n",
    "\n",
    "グローバーのアルゴリズムを使って調べてください。  　  \n",
    "</strong>"
   ]
  },
  {
   "cell_type": "code",
   "execution_count": 8,
   "metadata": {},
   "outputs": [
    {
     "data": {
      "text/plain": [
       "<sympy.physics.quantum.circuitplot.CircuitPlot at 0x1149a47b8>"
      ]
     },
     "execution_count": 8,
     "metadata": {},
     "output_type": "execute_result"
    },
    {
     "data": {
      "image/png": "[encoded data removed]",
      "text/plain": [
       "<Figure size 360x216 with 1 Axes>"
      ]
     },
     "metadata": {},
     "output_type": "display_data"
    }
   ],
   "source": [
    "# 課題の初期状態\n",
    "quest_state = CNOT(1,0)*CNOT(2,1)*H(2)*H(0)*Qubit('000')\n",
    "CircuitPlot(quest_state,nqubits=3)"
   ]
  },
  {
   "cell_type": "code",
   "execution_count": 9,
   "metadata": {},
   "outputs": [
    {
     "data": {
      "image/png": "[encoded data removed]",
      "text/latex": [
       "$\\displaystyle \\frac{{\\left|000\\right\\rangle }}{2} + \\frac{{\\left|001\\right\\rangle }}{2} + \\frac{{\\left|110\\right\\rangle }}{2} + \\frac{{\\left|111\\right\\rangle }}{2}$"
      ],
      "text/plain": [
       "❘000⟩   ❘001⟩   ❘110⟩   ❘111⟩\n",
       "───── + ───── + ───── + ─────\n",
       "  2       2       2       2  "
      ]
     },
     "execution_count": 9,
     "metadata": {},
     "output_type": "execute_result"
    }
   ],
   "source": [
    "# 計算した初期状態を init_state とします。\n",
    "init_state = qapply(quest_state)\n",
    "init_state"
   ]
  },
  {
   "cell_type": "code",
   "execution_count": 10,
   "metadata": {},
   "outputs": [],
   "source": [
    "# 以降で役立ちそうな関数を定義します。\n",
    "def CCX(c1,c2,t):  return CGateS((c1,c2),X(t))\n",
    "def hadamard(s,n):\n",
    "    h = H(s)\n",
    "    for i in range(s+1,n+s):\n",
    "       h = H(i)*h\n",
    "    return h\n",
    "def CCZ(c1,c2,t): return (H(t)*CCX(c1,c2,t)*H(t)) # ＣＣＺ演算子を定義します。\n",
    "def DOp(n): return (Qubit('0'*n)*QubitBra('0'*n)*2-_I(0))     # ゲート操作で計算するには、上記コメントのような演算になります。\n",
    "h_3 = hadamard(0,3)\n",
    "d_3 = h_3 * DOp(3) * h_3    # 平均値周りの反転操作\n",
    "# represent(d_3,nqubits=3)"
   ]
  },
  {
   "cell_type": "code",
   "execution_count": 12,
   "metadata": {
    "scrolled": true
   },
   "outputs": [
    {
     "data": {
      "image/png": "[encoded data removed]",
      "text/latex": [
       "$\\displaystyle \\left[ \\right]$"
      ],
      "text/plain": [
       "[]"
      ]
     },
     "execution_count": 12,
     "metadata": {},
     "output_type": "execute_result"
    }
   ],
   "source": [
    "# | 111 > の検索する量子回路を作成する。\n",
    "grover_7= []     #←[]を書き換えて、 | 111 > の検索する量子回路を `grover_7` に代入してください。\n",
    "[]                        #←[]を書き換えて、grover_7 の量子回路図を表示してください。"
   ]
  },
  {
   "cell_type": "code",
   "execution_count": 13,
   "metadata": {
    "scrolled": true
   },
   "outputs": [
    {
     "data": {
      "image/png": "[encoded data removed]",
      "text/latex": [
       "$\\displaystyle \\left[ \\right]$"
      ],
      "text/plain": [
       "[]"
      ]
     },
     "execution_count": 13,
     "metadata": {},
     "output_type": "execute_result"
    }
   ],
   "source": [
    "# 上で作った量子回路を初期状態と作用させて measure_all() で、 | 111 > を検出する確率が高いことを確認する。\n",
    "\n",
    "[]                       #←[]を書き換えて、全ての状態が測定される確率を表示してください。"
   ]
  },
  {
   "cell_type": "markdown",
   "metadata": {},
   "source": [
    "### 【復習問題３】量子テレポーテーション\n",
    "\n",
    "<strong>\n",
    "次の量子テレポーテーションのプログラムから、Bob の手元にある量子状態を考察し、\n",
    "\n",
    "Alice の測定結果（古典通信で送られる情報）をもとに、Bob の量子状態が Alice が持っていた量子状態(ini_alice)と一致することを確認してください。  　  \n",
    "</strong>"
   ]
  },
  {
   "cell_type": "code",
   "execution_count": 14,
   "metadata": {},
   "outputs": [
    {
     "name": "stdout",
     "output_type": "stream",
     "text": [
      "[(|000>, 1/2), (exp(I*pi/4)*|001>, 1/2)]\n"
     ]
    },
    {
     "data": {
      "image/png": "[encoded data removed]",
      "text/latex": [
       "$\\displaystyle \\left[ \\left( \\frac{\\sqrt{2} {\\left|000\\right\\rangle }}{2} + \\frac{\\sqrt{2} e^{\\frac{i \\pi}{4}} {\\left|100\\right\\rangle }}{2}, \\  \\frac{1}{4}\\right), \\  \\left( \\frac{\\sqrt{2} {\\left|001\\right\\rangle }}{2} - \\frac{\\sqrt{2} e^{\\frac{i \\pi}{4}} {\\left|101\\right\\rangle }}{2}, \\  \\frac{1}{4}\\right), \\  \\left( \\frac{\\sqrt{2} e^{\\frac{i \\pi}{4}} {\\left|010\\right\\rangle }}{2} + \\frac{\\sqrt{2} {\\left|110\\right\\rangle }}{2}, \\  \\frac{1}{4}\\right), \\  \\left( - \\frac{\\sqrt{2} e^{\\frac{i \\pi}{4}} {\\left|011\\right\\rangle }}{2} + \\frac{\\sqrt{2} {\\left|111\\right\\rangle }}{2}, \\  \\frac{1}{4}\\right)\\right]$"
      ],
      "text/plain": [
       "⎡⎛               ⅈ⋅π           ⎞  ⎛               ⅈ⋅π           ⎞  ⎛    ⅈ⋅π   \n",
       "⎢⎜               ───           ⎟  ⎜               ───           ⎟  ⎜    ───   \n",
       "⎢⎜                4            ⎟  ⎜                4            ⎟  ⎜     4    \n",
       "⎢⎜√2⋅❘000⟩   √2⋅ℯ   ⋅❘100⟩     ⎟  ⎜√2⋅❘001⟩   √2⋅ℯ   ⋅❘101⟩     ⎟  ⎜√2⋅ℯ   ⋅❘0\n",
       "⎢⎜──────── + ─────────────, 1/4⎟, ⎜──────── - ─────────────, 1/4⎟, ⎜──────────\n",
       "⎣⎝   2             2           ⎠  ⎝   2             2           ⎠  ⎝      2   \n",
       "\n",
       "                   ⎞  ⎛      ⅈ⋅π                      ⎞⎤\n",
       "                   ⎟  ⎜      ───                      ⎟⎥\n",
       "                   ⎟  ⎜       4                       ⎟⎥\n",
       "10⟩   √2⋅❘110⟩     ⎟  ⎜  √2⋅ℯ   ⋅❘011⟩   √2⋅❘111⟩     ⎟⎥\n",
       "─── + ────────, 1/4⎟, ⎜- ───────────── + ────────, 1/4⎟⎥\n",
       "         2         ⎠  ⎝        2            2         ⎠⎦"
      ]
     },
     "execution_count": 14,
     "metadata": {},
     "output_type": "execute_result"
    },
    {
     "data": {
      "image/png": "[encoded data removed]",
      "text/plain": [
       "<Figure size 288x216 with 1 Axes>"
      ]
     },
     "metadata": {},
     "output_type": "display_data"
    }
   ],
   "source": [
    "# Alice と Bob が対象としている量子ビットを測定する操作を準備します。\n",
    "def alice(qbit): return measure_partial(qbit,(0,1))\n",
    "def bob(qbit):  return measure_partial(qbit,(2,))\n",
    "\n",
    "def U(x): return T(x)*X(x)*H(x)\n",
    "ini_alice = U(0) * Qubit('000')\n",
    "print(measure_partial(qapply(ini_alice),(0,)))   # Alice の初期の量子状態を表示します。\n",
    "\n",
    "# Alice と Bob は量子もつれの状態を共有します。\n",
    "pairs = CNOT(1,2)*H(1)\n",
    "\n",
    "# Bell測定を行います。\n",
    "bell_meas = H(0)*CNOT(0,1)*pairs\n",
    "CircuitPlot(bell_meas,nqubits=3, labels = ['alice','alice','bob'])     # 量子テレポーテーションの量子回路図を表示します。\n",
    "teleportated = qapply(bell_meas*ini_alice)\n",
    "\n",
    "alice(teleportated)   # 量子テレポーテーションを行ったあとの、Alice の量子状態を表示します。"
   ]
  },
  {
   "cell_type": "markdown",
   "metadata": {},
   "source": [
    "### 【課題１−１】スワップテスト\n",
    "<strong>\n",
    "スワップテストのための 制御SWAP（Fredkin） 回路を作成してください。\n",
    "</strong>"
   ]
  },
  {
   "cell_type": "code",
   "execution_count": 15,
   "metadata": {},
   "outputs": [
    {
     "data": {
      "text/plain": [
       "<sympy.physics.quantum.circuitplot.CircuitPlot at 0x114d00c88>"
      ]
     },
     "execution_count": 15,
     "metadata": {},
     "output_type": "execute_result"
    },
    {
     "data": {
      "image/png": "[encoded data removed]",
      "text/plain": [
       "<Figure size 144x216 with 1 Axes>"
      ]
     },
     "metadata": {},
     "output_type": "display_data"
    }
   ],
   "source": [
    "# CCXゲート, Toffoliゲートは、次のように表せます。\n",
    "def CCX(c1,c2,t):  return CGateS((c1,c2),X(t))\n",
    "def Toffoli(c1,c2,t):  return CGateS((c1,c2),X(t))\n",
    "CircuitPlot(CCX(1,2,0),3,labels=labeller(3)[::-1])"
   ]
  },
  {
   "cell_type": "code",
   "execution_count": 16,
   "metadata": {
    "scrolled": true
   },
   "outputs": [
    {
     "data": {
      "image/png": "[encoded data removed]",
      "text/latex": [
       "$\\displaystyle \\left[\\begin{matrix}1 & 0 & 0 & 0 & 0 & 0 & 0 & 0\\\\0 & 1 & 0 & 0 & 0 & 0 & 0 & 0\\\\0 & 0 & 1 & 0 & 0 & 0 & 0 & 0\\\\0 & 0 & 0 & 1 & 0 & 0 & 0 & 0\\\\0 & 0 & 0 & 0 & 1 & 0 & 0 & 0\\\\0 & 0 & 0 & 0 & 0 & 0 & 1 & 0\\\\0 & 0 & 0 & 0 & 0 & 1 & 0 & 0\\\\0 & 0 & 0 & 0 & 0 & 0 & 0 & 1\\end{matrix}\\right]$"
      ],
      "text/plain": [
       "⎡1  0  0  0  0  0  0  0⎤\n",
       "⎢                      ⎥\n",
       "⎢0  1  0  0  0  0  0  0⎥\n",
       "⎢                      ⎥\n",
       "⎢0  0  1  0  0  0  0  0⎥\n",
       "⎢                      ⎥\n",
       "⎢0  0  0  1  0  0  0  0⎥\n",
       "⎢                      ⎥\n",
       "⎢0  0  0  0  1  0  0  0⎥\n",
       "⎢                      ⎥\n",
       "⎢0  0  0  0  0  0  1  0⎥\n",
       "⎢                      ⎥\n",
       "⎢0  0  0  0  0  1  0  0⎥\n",
       "⎢                      ⎥\n",
       "⎣0  0  0  0  0  0  0  1⎦"
      ]
     },
     "execution_count": 16,
     "metadata": {},
     "output_type": "execute_result"
    }
   ],
   "source": [
    "#### 制御SWAP（Fredkin）ゲートを作成してください。\n",
    "\n",
    "CSWAP=CNOT(0,1)*Toffoli(1,2,0)*CNOT(0,1)        #←[]を書き換えて、制御SWAP回路を `CSWAP` に代入してください。\n",
    "represent(CSWAP,nqubits=3)                        #←[]を書き換えて、制御SWAPの行列表現を表示してください。"
   ]
  },
  {
   "cell_type": "markdown",
   "metadata": {},
   "source": [
    "### 【課題１−２】スワップテスト\n",
    "<strong>\n",
    "課題の初期状態、 $|q_0>=U(0) |0> $と$|q_1>= |1> $の内積をスワップテストを使って求めてください。\n",
    "</strong>"
   ]
  },
  {
   "cell_type": "code",
   "execution_count": 17,
   "metadata": {},
   "outputs": [
    {
     "data": {
      "image/png": "[encoded data removed]",
      "text/latex": [
       "$\\displaystyle \\frac{\\sqrt{2} {\\left|010\\right\\rangle }}{2} + \\frac{\\sqrt{2} e^{\\frac{i \\pi}{4}} {\\left|011\\right\\rangle }}{2}$"
      ],
      "text/plain": [
       "               ⅈ⋅π      \n",
       "               ───      \n",
       "                4       \n",
       "√2⋅❘010⟩   √2⋅ℯ   ⋅❘011⟩\n",
       "──────── + ─────────────\n",
       "   2             2      "
      ]
     },
     "execution_count": 17,
     "metadata": {},
     "output_type": "execute_result"
    }
   ],
   "source": [
    "# 課題の初期状態、 q0 (=U(0) |0>) と q1(= |1> )の内積を求めるために、量子状態を準備します。\n",
    "# スワップテストで測定する量子ビット q2 もあわせて、３量子ビットを準備します。\n",
    "def U(x): return T(x)*X(x)*H(x)\n",
    "state_1 = U(0) * Qubit('010')\n",
    "qapply(state_1)"
   ]
  },
  {
   "cell_type": "code",
   "execution_count": 18,
   "metadata": {},
   "outputs": [
    {
     "data": {
      "image/png": "[encoded data removed]",
      "text/latex": [
       "$\\displaystyle \\left[ \\left( \\frac{\\sqrt{6} {\\left|001\\right\\rangle }}{6} + \\frac{\\sqrt{6} {\\left|010\\right\\rangle }}{6} + \\frac{\\sqrt{6} e^{\\frac{i \\pi}{4}} {\\left|011\\right\\rangle }}{3}, \\  \\frac{3}{4}\\right), \\  \\left( - \\frac{\\sqrt{2} {\\left|101\\right\\rangle }}{2} + \\frac{\\sqrt{2} {\\left|110\\right\\rangle }}{2}, \\  \\frac{1}{4}\\right)\\right]$"
      ],
      "text/plain": [
       "⎡⎛                          ⅈ⋅π           ⎞                              ⎤\n",
       "⎢⎜                          ───           ⎟                              ⎥\n",
       "⎢⎜                           4            ⎟                              ⎥\n",
       "⎢⎜√6⋅❘001⟩   √6⋅❘010⟩   √6⋅ℯ   ⋅❘011⟩     ⎟  ⎛  √2⋅❘101⟩   √2⋅❘110⟩     ⎞⎥\n",
       "⎢⎜──────── + ──────── + ─────────────, 3/4⎟, ⎜- ──────── + ────────, 1/4⎟⎥\n",
       "⎣⎝   6          6             3           ⎠  ⎝     2          2         ⎠⎦"
      ]
     },
     "execution_count": 18,
     "metadata": {},
     "output_type": "execute_result"
    }
   ],
   "source": [
    "# スワップテストを行う想定で、測定確率をmeare_partial()で算出します。\n",
    "measure_partial(qapply(H(2)*CSWAP*H(2)*state_1),(2,))"
   ]
  },
  {
   "cell_type": "markdown",
   "metadata": {},
   "source": [
    "この結果から、スワップテストで測定した結果、 q2 = |0> となるケースの確率は、$\\frac{3}{4}$ です。\n",
    "\n",
    "$ \\frac{1}{2}(1+ \\langle q_0 | q_1\\rangle^{2})$ の値がこの結果になることから、内積 $ \\langle q_0 | q_1\\rangle $ が求まります。"
   ]
  },
  {
   "cell_type": "markdown",
   "metadata": {},
   "source": [
    "## 【課題２】量子フーリエ変換\n",
    "<strong>\n",
    "問１）  \n",
    "１. ３量子ビットを対象にした、量子フーリエ変換を行います。  \n",
    "\n",
    "　|000>, |001>, ..., |110>, |111> の全ての状態のそれぞれの QFT の結果を出してください。    \n",
    "　   \n",
    "　　　ヒント）sympy.physics.quantum.qft の QFT 関数を使います。\n",
    "\n",
    "２. QFT(0,3) の量子回路図を CircuitPlot() で作図してください。\n",
    "</strong>"
   ]
  },
  {
   "cell_type": "code",
   "execution_count": 19,
   "metadata": {
    "scrolled": true
   },
   "outputs": [
    {
     "data": {
      "image/png": "[encoded data removed]",
      "text/latex": [
       "$\\displaystyle \\left[\\begin{matrix}\\frac{\\sqrt{2}}{4} & \\frac{\\sqrt{2}}{4} & \\frac{\\sqrt{2}}{4} & \\frac{\\sqrt{2}}{4} & \\frac{\\sqrt{2}}{4} & \\frac{\\sqrt{2}}{4} & \\frac{\\sqrt{2}}{4} & \\frac{\\sqrt{2}}{4}\\\\\\frac{\\sqrt{2}}{4} & \\frac{\\sqrt{2} e^{\\frac{i \\pi}{4}}}{4} & \\frac{\\sqrt{2} i}{4} & \\frac{\\sqrt{2} e^{\\frac{3 i \\pi}{4}}}{4} & - \\frac{\\sqrt{2}}{4} & \\frac{\\sqrt{2} e^{\\frac{5 i \\pi}{4}}}{4} & - \\frac{\\sqrt{2} i}{4} & \\frac{\\sqrt{2} e^{\\frac{7 i \\pi}{4}}}{4}\\\\\\frac{\\sqrt{2}}{4} & \\frac{\\sqrt{2} i}{4} & - \\frac{\\sqrt{2}}{4} & - \\frac{\\sqrt{2} i}{4} & \\frac{\\sqrt{2}}{4} & \\frac{\\sqrt{2} i}{4} & - \\frac{\\sqrt{2}}{4} & - \\frac{\\sqrt{2} i}{4}\\\\\\frac{\\sqrt{2}}{4} & \\frac{\\sqrt{2} e^{\\frac{3 i \\pi}{4}}}{4} & - \\frac{\\sqrt{2} i}{4} & \\frac{\\sqrt{2} e^{\\frac{i \\pi}{4}}}{4} & - \\frac{\\sqrt{2}}{4} & \\frac{\\sqrt{2} e^{\\frac{7 i \\pi}{4}}}{4} & \\frac{\\sqrt{2} i}{4} & \\frac{\\sqrt{2} e^{\\frac{5 i \\pi}{4}}}{4}\\\\\\frac{\\sqrt{2}}{4} & - \\frac{\\sqrt{2}}{4} & \\frac{\\sqrt{2}}{4} & - \\frac{\\sqrt{2}}{4} & \\frac{\\sqrt{2}}{4} & - \\frac{\\sqrt{2}}{4} & \\frac{\\sqrt{2}}{4} & - \\frac{\\sqrt{2}}{4}\\\\\\frac{\\sqrt{2}}{4} & \\frac{\\sqrt{2} e^{\\frac{5 i \\pi}{4}}}{4} & \\frac{\\sqrt{2} i}{4} & \\frac{\\sqrt{2} e^{\\frac{7 i \\pi}{4}}}{4} & - \\frac{\\sqrt{2}}{4} & \\frac{\\sqrt{2} e^{\\frac{i \\pi}{4}}}{4} & - \\frac{\\sqrt{2} i}{4} & \\frac{\\sqrt{2} e^{\\frac{3 i \\pi}{4}}}{4}\\\\\\frac{\\sqrt{2}}{4} & - \\frac{\\sqrt{2} i}{4} & - \\frac{\\sqrt{2}}{4} & \\frac{\\sqrt{2} i}{4} & \\frac{\\sqrt{2}}{4} & - \\frac{\\sqrt{2} i}{4} & - \\frac{\\sqrt{2}}{4} & \\frac{\\sqrt{2} i}{4}\\\\\\frac{\\sqrt{2}}{4} & \\frac{\\sqrt{2} e^{\\frac{7 i \\pi}{4}}}{4} & - \\frac{\\sqrt{2} i}{4} & \\frac{\\sqrt{2} e^{\\frac{5 i \\pi}{4}}}{4} & - \\frac{\\sqrt{2}}{4} & \\frac{\\sqrt{2} e^{\\frac{3 i \\pi}{4}}}{4} & \\frac{\\sqrt{2} i}{4} & \\frac{\\sqrt{2} e^{\\frac{i \\pi}{4}}}{4}\\end{matrix}\\right]$"
      ],
      "text/plain": [
       "⎡√2     √2        √2       √2       √2      √2        √2       √2    ⎤\n",
       "⎢──     ──        ──       ──       ──      ──        ──       ──    ⎥\n",
       "⎢4      4         4        4        4       4         4        4     ⎥\n",
       "⎢                                                                    ⎥\n",
       "⎢         ⅈ⋅π               3⋅ⅈ⋅π            5⋅ⅈ⋅π              7⋅ⅈ⋅π⎥\n",
       "⎢         ───               ─────            ─────              ─────⎥\n",
       "⎢          4                  4                4                  4  ⎥\n",
       "⎢√2   √2⋅ℯ       √2⋅ⅈ   √2⋅ℯ       -√2   √2⋅ℯ       -√2⋅ⅈ   √2⋅ℯ     ⎥\n",
       "⎢──   ───────    ────   ─────────  ────  ─────────  ──────  ─────────⎥\n",
       "⎢4       4        4         4       4        4        4         4    ⎥\n",
       "⎢                                                                    ⎥\n",
       "⎢√2    √2⋅ⅈ      -√2     -√2⋅ⅈ      √2     √2⋅ⅈ      -√2     -√2⋅ⅈ   ⎥\n",
       "⎢──    ────      ────    ──────     ──     ────      ────    ──────  ⎥\n",
       "⎢4      4         4        4        4       4         4        4     ⎥\n",
       "⎢                                                                    ⎥\n",
       "⎢        3⋅ⅈ⋅π               ⅈ⋅π             7⋅ⅈ⋅π              5⋅ⅈ⋅π⎥\n",
       "⎢        ─────               ───             ─────              ─────⎥\n",
       "⎢          4                  4                4                  4  ⎥\n",
       "⎢√2  √2⋅ℯ       -√2⋅ⅈ    √2⋅ℯ      -√2   √2⋅ℯ        √2⋅ⅈ   √2⋅ℯ     ⎥\n",
       "⎢──  ─────────  ──────   ───────   ────  ─────────   ────   ─────────⎥\n",
       "⎢4       4        4         4       4        4        4         4    ⎥\n",
       "⎢                                                                    ⎥\n",
       "⎢√2    -√2        √2      -√2       √2     -√2        √2      -√2    ⎥\n",
       "⎢──    ────       ──      ────      ──     ────       ──      ────   ⎥\n",
       "⎢4      4         4        4        4       4         4        4     ⎥\n",
       "⎢                                                                    ⎥\n",
       "⎢        5⋅ⅈ⋅π              7⋅ⅈ⋅π             ⅈ⋅π               3⋅ⅈ⋅π⎥\n",
       "⎢        ─────              ─────             ───               ─────⎥\n",
       "⎢          4                  4                4                  4  ⎥\n",
       "⎢√2  √2⋅ℯ        √2⋅ⅈ   √2⋅ℯ       -√2    √2⋅ℯ      -√2⋅ⅈ   √2⋅ℯ     ⎥\n",
       "⎢──  ─────────   ────   ─────────  ────   ───────   ──────  ─────────⎥\n",
       "⎢4       4        4         4       4        4        4         4    ⎥\n",
       "⎢                                                                    ⎥\n",
       "⎢√2   -√2⋅ⅈ      -√2      √2⋅ⅈ      √2    -√2⋅ⅈ      -√2      √2⋅ⅈ   ⎥\n",
       "⎢──   ──────     ────     ────      ──    ──────     ────     ────   ⎥\n",
       "⎢4      4         4        4        4       4         4        4     ⎥\n",
       "⎢                                                                    ⎥\n",
       "⎢        7⋅ⅈ⋅π              5⋅ⅈ⋅π            3⋅ⅈ⋅π               ⅈ⋅π ⎥\n",
       "⎢        ─────              ─────            ─────               ─── ⎥\n",
       "⎢          4                  4                4                  4  ⎥\n",
       "⎢√2  √2⋅ℯ       -√2⋅ⅈ   √2⋅ℯ       -√2   √2⋅ℯ        √2⋅ⅈ    √2⋅ℯ    ⎥\n",
       "⎢──  ─────────  ──────  ─────────  ────  ─────────   ────    ─────── ⎥\n",
       "⎣4       4        4         4       4        4        4         4    ⎦"
      ]
     },
     "execution_count": 19,
     "metadata": {},
     "output_type": "execute_result"
    }
   ],
   "source": [
    "## QFT(0,3) の行列表現を表示してください。\n",
    "\n",
    "from sympy.physics.quantum.qft import *     # 必要なパッケージをimportします。\n",
    "represent(QFT(0,3), nqubits=3)"
   ]
  },
  {
   "cell_type": "code",
   "execution_count": 20,
   "metadata": {},
   "outputs": [
    {
     "data": {
      "image/png": "[encoded data removed]",
      "text/latex": [
       "$\\displaystyle \\frac{\\sqrt{2} {\\left|000\\right\\rangle }}{4} + \\frac{\\sqrt{2} {\\left|001\\right\\rangle }}{4} + \\frac{\\sqrt{2} {\\left|010\\right\\rangle }}{4} + \\frac{\\sqrt{2} {\\left|011\\right\\rangle }}{4} + \\frac{\\sqrt{2} {\\left|100\\right\\rangle }}{4} + \\frac{\\sqrt{2} {\\left|101\\right\\rangle }}{4} + \\frac{\\sqrt{2} {\\left|110\\right\\rangle }}{4} + \\frac{\\sqrt{2} {\\left|111\\right\\rangle }}{4}$"
      ],
      "text/plain": [
       "√2⋅❘000⟩   √2⋅❘001⟩   √2⋅❘010⟩   √2⋅❘011⟩   √2⋅❘100⟩   √2⋅❘101⟩   √2⋅❘110⟩   √\n",
       "──────── + ──────── + ──────── + ──────── + ──────── + ──────── + ──────── + ─\n",
       "   4          4          4          4          4          4          4        \n",
       "\n",
       "2⋅❘111⟩\n",
       "───────\n",
       "  4    "
      ]
     },
     "execution_count": 20,
     "metadata": {},
     "output_type": "execute_result"
    }
   ],
   "source": [
    "# |000> を量子フーリエ変換してください。\n",
    "\n",
    "qapply(QFT(0,3)*Qubit('000'))"
   ]
  },
  {
   "cell_type": "code",
   "execution_count": 21,
   "metadata": {},
   "outputs": [
    {
     "data": {
      "image/png": "[encoded data removed]",
      "text/latex": [
       "$\\displaystyle \\frac{\\sqrt{2} {\\left|000\\right\\rangle }}{4} + \\frac{\\sqrt{2} e^{\\frac{i \\pi}{4}} {\\left|001\\right\\rangle }}{4} + \\frac{\\sqrt{2} i {\\left|010\\right\\rangle }}{4} + \\frac{\\sqrt{2} i e^{\\frac{i \\pi}{4}} {\\left|011\\right\\rangle }}{4} - \\frac{\\sqrt{2} {\\left|100\\right\\rangle }}{4} - \\frac{\\sqrt{2} e^{\\frac{i \\pi}{4}} {\\left|101\\right\\rangle }}{4} - \\frac{\\sqrt{2} i {\\left|110\\right\\rangle }}{4} - \\frac{\\sqrt{2} i e^{\\frac{i \\pi}{4}} {\\left|111\\right\\rangle }}{4}$"
      ],
      "text/plain": [
       "               ⅈ⋅π                            ⅈ⋅π                        ⅈ⋅π  \n",
       "               ───                            ───                        ───  \n",
       "                4                              4                          4   \n",
       "√2⋅❘000⟩   √2⋅ℯ   ⋅❘001⟩   √2⋅ⅈ⋅❘010⟩   √2⋅ⅈ⋅ℯ   ⋅❘011⟩   √2⋅❘100⟩   √2⋅ℯ   ⋅❘\n",
       "──────── + ───────────── + ────────── + ─────────────── - ──────── - ─────────\n",
       "   4             4             4               4             4             4  \n",
       "\n",
       "                          ⅈ⋅π      \n",
       "                          ───      \n",
       "                           4       \n",
       "101⟩   √2⋅ⅈ⋅❘110⟩   √2⋅ⅈ⋅ℯ   ⋅❘111⟩\n",
       "──── - ────────── - ───────────────\n",
       "           4               4       "
      ]
     },
     "execution_count": 21,
     "metadata": {},
     "output_type": "execute_result"
    }
   ],
   "source": [
    "# |001> を量子フーリエ変換してください。\n",
    "\n",
    "qapply(QFT(0,3)*Qubit('001'))"
   ]
  },
  {
   "cell_type": "code",
   "execution_count": 22,
   "metadata": {
    "scrolled": true
   },
   "outputs": [
    {
     "data": {
      "image/png": "[encoded data removed]",
      "text/latex": [
       "$\\displaystyle \\frac{\\sqrt{2} {\\left|000\\right\\rangle }}{4} + \\frac{\\sqrt{2} i {\\left|001\\right\\rangle }}{4} - \\frac{\\sqrt{2} {\\left|010\\right\\rangle }}{4} - \\frac{\\sqrt{2} i {\\left|011\\right\\rangle }}{4} + \\frac{\\sqrt{2} {\\left|100\\right\\rangle }}{4} + \\frac{\\sqrt{2} i {\\left|101\\right\\rangle }}{4} - \\frac{\\sqrt{2} {\\left|110\\right\\rangle }}{4} - \\frac{\\sqrt{2} i {\\left|111\\right\\rangle }}{4}$"
      ],
      "text/plain": [
       "√2⋅❘000⟩   √2⋅ⅈ⋅❘001⟩   √2⋅❘010⟩   √2⋅ⅈ⋅❘011⟩   √2⋅❘100⟩   √2⋅ⅈ⋅❘101⟩   √2⋅❘11\n",
       "──────── + ────────── - ──────── - ────────── + ──────── + ────────── - ──────\n",
       "   4           4           4           4           4           4           4  \n",
       "\n",
       "0⟩   √2⋅ⅈ⋅❘111⟩\n",
       "── - ──────────\n",
       "         4     "
      ]
     },
     "execution_count": 22,
     "metadata": {},
     "output_type": "execute_result"
    }
   ],
   "source": [
    "# |010> を量子フーリエ変換してください。\n",
    "\n",
    "qapply(QFT(0,3)*Qubit('010'))"
   ]
  },
  {
   "cell_type": "code",
   "execution_count": 23,
   "metadata": {},
   "outputs": [
    {
     "data": {
      "image/png": "[encoded data removed]",
      "text/latex": [
       "$\\displaystyle \\frac{\\sqrt{2} {\\left|000\\right\\rangle }}{4} + \\frac{\\sqrt{2} i e^{\\frac{i \\pi}{4}} {\\left|001\\right\\rangle }}{4} - \\frac{\\sqrt{2} i {\\left|010\\right\\rangle }}{4} + \\frac{\\sqrt{2} e^{\\frac{i \\pi}{4}} {\\left|011\\right\\rangle }}{4} - \\frac{\\sqrt{2} {\\left|100\\right\\rangle }}{4} - \\frac{\\sqrt{2} i e^{\\frac{i \\pi}{4}} {\\left|101\\right\\rangle }}{4} + \\frac{\\sqrt{2} i {\\left|110\\right\\rangle }}{4} - \\frac{\\sqrt{2} e^{\\frac{i \\pi}{4}} {\\left|111\\right\\rangle }}{4}$"
      ],
      "text/plain": [
       "                 ⅈ⋅π                          ⅈ⋅π                          ⅈ⋅π\n",
       "                 ───                          ───                          ───\n",
       "                  4                            4                            4 \n",
       "√2⋅❘000⟩   √2⋅ⅈ⋅ℯ   ⋅❘001⟩   √2⋅ⅈ⋅❘010⟩   √2⋅ℯ   ⋅❘011⟩   √2⋅❘100⟩   √2⋅ⅈ⋅ℯ   \n",
       "──────── + ─────────────── - ────────── + ───────────── - ──────── - ─────────\n",
       "   4              4              4              4            4              4 \n",
       "\n",
       "                          ⅈ⋅π      \n",
       "                          ───      \n",
       "                           4       \n",
       "⋅❘101⟩   √2⋅ⅈ⋅❘110⟩   √2⋅ℯ   ⋅❘111⟩\n",
       "────── + ────────── - ─────────────\n",
       "             4              4      "
      ]
     },
     "execution_count": 23,
     "metadata": {},
     "output_type": "execute_result"
    }
   ],
   "source": [
    "# |011> を量子フーリエ変換してください。\n",
    "\n",
    "qapply(QFT(0,3)*Qubit('011'))"
   ]
  },
  {
   "cell_type": "code",
   "execution_count": 24,
   "metadata": {},
   "outputs": [
    {
     "data": {
      "image/png": "[encoded data removed]",
      "text/latex": [
       "$\\displaystyle \\frac{\\sqrt{2} {\\left|000\\right\\rangle }}{4} - \\frac{\\sqrt{2} {\\left|001\\right\\rangle }}{4} + \\frac{\\sqrt{2} {\\left|010\\right\\rangle }}{4} - \\frac{\\sqrt{2} {\\left|011\\right\\rangle }}{4} + \\frac{\\sqrt{2} {\\left|100\\right\\rangle }}{4} - \\frac{\\sqrt{2} {\\left|101\\right\\rangle }}{4} + \\frac{\\sqrt{2} {\\left|110\\right\\rangle }}{4} - \\frac{\\sqrt{2} {\\left|111\\right\\rangle }}{4}$"
      ],
      "text/plain": [
       "√2⋅❘000⟩   √2⋅❘001⟩   √2⋅❘010⟩   √2⋅❘011⟩   √2⋅❘100⟩   √2⋅❘101⟩   √2⋅❘110⟩   √\n",
       "──────── - ──────── + ──────── - ──────── + ──────── - ──────── + ──────── - ─\n",
       "   4          4          4          4          4          4          4        \n",
       "\n",
       "2⋅❘111⟩\n",
       "───────\n",
       "  4    "
      ]
     },
     "execution_count": 24,
     "metadata": {},
     "output_type": "execute_result"
    }
   ],
   "source": [
    "# |100> を量子フーリエ変換してください。\n",
    "\n",
    "qapply(QFT(0,3)*Qubit('100'))"
   ]
  },
  {
   "cell_type": "code",
   "execution_count": 25,
   "metadata": {},
   "outputs": [
    {
     "data": {
      "image/png": "[encoded data removed]",
      "text/latex": [
       "$\\displaystyle \\frac{\\sqrt{2} {\\left|000\\right\\rangle }}{4} - \\frac{\\sqrt{2} e^{\\frac{i \\pi}{4}} {\\left|001\\right\\rangle }}{4} + \\frac{\\sqrt{2} i {\\left|010\\right\\rangle }}{4} - \\frac{\\sqrt{2} i e^{\\frac{i \\pi}{4}} {\\left|011\\right\\rangle }}{4} - \\frac{\\sqrt{2} {\\left|100\\right\\rangle }}{4} + \\frac{\\sqrt{2} e^{\\frac{i \\pi}{4}} {\\left|101\\right\\rangle }}{4} - \\frac{\\sqrt{2} i {\\left|110\\right\\rangle }}{4} + \\frac{\\sqrt{2} i e^{\\frac{i \\pi}{4}} {\\left|111\\right\\rangle }}{4}$"
      ],
      "text/plain": [
       "               ⅈ⋅π                            ⅈ⋅π                        ⅈ⋅π  \n",
       "               ───                            ───                        ───  \n",
       "                4                              4                          4   \n",
       "√2⋅❘000⟩   √2⋅ℯ   ⋅❘001⟩   √2⋅ⅈ⋅❘010⟩   √2⋅ⅈ⋅ℯ   ⋅❘011⟩   √2⋅❘100⟩   √2⋅ℯ   ⋅❘\n",
       "──────── - ───────────── + ────────── - ─────────────── - ──────── + ─────────\n",
       "   4             4             4               4             4             4  \n",
       "\n",
       "                          ⅈ⋅π      \n",
       "                          ───      \n",
       "                           4       \n",
       "101⟩   √2⋅ⅈ⋅❘110⟩   √2⋅ⅈ⋅ℯ   ⋅❘111⟩\n",
       "──── - ────────── + ───────────────\n",
       "           4               4       "
      ]
     },
     "execution_count": 25,
     "metadata": {},
     "output_type": "execute_result"
    }
   ],
   "source": [
    "# |101> を量子フーリエ変換してください。\n",
    "\n",
    "qapply(QFT(0,3)*Qubit('101'))"
   ]
  },
  {
   "cell_type": "code",
   "execution_count": 26,
   "metadata": {},
   "outputs": [
    {
     "data": {
      "image/png": "[encoded data removed]",
      "text/latex": [
       "$\\displaystyle \\frac{\\sqrt{2} {\\left|000\\right\\rangle }}{4} - \\frac{\\sqrt{2} i {\\left|001\\right\\rangle }}{4} - \\frac{\\sqrt{2} {\\left|010\\right\\rangle }}{4} + \\frac{\\sqrt{2} i {\\left|011\\right\\rangle }}{4} + \\frac{\\sqrt{2} {\\left|100\\right\\rangle }}{4} - \\frac{\\sqrt{2} i {\\left|101\\right\\rangle }}{4} - \\frac{\\sqrt{2} {\\left|110\\right\\rangle }}{4} + \\frac{\\sqrt{2} i {\\left|111\\right\\rangle }}{4}$"
      ],
      "text/plain": [
       "√2⋅❘000⟩   √2⋅ⅈ⋅❘001⟩   √2⋅❘010⟩   √2⋅ⅈ⋅❘011⟩   √2⋅❘100⟩   √2⋅ⅈ⋅❘101⟩   √2⋅❘11\n",
       "──────── - ────────── - ──────── + ────────── + ──────── - ────────── - ──────\n",
       "   4           4           4           4           4           4           4  \n",
       "\n",
       "0⟩   √2⋅ⅈ⋅❘111⟩\n",
       "── + ──────────\n",
       "         4     "
      ]
     },
     "execution_count": 26,
     "metadata": {},
     "output_type": "execute_result"
    }
   ],
   "source": [
    "# |110> を量子フーリエ変換してください。\n",
    "\n",
    "qapply(QFT(0,3)*Qubit('110'))"
   ]
  },
  {
   "cell_type": "code",
   "execution_count": 27,
   "metadata": {},
   "outputs": [
    {
     "data": {
      "image/png": "[encoded data removed]",
      "text/latex": [
       "$\\displaystyle \\frac{\\sqrt{2} {\\left|000\\right\\rangle }}{4} - \\frac{\\sqrt{2} i e^{\\frac{i \\pi}{4}} {\\left|001\\right\\rangle }}{4} - \\frac{\\sqrt{2} i {\\left|010\\right\\rangle }}{4} - \\frac{\\sqrt{2} e^{\\frac{i \\pi}{4}} {\\left|011\\right\\rangle }}{4} - \\frac{\\sqrt{2} {\\left|100\\right\\rangle }}{4} + \\frac{\\sqrt{2} i e^{\\frac{i \\pi}{4}} {\\left|101\\right\\rangle }}{4} + \\frac{\\sqrt{2} i {\\left|110\\right\\rangle }}{4} + \\frac{\\sqrt{2} e^{\\frac{i \\pi}{4}} {\\left|111\\right\\rangle }}{4}$"
      ],
      "text/plain": [
       "                 ⅈ⋅π                          ⅈ⋅π                          ⅈ⋅π\n",
       "                 ───                          ───                          ───\n",
       "                  4                            4                            4 \n",
       "√2⋅❘000⟩   √2⋅ⅈ⋅ℯ   ⋅❘001⟩   √2⋅ⅈ⋅❘010⟩   √2⋅ℯ   ⋅❘011⟩   √2⋅❘100⟩   √2⋅ⅈ⋅ℯ   \n",
       "──────── - ─────────────── - ────────── - ───────────── - ──────── + ─────────\n",
       "   4              4              4              4            4              4 \n",
       "\n",
       "                          ⅈ⋅π      \n",
       "                          ───      \n",
       "                           4       \n",
       "⋅❘101⟩   √2⋅ⅈ⋅❘110⟩   √2⋅ℯ   ⋅❘111⟩\n",
       "────── + ────────── + ─────────────\n",
       "             4              4      "
      ]
     },
     "execution_count": 27,
     "metadata": {},
     "output_type": "execute_result"
    }
   ],
   "source": [
    "# |111> を量子フーリエ変換してください。\n",
    "\n",
    "qapply(QFT(0,3)*Qubit('111'))"
   ]
  },
  {
   "cell_type": "code",
   "execution_count": 28,
   "metadata": {},
   "outputs": [
    {
     "data": {
      "image/png": "[encoded data removed]",
      "text/latex": [
       "$\\displaystyle SWAP_{0,2} H_{0} C_{0}{\\left(S_{1}\\right)} H_{1} C_{0}{\\left(T_{2}\\right)} C_{1}{\\left(S_{2}\\right)} H_{2}$"
      ],
      "text/plain": [
       "SWAP   ⋅H ⋅C ⎛S ⎞⋅H ⋅C ⎛T ⎞⋅C ⎛S ⎞⋅H \n",
       "    0,2  0  0⎝ 1⎠  1  0⎝ 2⎠  1⎝ 2⎠  2"
      ]
     },
     "execution_count": 28,
     "metadata": {},
     "output_type": "execute_result"
    }
   ],
   "source": [
    "### QFT(0,3) は、SymPy ではひと塊りのまとまったオペレータとして定義されています。\n",
    "### 基本ゲートを知るためには、decompose() を使います。\n",
    "QFT(0,3).decompose()"
   ]
  },
  {
   "cell_type": "code",
   "execution_count": 29,
   "metadata": {},
   "outputs": [
    {
     "data": {
      "text/plain": [
       "<sympy.physics.quantum.circuitplot.CircuitPlot at 0x114f91a20>"
      ]
     },
     "execution_count": 29,
     "metadata": {},
     "output_type": "execute_result"
    },
    {
     "data": {
      "image/png": "[encoded data removed]",
      "text/plain": [
       "<Figure size 504x216 with 1 Axes>"
      ]
     },
     "metadata": {},
     "output_type": "display_data"
    }
   ],
   "source": [
    "# QFT(0,3) の量子回路図を CircuitPlot() で作図してください。\n",
    "\n",
    "\n",
    "CircuitPlot(QFT(0,3).decompose(), nqubits=3)"
   ]
  },
  {
   "cell_type": "code",
   "execution_count": 30,
   "metadata": {},
   "outputs": [
    {
     "data": {
      "image/png": "[encoded data removed]",
      "text/latex": [
       "$\\displaystyle SWAP_{0,2} H_{0} C_{0}{\\left(S_{1}\\right)} H_{1} C_{0}{\\left(T_{2}\\right)} C_{1}{\\left(S_{2}\\right)} H_{2}$"
      ],
      "text/plain": [
       "SWAP   ⋅H ⋅C ⎛S ⎞⋅H ⋅C ⎛T ⎞⋅C ⎛S ⎞⋅H \n",
       "    0,2  0  0⎝ 1⎠  1  0⎝ 2⎠  1⎝ 2⎠  2"
      ]
     },
     "execution_count": 30,
     "metadata": {},
     "output_type": "execute_result"
    }
   ],
   "source": [
    "# decompose() した上記の回路を改めて、定義しなおします。\n",
    "qft3_decomp = SWAP(0,2)*H(0)*CGateS((0,),S(1))*H(1)*CGateS((0,),T(2))*CGateS((1,),S(2))*H(2)\n",
    "qft3_decomp"
   ]
  },
  {
   "cell_type": "code",
   "execution_count": 31,
   "metadata": {},
   "outputs": [
    {
     "data": {
      "text/plain": [
       "<sympy.physics.quantum.circuitplot.CircuitPlot at 0x114f913c8>"
      ]
     },
     "execution_count": 31,
     "metadata": {},
     "output_type": "execute_result"
    },
    {
     "data": {
      "image/png": "[encoded data removed]",
      "text/plain": [
       "<Figure size 504x216 with 1 Axes>"
      ]
     },
     "metadata": {},
     "output_type": "display_data"
    }
   ],
   "source": [
    "# 上記で定義しなおした QFT の量子回路図を CircuitPlot() で作図します。\n",
    "# QFT(0,3).decompose() の量子回路図と比較してください。\n",
    "CircuitPlot(qft3_decomp,nqubits=3)"
   ]
  },
  {
   "cell_type": "markdown",
   "metadata": {},
   "source": [
    "<strong>\n",
    "問２）  \n",
    "\n",
    "１. ３量子ビットを対象にした、量子フーリエ変換を基本的な量子ゲートだけで表してください。  \n",
    "　  $\\sqrt{T}$ゲートである Rk(n,4) は利用してもよい。\n",
    "　  \n",
    "\n",
    "・演算をテンソル積で表してください。  \n",
    "\n",
    "・（この場合の量子回路図は、うまく描けません。）  \n",
    "　  \n",
    "　  \n",
    "</strong>"
   ]
  },
  {
   "cell_type": "markdown",
   "metadata": {},
   "source": [
    "（ヒント）$c_{g}$ をグローバル位相として、Z軸回転\n",
    "$ R_{z\\theta} = c_{g} X \\cdot R_{z\\theta/2}^{\\dagger} \\cdot X \\cdot R_{z\\theta/2} $\n",
    "と表せることを使います。"
   ]
  },
  {
   "cell_type": "code",
   "execution_count": 32,
   "metadata": {
    "scrolled": true
   },
   "outputs": [
    {
     "name": "stdout",
     "output_type": "stream",
     "text": [
      "⎡1  0⎤\n",
      "⎢    ⎥\n",
      "⎣0  ⅈ⎦\n"
     ]
    },
    {
     "data": {
      "image/png": "[encoded data removed]",
      "text/latex": [
       "$\\displaystyle \\left[\\begin{matrix}1 & 0\\\\0 & i\\end{matrix}\\right]$"
      ],
      "text/plain": [
       "⎡1  0⎤\n",
       "⎢    ⎥\n",
       "⎣0  ⅈ⎦"
      ]
     },
     "execution_count": 32,
     "metadata": {},
     "output_type": "execute_result"
    }
   ],
   "source": [
    "# S = c・X・T†・X・T であることを示します。\n",
    "pprint(represent(S(0),nqubits=1))\n",
    "represent(exp(I*pi/4)*X(0)*T(0)**(-1)*X(0)*T(0),nqubits=1)"
   ]
  },
  {
   "cell_type": "code",
   "execution_count": 33,
   "metadata": {},
   "outputs": [
    {
     "name": "stdout",
     "output_type": "stream",
     "text": [
      "⎡1   0  ⎤\n",
      "⎢       ⎥\n",
      "⎢    ⅈ⋅π⎥\n",
      "⎢    ───⎥\n",
      "⎢     4 ⎥\n",
      "⎣0  ℯ   ⎦\n"
     ]
    },
    {
     "data": {
      "image/png": "[encoded data removed]",
      "text/latex": [
       "$\\displaystyle \\left[\\begin{matrix}1 & 0\\\\0 & e^{\\frac{i \\pi}{4}}\\end{matrix}\\right]$"
      ],
      "text/plain": [
       "⎡1   0  ⎤\n",
       "⎢       ⎥\n",
       "⎢    ⅈ⋅π⎥\n",
       "⎢    ───⎥\n",
       "⎢     4 ⎥\n",
       "⎣0  ℯ   ⎦"
      ]
     },
     "execution_count": 33,
     "metadata": {},
     "output_type": "execute_result"
    }
   ],
   "source": [
    "# T = c・X・sqrt(T)†・X・sqrt(T) であることを示します。\n",
    "pprint(represent(T(0),nqubits=1))\n",
    "represent(exp(I*pi/8)*X(0)*Rk(0,4)**(-1)*X(0)*Rk(0,4),nqubits=1)"
   ]
  },
  {
   "cell_type": "code",
   "execution_count": 34,
   "metadata": {},
   "outputs": [
    {
     "data": {
      "image/png": "[encoded data removed]",
      "text/latex": [
       "$\\displaystyle SWAP_{0,2} H_{0} CNOT_{0,1} T_{1}^{-1} CNOT_{0,1} T_{1} H_{1} C_{0}{\\left(T_{2}\\right)} CNOT_{1,2} T_{2}^{-1} CNOT_{1,2} T_{2} H_{2}$"
      ],
      "text/plain": [
       "                       -1                                  -1              \n",
       "SWAP   ⋅H ⋅CNOT   ⋅⎛T ⎞  ⋅CNOT   ⋅T ⋅H ⋅C ⎛T ⎞⋅CNOT   ⋅⎛T ⎞  ⋅CNOT   ⋅T ⋅H \n",
       "    0,2  0     0,1 ⎝ 1⎠       0,1  1  1  0⎝ 2⎠     1,2 ⎝ 2⎠       1,2  2  2"
      ]
     },
     "execution_count": 34,
     "metadata": {},
     "output_type": "execute_result"
    }
   ],
   "source": [
    "# qft3_decomp = SWAP(0,2)*H(0)*CGateS((0,),S(1))*H(1)*CGateS((0,),T(2))*CGateS((1,),S(2))*H(2)\n",
    "# qft3_decomp を見ながら、制御Ｓゲートを置き換えて、qft3_decomp2 へ代入します。\n",
    "\n",
    "qft3_decomp2 = SWAP(0,2)*H(0)*CNOT(0,1)*T(1)**(-1)*CNOT(0,1)*T(1)*H(1)*CGateS((0,),T(2))*CNOT(1,2)*T(2)**(-1)*CNOT(1,2)*T(2)*H(2)\n",
    "qft3_decomp2"
   ]
  },
  {
   "cell_type": "code",
   "execution_count": 35,
   "metadata": {},
   "outputs": [
    {
     "data": {
      "image/png": "[encoded data removed]",
      "text/latex": [
       "$\\displaystyle SWAP_{0,2} H_{0} CNOT_{0,1} T_{1}^{-1} CNOT_{0,1} T_{1} H_{1} CNOT_{0,2} R_{2,4}^{-1} CNOT_{0,2} R_{2,4} CNOT_{1,2} T_{2}^{-1} CNOT_{1,2} T_{2} H_{2}$"
      ],
      "text/plain": [
       "                       -1                              -1                     \n",
       "SWAP   ⋅H ⋅CNOT   ⋅⎛T ⎞  ⋅CNOT   ⋅T ⋅H ⋅CNOT   ⋅⎛Rk   ⎞  ⋅CNOT   ⋅Rk   ⋅CNOT  \n",
       "    0,2  0     0,1 ⎝ 1⎠       0,1  1  1     0,2 ⎝  2,4⎠       0,2   2,4     1,\n",
       "\n",
       "      -1              \n",
       " ⋅⎛T ⎞  ⋅CNOT   ⋅T ⋅H \n",
       "2 ⎝ 2⎠       1,2  2  2"
      ]
     },
     "execution_count": 35,
     "metadata": {},
     "output_type": "execute_result"
    }
   ],
   "source": [
    "# qft3_decomp2 = SWAP(0,2)*H(0)*CNOT(0,1)*T(1)**(-1)*CNOT(0,1)*T(1)*H(1)*CGateS((0,),T(2))*CNOT(1,2)*T(2)**(-1)*CNOT(1,2)*T(2)*H(2)\n",
    "# qft3_decomp を見ながら、制御Ｔゲートを置き換えて、qft3_decomp3 へ代入します。\n",
    "\n",
    "qft3_decomp3 = SWAP(0,2)*H(0)*CNOT(0,1)*T(1)**(-1)*CNOT(0,1)*T(1)*H(1)*CNOT(0,2)*Rk(2,4)**(-1)*CNOT(0,2)*Rk(2,4)*CNOT(1,2)*T(2)**(-1)*CNOT(1,2)*T(2)*H(2)\n",
    "qft3_decomp3"
   ]
  },
  {
   "cell_type": "code",
   "execution_count": 36,
   "metadata": {},
   "outputs": [
    {
     "data": {
      "image/png": "[encoded data removed]",
      "text/latex": [
       "$\\displaystyle \\left[\\begin{matrix}\\frac{\\sqrt{2}}{4} & \\frac{\\sqrt{2}}{4} & \\frac{\\sqrt{2}}{4} & \\frac{\\sqrt{2}}{4} & \\frac{\\sqrt{2}}{4} & \\frac{\\sqrt{2}}{4} & \\frac{\\sqrt{2}}{4} & \\frac{\\sqrt{2}}{4}\\end{matrix}\\right]$"
      ],
      "text/plain": [
       "⎡√2  √2  √2  √2  √2  √2  √2  √2⎤\n",
       "⎢──  ──  ──  ──  ──  ──  ──  ──⎥\n",
       "⎣4   4   4   4   4   4   4   4 ⎦"
      ]
     },
     "execution_count": 36,
     "metadata": {},
     "output_type": "execute_result"
    }
   ],
   "source": [
    "# |000> の量子フーリエ変換の結果をみます。\n",
    "### ゲート操作が少し複雑になるため、SymPyがうまく判断できません。\n",
    "### represent()で計算します。解答例では、結果が縦ベクトルで行数が長くなるのを嫌い、transpose()します。\n",
    "\n",
    "# （解答例）transpose(represent(qft3_decomp2*Qubit('000'), nqubits=3))\n",
    "\n",
    "\n",
    "transpose(represent(qft3_decomp2*Qubit('000'), nqubits=3))"
   ]
  },
  {
   "cell_type": "code",
   "execution_count": 37,
   "metadata": {},
   "outputs": [
    {
     "data": {
      "image/png": "[encoded data removed]",
      "text/latex": [
       "$\\displaystyle \\left[\\begin{matrix}\\frac{\\sqrt{2}}{4} & \\frac{\\sqrt{2} e^{\\frac{i \\pi}{4}}}{4} & \\frac{\\sqrt{2} i}{4} & \\frac{\\sqrt{2} i e^{\\frac{i \\pi}{4}}}{4} & - \\frac{\\sqrt{2}}{4} & - \\frac{\\sqrt{2} e^{\\frac{i \\pi}{4}}}{4} & - \\frac{\\sqrt{2} i}{4} & - \\frac{\\sqrt{2} i e^{\\frac{i \\pi}{4}}}{4}\\end{matrix}\\right]$"
      ],
      "text/plain": [
       "⎡        ⅈ⋅π              ⅈ⋅π             ⅈ⋅π                  ⅈ⋅π ⎤\n",
       "⎢        ───              ───             ───                  ─── ⎥\n",
       "⎢         4                4               4                    4  ⎥\n",
       "⎢√2  √2⋅ℯ     √2⋅ⅈ  √2⋅ⅈ⋅ℯ     -√2   -√2⋅ℯ      -√2⋅ⅈ   -√2⋅ⅈ⋅ℯ    ⎥\n",
       "⎢──  ───────  ────  ─────────  ────  ─────────  ──────  ───────────⎥\n",
       "⎣4      4      4        4       4        4        4          4     ⎦"
      ]
     },
     "execution_count": 37,
     "metadata": {},
     "output_type": "execute_result"
    }
   ],
   "source": [
    "# |001> の量子フーリエ変換の結果をみます。\n",
    "### グローバル位相 exp(I*pi/4) をかけると同じになります。\n",
    "\n",
    "exp(I*pi/4)*transpose(represent(qft3_decomp2*Qubit('001'), nqubits=3))"
   ]
  },
  {
   "cell_type": "code",
   "execution_count": 38,
   "metadata": {
    "scrolled": true
   },
   "outputs": [
    {
     "data": {
      "image/png": "[encoded data removed]",
      "text/latex": [
       "$\\displaystyle \\left[\\begin{matrix}\\frac{\\sqrt{2}}{4} & \\frac{\\sqrt{2} i}{4} & - \\frac{\\sqrt{2}}{4} & - \\frac{\\sqrt{2} i}{4} & \\frac{\\sqrt{2}}{4} & \\frac{\\sqrt{2} i}{4} & - \\frac{\\sqrt{2}}{4} & - \\frac{\\sqrt{2} i}{4}\\end{matrix}\\right]$"
      ],
      "text/plain": [
       "⎡√2  √2⋅ⅈ  -√2   -√2⋅ⅈ   √2  √2⋅ⅈ  -√2   -√2⋅ⅈ ⎤\n",
       "⎢──  ────  ────  ──────  ──  ────  ────  ──────⎥\n",
       "⎣4    4     4      4     4    4     4      4   ⎦"
      ]
     },
     "execution_count": 38,
     "metadata": {},
     "output_type": "execute_result"
    }
   ],
   "source": [
    "# |010> の量子フーリエ変換の結果をみます。\n",
    "### グローバル位相 exp(I*pi/4) をかけると同じになります。\n",
    "\n",
    "exp(I*pi/4)*transpose(represent(qft3_decomp2*Qubit('010'), nqubits=3))"
   ]
  },
  {
   "cell_type": "code",
   "execution_count": 39,
   "metadata": {},
   "outputs": [
    {
     "data": {
      "image/png": "[encoded data removed]",
      "text/latex": [
       "$\\displaystyle \\left[\\begin{matrix}\\frac{\\sqrt{2}}{4} & - \\frac{\\sqrt{2} e^{- \\frac{i \\pi}{4}}}{4} & - \\frac{\\sqrt{2} i}{4} & \\frac{\\sqrt{2} e^{\\frac{i \\pi}{4}}}{4} & - \\frac{\\sqrt{2}}{4} & \\frac{\\sqrt{2} e^{- \\frac{i \\pi}{4}}}{4} & \\frac{\\sqrt{2} i}{4} & - \\frac{\\sqrt{2} e^{\\frac{i \\pi}{4}}}{4}\\end{matrix}\\right]$"
      ],
      "text/plain": [
       "⎡         -ⅈ⋅π                ⅈ⋅π            -ⅈ⋅π              ⅈ⋅π ⎤\n",
       "⎢         ─────               ───            ─────             ─── ⎥\n",
       "⎢           4                  4               4                4  ⎥\n",
       "⎢√2  -√2⋅ℯ        -√2⋅ⅈ   √2⋅ℯ     -√2   √2⋅ℯ       √2⋅ⅈ  -√2⋅ℯ    ⎥\n",
       "⎢──  ───────────  ──────  ───────  ────  ─────────  ────  ─────────⎥\n",
       "⎣4        4         4        4      4        4       4        4    ⎦"
      ]
     },
     "execution_count": 39,
     "metadata": {},
     "output_type": "execute_result"
    }
   ],
   "source": [
    "# |011> の量子フーリエ変換の結果をみます。\n",
    "### グローバル位相 exp(I*pi/2) をかけると同じになります。\n",
    "\n",
    "exp(I*pi/2)*transpose(represent(qft3_decomp2*Qubit('011'), nqubits=3))"
   ]
  },
  {
   "cell_type": "code",
   "execution_count": 40,
   "metadata": {},
   "outputs": [
    {
     "data": {
      "image/png": "[encoded data removed]",
      "text/latex": [
       "$\\displaystyle \\left[\\begin{matrix}\\frac{\\sqrt{2}}{4} & - \\frac{\\sqrt{2}}{4} & \\frac{\\sqrt{2}}{4} & - \\frac{\\sqrt{2}}{4} & \\frac{\\sqrt{2}}{4} & - \\frac{\\sqrt{2}}{4} & \\frac{\\sqrt{2}}{4} & - \\frac{\\sqrt{2}}{4}\\end{matrix}\\right]$"
      ],
      "text/plain": [
       "⎡√2  -√2   √2  -√2   √2  -√2   √2  -√2 ⎤\n",
       "⎢──  ────  ──  ────  ──  ────  ──  ────⎥\n",
       "⎣4    4    4    4    4    4    4    4  ⎦"
      ]
     },
     "execution_count": 40,
     "metadata": {},
     "output_type": "execute_result"
    }
   ],
   "source": [
    "# |100> の量子フーリエ変換の結果をみます。\n",
    "\n",
    "transpose(represent(qft3_decomp2*Qubit('100'), nqubits=3))"
   ]
  },
  {
   "cell_type": "code",
   "execution_count": 41,
   "metadata": {},
   "outputs": [
    {
     "data": {
      "image/png": "[encoded data removed]",
      "text/latex": [
       "$\\displaystyle \\left[\\begin{matrix}\\frac{\\sqrt{2}}{4} & - \\frac{\\sqrt{2} e^{\\frac{i \\pi}{4}}}{4} & \\frac{\\sqrt{2} i}{4} & - \\frac{\\sqrt{2} i e^{\\frac{i \\pi}{4}}}{4} & - \\frac{\\sqrt{2}}{4} & \\frac{\\sqrt{2} e^{\\frac{i \\pi}{4}}}{4} & - \\frac{\\sqrt{2} i}{4} & \\frac{\\sqrt{2} i e^{\\frac{i \\pi}{4}}}{4}\\end{matrix}\\right]$"
      ],
      "text/plain": [
       "⎡         ⅈ⋅π                ⅈ⋅π             ⅈ⋅π                ⅈ⋅π⎤\n",
       "⎢         ───                ───             ───                ───⎥\n",
       "⎢          4                  4               4                  4 ⎥\n",
       "⎢√2  -√2⋅ℯ      √2⋅ⅈ  -√2⋅ⅈ⋅ℯ      -√2   √2⋅ℯ     -√2⋅ⅈ   √2⋅ⅈ⋅ℯ   ⎥\n",
       "⎢──  ─────────  ────  ───────────  ────  ───────  ──────  ─────────⎥\n",
       "⎣4       4       4         4        4       4       4         4    ⎦"
      ]
     },
     "execution_count": 41,
     "metadata": {},
     "output_type": "execute_result"
    }
   ],
   "source": [
    "# |101> の量子フーリエ変換の結果をみます。\n",
    "### グローバル位相 exp(I*pi/4) をかけると同じになります。\n",
    "\n",
    "exp(I*pi/4)*transpose(represent(qft3_decomp2*Qubit('101'), nqubits=3))"
   ]
  },
  {
   "cell_type": "code",
   "execution_count": 42,
   "metadata": {},
   "outputs": [
    {
     "data": {
      "image/png": "[encoded data removed]",
      "text/latex": [
       "$\\displaystyle \\left[\\begin{matrix}\\frac{\\sqrt{2}}{4} & - \\frac{\\sqrt{2} i}{4} & - \\frac{\\sqrt{2}}{4} & \\frac{\\sqrt{2} i}{4} & \\frac{\\sqrt{2}}{4} & - \\frac{\\sqrt{2} i}{4} & - \\frac{\\sqrt{2}}{4} & \\frac{\\sqrt{2} i}{4}\\end{matrix}\\right]$"
      ],
      "text/plain": [
       "⎡√2  -√2⋅ⅈ   -√2   √2⋅ⅈ  √2  -√2⋅ⅈ   -√2   √2⋅ⅈ⎤\n",
       "⎢──  ──────  ────  ────  ──  ──────  ────  ────⎥\n",
       "⎣4     4      4     4    4     4      4     4  ⎦"
      ]
     },
     "execution_count": 42,
     "metadata": {},
     "output_type": "execute_result"
    }
   ],
   "source": [
    "# |110> の量子フーリエ変換の結果をみます。\n",
    "### グローバル位相 exp(I*pi/4) をかけると同じになります。\n",
    "\n",
    "\n",
    "exp(I*pi/4)*transpose(represent(qft3_decomp2*Qubit('110'), nqubits=3))"
   ]
  },
  {
   "cell_type": "code",
   "execution_count": 43,
   "metadata": {},
   "outputs": [
    {
     "data": {
      "image/png": "[encoded data removed]",
      "text/latex": [
       "$\\displaystyle \\left[\\begin{matrix}\\frac{\\sqrt{2}}{4} & \\frac{\\sqrt{2} e^{- \\frac{i \\pi}{4}}}{4} & - \\frac{\\sqrt{2} i}{4} & - \\frac{\\sqrt{2} e^{\\frac{i \\pi}{4}}}{4} & - \\frac{\\sqrt{2}}{4} & - \\frac{\\sqrt{2} e^{- \\frac{i \\pi}{4}}}{4} & \\frac{\\sqrt{2} i}{4} & \\frac{\\sqrt{2} e^{\\frac{i \\pi}{4}}}{4}\\end{matrix}\\right]$"
      ],
      "text/plain": [
       "⎡        -ⅈ⋅π                ⅈ⋅π              -ⅈ⋅π              ⅈ⋅π⎤\n",
       "⎢        ─────               ───              ─────             ───⎥\n",
       "⎢          4                  4                 4                4 ⎥\n",
       "⎢√2  √2⋅ℯ       -√2⋅ⅈ   -√2⋅ℯ      -√2   -√2⋅ℯ        √2⋅ⅈ  √2⋅ℯ   ⎥\n",
       "⎢──  ─────────  ──────  ─────────  ────  ───────────  ────  ───────⎥\n",
       "⎣4       4        4         4       4         4        4       4   ⎦"
      ]
     },
     "execution_count": 43,
     "metadata": {},
     "output_type": "execute_result"
    }
   ],
   "source": [
    "# |111> の量子フーリエ変換の結果をみます。\n",
    "### グローバル位相 exp(I*pi/2) をかけると同じになります。\n",
    "\n",
    "\n",
    "exp(I*pi/2)*transpose(represent(qft3_decomp2*Qubit('111'), nqubits=3))"
   ]
  },
  {
   "cell_type": "code",
   "execution_count": null,
   "metadata": {},
   "outputs": [],
   "source": []
  }
 ],
 "metadata": {
  "kernelspec": {
   "display_name": "Python 3",
   "language": "python",
   "name": "python3"
  },
  "language_info": {
   "codemirror_mode": {
    "name": "ipython",
    "version": 3
   },
   "file_extension": ".py",
   "mimetype": "text/x-python",
   "name": "python",
   "nbconvert_exporter": "python",
   "pygments_lexer": "ipython3",
   "version": "3.7.0"
  }
 },
 "nbformat": 4,
 "nbformat_minor": 2
}
