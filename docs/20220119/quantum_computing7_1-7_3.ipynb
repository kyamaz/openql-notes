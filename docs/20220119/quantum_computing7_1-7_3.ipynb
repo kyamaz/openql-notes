{
 "cells": [
  {
   "cell_type": "markdown",
   "metadata": {},
   "source": [
    "※ M1 mac での対応がいまひとつです。"
   ]
  },
  {
   "cell_type": "markdown",
   "metadata": {},
   "source": [
    "# 量子コンピュータのプログラミング\n",
    "## 7.1 抽象化レイヤで整理する"
   ]
  },
  {
   "cell_type": "markdown",
   "metadata": {},
   "source": [
    "## 7.2 古典に学ぶ量子プログラミング\n",
    "### 7.2.1 高級言語とハードウェア記述言語（HDL）\n",
    "\n",
    "* Verilog\n",
    "https://ja.wikipedia.org/wiki/Verilog"
   ]
  },
  {
   "cell_type": "markdown",
   "metadata": {},
   "source": [
    "### 7.2.2 ハードウェアとソフトウェアをつなぐ"
   ]
  },
  {
   "cell_type": "markdown",
   "metadata": {},
   "source": [
    "### 7.2.3 量子コンピュータ＝量子アクセラレータ？"
   ]
  },
  {
   "cell_type": "code",
   "execution_count": null,
   "metadata": {},
   "outputs": [],
   "source": [
    "// Quantum Teleportation\n",
    "OPENQASM 2.0;\n",
    "include \"qelib1.inc\"\n",
    "qreg q[3];\n",
    "creg c[3];\n",
    "u1(0.1, 0.2, 0.3) q[0];\n",
    "h q[1];\n",
    "cx q[1], q[2];\n",
    "barrier q;\n",
    "cx q[0], q[1];\n",
    "h q[0];\n",
    "measure q[0] -> c[0];\n",
    "measure q[1] -> c[1];\n",
    "if (c==1) z q[2];\n",
    "if (c==2) x q[2];\n",
    "if (c==3) y q[2];"
   ]
  },
  {
   "cell_type": "markdown",
   "metadata": {},
   "source": [
    "## 7.3 量子プログラミング言語\n",
    "### 7.3.1 高級言語の利点とは何でしょう？"
   ]
  },
  {
   "cell_type": "markdown",
   "metadata": {},
   "source": [
    "### 7.3.2 命令型量子プログラミング言語"
   ]
  },
  {
   "cell_type": "code",
   "execution_count": null,
   "metadata": {},
   "outputs": [],
   "source": [
    "// QCLのサンプルコード（引用）\n",
    "qureg q[3];\n",
    "int a=0; int b=0;\n",
    "reset;\n",
    "H(q[0]);\n",
    "V(0.3, q[0]);\n",
    "H(q[1]);\n",
    "CNot(q[2], q[1]);\n",
    "CNot(q[1], q[0] );\n",
    "measure q[1], a;\n",
    "if (a == 1) { X(q[2]); }\n",
    "measure q[0], b;\n",
    "if (b == 1) { Z(q[2]); }"
   ]
  },
  {
   "cell_type": "code",
   "execution_count": null,
   "metadata": {},
   "outputs": [],
   "source": [
    "## Qiskitのサンプルコード（執筆時）\n",
    "from qiskit import QuantumRegister, ClasscalRegister\n",
    "from qiskit import QuantumCircuit, execute, Aer\n",
    "import numpy as np\n",
    "qc = QuantumCircuit()\n",
    "q = QuantumRegister(3, 'q')\n",
    "c = ClassicalRegister(3, 'c')\n",
    "qc.add_register(q)\n",
    "qc .add_register(c)\n",
    "qc.h(q[0])\n",
    "qc.u1(0.3, q[0])\n",
    "qc.h(q[1])\n",
    "qc.cx(q[1], q[2])\n",
    "qc.cx(q[0], q[1])\n",
    "qc.h(q[0])\n",
    "qc.measure(q[0], c[0])\n",
    "qc.measure(q[1], c[1])\n",
    "qc.z(q[2].c_if(c, 1))\n",
    "qc.x(q[2].c_if(c, 2))\n",
    "qc.y(q[2].c_if(c, 3))"
   ]
  },
  {
   "cell_type": "markdown",
   "metadata": {},
   "source": [
    "### 7.3.3 関数型プログラミング言語"
   ]
  },
  {
   "cell_type": "code",
   "execution_count": null,
   "metadata": {},
   "outputs": [],
   "source": [
    "## Quantum Teleportation (Quipper on Haskell)\n",
    "bell00 :: Circ (Qubit, Qubit)\n",
    "bell00 = do\n",
    "    a <- qint False\n",
    "    b <- qint False\n",
    "    a <- hadamard a\n",
    "    b <- qnot b 'controlled' q\n",
    "    return (a, b)\n",
    "\n",
    "alice :: Qubit -> Qubit -> Circ (Qubit, Qubit)\n",
    "alice q a = do\n",
    "    a <- qnot a 'controlled' q\n",
    "    q <- hadamard q\n",
    "    (x, y) <- measure (q, a)\n",
    "    return (x, y)\n",
    "\n",
    "bob :: Qubit -> (Bit, BIt) -> Circ Qubit\n",
    "bob b (x, y) = do\n",
    "    b <- gate_X b 'controlled' y\n",
    "    b <- gate_Z b 'controlled' x\n",
    "    cdiscard (x, y)\n",
    "    return b\n",
    "\n",
    "teleport :: Qubit -> Circ Qubit\n",
    "teleport = do\n",
    "    (a, b) <- bell00\n",
    "    (x,y) <- allice q a\n",
    "    b <- bob b (x, y)\n",
    "    return b\n"
   ]
  },
  {
   "cell_type": "code",
   "execution_count": null,
   "metadata": {},
   "outputs": [],
   "source": [
    "// Quantum Teleportation (Q-Sharp)\n",
    "operation Teleport(msg: Qubit, there : Qubit) : Unit {\n",
    "    using (here = Qubit()) {\n",
    "        H(here);\n",
    "        CNOT(here, there);\n",
    "        CNOT(msg, here);\n",
    "        H(msg);\n",
    "        if (M(msg) == One) { Z(there); }\n",
    "        if (M(here) == One) { X(there); }\n",
    "        \n",
    "        // thereを使う\n",
    "    }\n",
    "}"
   ]
  }
 ],
 "metadata": {
  "kernelspec": {
   "display_name": "Python 3 (ipykernel)",
   "language": "python",
   "name": "python3"
  },
  "language_info": {
   "codemirror_mode": {
    "name": "ipython",
    "version": 3
   },
   "file_extension": ".py",
   "mimetype": "text/x-python",
   "name": "python",
   "nbconvert_exporter": "python",
   "pygments_lexer": "ipython3",
   "version": "3.7.12"
  }
 },
 "nbformat": 4,
 "nbformat_minor": 2
}
