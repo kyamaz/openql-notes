{
 "cells": [
  {
   "cell_type": "markdown",
   "metadata": {},
   "source": [
    "# 量子コンピュータのプログラミング"
   ]
  },
  {
   "cell_type": "markdown",
   "metadata": {},
   "source": [
    "## 7.4 量子コンパイラ\n",
    "### 7.4.1 量子コンパイラと古典コンパイラ\n",
    "\n",
    "\n",
    "コンパイラの役割\n",
    "\n",
    "```\n",
    "- ソースコードを読み込み、トークンに分解する字句解析部や字句解析器\n",
    "- トークン列をもとにプログラムの構文木を構築する構文解析部や構文解析器\n",
    "- 中間コード作成（省略可能）\n",
    "- 最適化\n",
    "- 構文木からオブジェクトコードを生成するコード生成部\n",
    "```\n",
    "[Wiki:コンパイラ](https://ja.wikipedia.org/wiki/%E3%82%B3%E3%83%B3%E3%83%91%E3%82%A4%E3%83%A9)　より\n",
    "\n",
    "\n",
    "（例）\n",
    "```\n",
    "- LLVMをベースにしたScaffCC\n",
    "- Qiskit Terra (IBM)\n",
    "```\n",
    "\n",
    "（量子計算で課題になる点）\n",
    "\n",
    "* ゲート分解、回路の変換\n",
    "* スケジューリング\n",
    "* 量子ビットのマッピング\n",
    "* 量子レジスタ割り当て\n",
    "* 補助量子ビットの付加・再利用\n",
    "* クロストークの緩和\n",
    "\n",
    "\n",
    "（参考）\n",
    "\n",
    "![シミュレータを含めたコンパイラの例](mitou_2019.png)\n"
   ]
  },
  {
   "cell_type": "markdown",
   "metadata": {},
   "source": [
    "### 7.4.2 静的コンパイル\n",
    "\n",
    "- ループ展開\n",
    "- インライン展開\n",
    "\n",
    "↑このあたりよりも↓こちらの方が量子的な課題としては大きい\n",
    "\n",
    "- 並列処理による最適化\n",
    "\n",
    "- 量子条件式（qif）の言語仕様的な扱い\n",
    "- 停止性の解析\n",
    "\n",
    "→参考書：「量子プログラミングの基礎」（共立出版、Mingsheng Ying 著・川辺 治之訳、2017年）\n"
   ]
  },
  {
   "cell_type": "markdown",
   "metadata": {},
   "source": [
    "### 7.4.3 動的コンパイル\n",
    "\n",
    "事前に分からないパラメータ（回転角）が含まれている量子ゲート\n",
    "\n",
    "\n",
    "量子計算の精度　⇔ Solovay-Kitaevの定理　（テキスト p.31を参照）\n",
    "\n"
   ]
  },
  {
   "cell_type": "markdown",
   "metadata": {},
   "source": [
    "### 7.4.4 ゲート分解・量子回路の最適化\n",
    "\n",
    "#### ●量子最適化が現れるケース１）\n",
    "\n",
    "高精度の万能量子計算のためには、Hゲート、CNOTゲート、Tゲートで表す必要がある\n",
    "\n",
    "↓\n",
    "\n",
    "Tゲートの使用を減らしたい\n",
    "\n",
    "#### ●量子最適化が現れるケース１の１）\n",
    "\n",
    "量子誤り耐性のための量子回路まで含めて最適化したい\n",
    "\n",
    "\n",
    "\n",
    "#### ●量子最適化が現れるケース２）\n",
    "\n",
    "ハードで実装されている回路のトポロジーによるゲートのマッピング\n",
    "\n",
    "↓\n",
    "\n",
    "SWAPゲートの挿入問題\n",
    "\n",
    "\n"
   ]
  },
  {
   "cell_type": "markdown",
   "metadata": {},
   "source": [
    "### 7.4.5 量子プログラムをデバッグするには\n",
    "\n",
    "量子計算に期待しているそもそものモチベーションが、現状のコンピュータで解けない問題に対するアプローチ\n",
    "\n",
    "（裏返すと）\n",
    "⇔　そのプログラムの正しさを計算する前にチェックするのは困難\n",
    "\n"
   ]
  },
  {
   "cell_type": "markdown",
   "metadata": {},
   "source": [
    "## 7.5 量子ソフトウェア開発基盤\n",
    "\n",
    "テキストにないものとしては、[XACC](https://github.com/eclipse/xacc) を紹介します。\n",
    "\n"
   ]
  },
  {
   "cell_type": "code",
   "execution_count": null,
   "metadata": {},
   "outputs": [],
   "source": []
  }
 ],
 "metadata": {
  "kernelspec": {
   "display_name": "Python 3 (ipykernel)",
   "language": "python",
   "name": "python3"
  },
  "language_info": {
   "codemirror_mode": {
    "name": "ipython",
    "version": 3
   },
   "file_extension": ".py",
   "mimetype": "text/x-python",
   "name": "python",
   "nbconvert_exporter": "python",
   "pygments_lexer": "ipython3",
   "version": "3.10.1"
  }
 },
 "nbformat": 4,
 "nbformat_minor": 2
}
