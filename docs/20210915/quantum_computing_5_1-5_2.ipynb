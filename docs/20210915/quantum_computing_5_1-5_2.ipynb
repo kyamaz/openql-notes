{
 "cells": [
  {
   "cell_type": "markdown",
   "metadata": {},
   "source": [
    "（副読本）\n",
    "* ニールセン・チャン「量子コンピュータと量子通信」（ここでは N,C\"QCQI\" と書きます）\n",
    "* arXivに公開されている論文"
   ]
  },
  {
   "cell_type": "markdown",
   "metadata": {},
   "source": [
    "# 5. NISQ量子アルゴリズム\n",
    "\n",
    "NISQ （Noisy Intermediate-Scale Quantum） ←★\n",
    "\n",
    "↑ \n",
    "\n",
    "↓ \n",
    "\n",
    "FTQC （Fault Tolerant Quantum Computer）\n",
    "\n",
    "\n",
    "（keywords）\n",
    "\n",
    "- VQE（Variational Quantum Eigensolver, 変分量子固有値法）\n",
    "- QAOA（Quantum Approximate Optimization Algorithm）\n",
    "- VQS（Variational Quantum Simulator）\n"
   ]
  },
  {
   "cell_type": "markdown",
   "metadata": {},
   "source": [
    "\n",
    "\n",
    "\n",
    "## 5.1 エネルギー最小化問題として解く\n",
    "\n",
    "### 5.1.1 VQEと量子化学計算\n",
    "\n",
    "（古典コンピュータによる進展）\n",
    "\n",
    "+ 配置間相互作用法（4.2節）　　←変分法によるアプローチ\n",
    "+ 結合クラスタ展開法　　　　　　←摂動法によるアプローチ\n",
    "+ メラー・プレセット摂動論法\n",
    "\n",
    "+ 密度汎関数法\n",
    "+ 量子モンテカルロ法\n",
    "+ 密度行列繰り込み群法（Density Matrix Renormalization Group., DMRG）\n",
    "\n",
    "\n",
    "（量子コンピュータによるアプローチ）\n",
    "\n",
    "- 量子位相推定アルゴリズム (Quantum Phase Estimation)　←FTQCで解く\n",
    "- 変分量子固有値法（Variational Quantum Eigensolver, VQE）　←NIQCで解く\n",
    "\n",
    "---\n",
    "\n",
    "1) 解きたい電子系のハミルトニアンを用意する（Born-Oppenhimer近似, 第二量子化, Bravyi-Kitaev変換, 電子積分の計算）\n",
    "\n",
    "2) 初期化された量子ビットをパラメータ $ \\theta $ で指定される量子回路 $ U ( \\theta ) $ に入力し、試行状態 $ U ( \\theta ) \\lvert 0 \\cdots 0 \\rangle = \\lvert \\psi (\\theta ) \\rangle $ を作る\n",
    "\n",
    "3) 測定値からエネルギー期待値 $ \\langle \\psi (\\theta ) \\rvert H \\lvert \\psi (\\theta ) \\rangle := \\langle H(\\theta) \\rangle $ を得る\n",
    "\n",
    "4) 古典コンピュータによる計算で $\\langle H(\\theta) \\rangle $ が最小になる $\\theta $を得るまで、ステップ2)と3)を繰り返す\n",
    "\n",
    "---\n",
    "\n"
   ]
  },
  {
   "cell_type": "markdown",
   "metadata": {},
   "source": [
    "### 5.1.2 QAOAと組み合せ最適化\n",
    "\n",
    "QAOA（Quantum Approximate Optimization Algorithm）\n",
    "\n",
    "＝VQE を用いて、0-1整数計画問題（変数が0-1だけからなる最適化問題）を解く\n",
    "\n",
    "---\n",
    "\n",
    "1) 初期状態 $ \\lvert s \\rangle = \\lvert + \\rangle ^{\\otimes n} $ を用意する\n",
    "\n",
    "2) パタメータ $ \\{ \\beta_1, \\cdots, \\beta_{\\ell} \\} $ と $ \\{ \\gamma_1, \\cdots, \\gamma_{\\ell} \\} $ で指定されるユニタリゲート $ U_{C} (\\gamma_{i}), U_{X}(\\beta_{i}) $　を作用させた状態 $ \\lvert s \\rangle \\rightarrow \\lvert \\beta , \\gamma \\rangle $ を得る\n",
    "\n",
    "$ U_{C} (\\gamma_{i}) := e^{-i \\gamma_{i} H_{C}} $ ,\n",
    "$ H_{C} := C(Z) $\n",
    "\n",
    "$ U_{X} (\\beta{i}) := e^{-i \\beta{i} H_{X}} $ ,\n",
    "$ H_{X} := \\displaystyle \\sum_{j=1}^{n} X_{j} $\n",
    "\n",
    "$ \\lvert \\beta , \\gamma \\rangle = U_{C} (\\gamma_{\\ell}) U_{X} (\\beta_{\\ell}) \\cdots U_{C} (\\gamma_{1}) U_{X} (\\beta_{1}) \\lvert s \\rangle $\n",
    "\n",
    "\n",
    "\n",
    "3) 量子コンピュータで期待値 $ \\langle \\beta , \\gamma \\rvert C(Z) \\lvert \\beta , \\gamma \\rangle $ を評価（測定）する\n",
    "\n",
    "4) $ \\langle \\beta , \\gamma \\rvert C(Z) \\lvert \\beta , \\gamma \\rangle $ を小さくするように古典コンピュータでパラメータ $ \\beta , \\gamma $ を更新する\n",
    "\n",
    "5) 最適解 $ \\beta ^{*} , \\gamma ^{*} $ を得るまで 1)〜4) を繰り返す\n",
    "\n",
    "6) 何回か状態 $ \\lvert \\beta ^{*} , \\gamma ^{*} \\rangle $ を Z 基底で測定し、良さそうな測定結果（ビット列 $ z_1, \\cdots , z_n $ ）を解として出力する\n",
    "\n",
    "---\n"
   ]
  },
  {
   "cell_type": "markdown",
   "metadata": {},
   "source": [
    "### 5.1.3 組合せ最適化問題のハミルトニアン\n",
    "\n",
    "組合せ最適化問題の多くは、 $ x\\in \\{ 0, 1\\} $ を変数とする **QUBO（Quadratic Unconstrained Binary Optimization）**（二次制約なし二値最適化）の形で表現できる\n",
    "\n",
    "[Carp の 21 の NP完全問題](https://www.frontiersin.org/articles/10.3389/fphy.2014.00005/full)\n",
    "\n",
    "\n",
    "※量子アニーラー、量子インスパイアド・アニーリングマシン　の特化型計算機が得意とする分野になりつつある\n",
    "\n",
    "##### 最大カット問題\n",
    "\n",
    "##### 厳密被覆問題\n",
    "\n",
    "##### 巡回セールスマン問題\n",
    "\n",
    "##### ポートフォリオ最適化問題\n"
   ]
  },
  {
   "cell_type": "markdown",
   "metadata": {},
   "source": [
    "## 5.2 時間発展シミュレーションをバイパスする\n",
    "\n",
    "時間発展シミュレーション（3.6節）\n",
    "\n",
    "⇔NISQ向け手法・・・VQS（Variational Quantum Simulator）\n",
    "\n",
    "　量子・古典ハイブリットなアルゴリズム\n",
    "\n",
    "\n",
    "---\n",
    "\n",
    "1) 試行状態 $ \\lvert \\psi (\\lambda) \\rangle = R_N (\\lambda _ N ) \\cdots R_1 ( \\lambda _1 ) \\lvert 0 \\rangle $ を用意する（ $ \\lambda $ はパラメータ）\n",
    "\n",
    "2) 以下を $ t = 0, \\delta t , 2 \\delta t , \\cdots , T $ で繰り返す\n",
    "\n",
    "3) $ \\{ \\lambda (t) \\} $ で $ \\lvert \\psi (\\lambda) \\rangle $ を作る\n",
    "\n",
    "4) $ \\displaystyle M _{k,q} = i \\eta \\frac{\\partial \\langle \\psi \\rvert}{\\partial \\lambda _k} \\frac{\\partial  \\lvert \\psi \\rangle}{\\partial \\lambda _q} + h.c $ と $ \\displaystyle V _{k} = \\eta \\frac{\\partial \\langle \\psi \\rvert}{\\partial \\lambda _k} H \\lvert \\psi \\rangle + h.c $ を量子コンピュータにより計算する　（h.c. は第1項目のエルミート共役）\n",
    "\n",
    "5) オイラー・ラグランジュ方程式 $ \\displaystyle \\sum _{q} M _{k,q} \\dot{\\lambda_q} = V_k $ を古典コンピュータで解き、$ \\{ \\dot{\\lambda} \\} $ を求める\n",
    "\n",
    "6) $ \\lambda (t) \\rightarrow \\lambda ( t + \\delta t ) = \\lambda (t) + \\delta t \\dot{\\lambda} (t) $ という更新式でパラメータ $ \\{ \\dot{\\lambda} \\} $  を更新\n",
    "\n",
    "7) 各ステップ $ t $ における $ \\lvert \\psi \\rangle $ が求めたい状態\n",
    "\n",
    "---\n"
   ]
  },
  {
   "cell_type": "code",
   "execution_count": null,
   "metadata": {},
   "outputs": [],
   "source": []
  }
 ],
 "metadata": {
  "kernelspec": {
   "display_name": "Python 3",
   "language": "python",
   "name": "python3"
  },
  "language_info": {
   "codemirror_mode": {
    "name": "ipython",
    "version": 3
   },
   "file_extension": ".py",
   "mimetype": "text/x-python",
   "name": "python",
   "nbconvert_exporter": "python",
   "pygments_lexer": "ipython3",
   "version": "3.7.7"
  }
 },
 "nbformat": 4,
 "nbformat_minor": 2
}
