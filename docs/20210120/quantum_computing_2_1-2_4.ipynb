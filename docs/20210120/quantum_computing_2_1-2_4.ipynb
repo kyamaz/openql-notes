{
 "cells": [
  {
   "cell_type": "markdown",
   "metadata": {},
   "source": [
    "最初に必要なライブラリを読み込みます。"
   ]
  },
  {
   "cell_type": "code",
   "execution_count": 1,
   "metadata": {},
   "outputs": [],
   "source": [
    "from sympy import *\n",
    "from sympy.physics.quantum import *\n",
    "from sympy.physics.quantum.qubit import Qubit, QubitBra, measure_all, measure_all_oneshot,measure_partial, matrix_to_qubit\n",
    "from sympy.physics.quantum.gate import H,X,Y,Z,S,T,CPHASE,CNOT,SWAP,UGate,CGateS,gate_simp,OneQubitGate\n",
    "from sympy.physics.quantum.gate import IdentityGate as _I\n",
    "from sympy.physics.quantum.qft import *\n",
    "from sympy.physics.quantum.matrixcache import matrix_cache\n",
    "matrix_cache.cache_matrix('Tdg',Matrix([[1, 0], [0, exp(-I*pi/4)]]))\n",
    "matrix_cache.cache_matrix('Sdg',Matrix([[1, 0], [0, -I]]))\n",
    "matrix_cache.cache_matrix('V',(1/2)*Matrix([[1+I, 1-I], [1-I, 1+I]]))\n",
    "matrix_cache.cache_matrix('Vdg',(1/2)*Matrix([[1-I, 1+I], [1+I, 1-I]]))\n",
    "\n",
    "CZ = CPHASE\n",
    "\n",
    "class Tdg(OneQubitGate): # T^{\\dagger} 演算\n",
    "    gate_name = u'Tdg'\n",
    "    gate_name_latex = u'T^{\\dagger}'\n",
    "    def get_target_matrix(self, format='sympy'):\n",
    "        return matrix_cache.get_matrix('Tdg', format)\n",
    "\n",
    "class Sdg(OneQubitGate): # S^{\\dagger} 演算\n",
    "    gate_name = u'Sdg'\n",
    "    gate_name_latex = u'S^{\\dagger}'\n",
    "    def get_target_matrix(self, format='sympy'):\n",
    "        return matrix_cache.get_matrix('Sdg', format)\n",
    "\n",
    "class V(OneQubitGate): # √X 演算\n",
    "    gate_name = u'V'\n",
    "    gate_name_latex = u'V'\n",
    "    def get_target_matrix(self, format='sympy'):\n",
    "        return matrix_cache.get_matrix('V', format)\n",
    "\n",
    "class Vdg(OneQubitGate): # √X ^{\\dagger}演算\n",
    "    gate_name = u'Vdg'\n",
    "    gate_name_latex = u'V^{\\dagger}'\n",
    "    def get_target_matrix(self, format='sympy'):\n",
    "        return matrix_cache.get_matrix('Vdg', format)\n",
    "\n",
    "def CV(c,t):  return CGateS((c),V(t))\n",
    "def CVdg(c,t):  return CGateS((c),Vdg(t))\n",
    "\n",
    "def CCX(c1,c2,t):  return CGateS((c1,c2),X(t))\n",
    "def Toffoli(c1,c2,t):  return CGateS((c1,c2),X(t))\n",
    "def CCZ(c1,c2,t): return (H(t)*CCX(c1,c2,t)*H(t)) # CCZ演算子を定義します。\n",
    "def hadamard(s,n):\n",
    "    h = H(s)\n",
    "    for i in range(s+1,n+s): h = H(i)*h\n",
    "    return h\n",
    "\n",
    "def disp1Q(u): print(u); display(represent(u,nqubits=1)); CircuitPlot(u,nqubits=1)\n",
    "def disp2Q(u): print(u); display(represent(u,nqubits=2)); CircuitPlot(u,nqubits=2)\n",
    "\n",
    "from sympy.printing.dot import dotprint\n",
    "init_printing()\n",
    "\n",
    "%matplotlib inline\n",
    "import matplotlib.pyplot as plt\n",
    "from sympy.physics.quantum.circuitplot import CircuitPlot,labeller, Mz,CreateOneQubitGate\n",
    "alpha, beta, psi, phi, theta, chi = Symbol(r'\\alpha'), Symbol(r'\\beta'), Symbol(r'\\psi'), Symbol(r'\\phi'), Symbol(r'\\theta'), Symbol(r'\\chi') \n",
    "from qutip import *\n",
    "import numpy as np"
   ]
  },
  {
   "cell_type": "markdown",
   "metadata": {},
   "source": [
    "（副読本）\n",
    "* ニールセン・チャン「量子コンピュータと量子通信」（ここでは N,C\"QCQI\" と書きます）\n",
    "* arXivに公開されている論文"
   ]
  },
  {
   "cell_type": "markdown",
   "metadata": {},
   "source": [
    "# 量子コンピュータの基本\n",
    "## 2.1 量子ビットとは？\n",
    "### 2.1.1 ブロッホ球とブラケット記法"
   ]
  },
  {
   "cell_type": "code",
   "execution_count": 2,
   "metadata": {},
   "outputs": [
    {
     "data": {
      "image/png": "[encoded data removed]",
      "text/latex": [
       "$\\displaystyle \\left( {\\left|\\psi\\right\\rangle }, \\  \\alpha {\\left|0\\right\\rangle } + \\beta {\\left|1\\right\\rangle }\\right)$"
      ],
      "text/plain": [
       "(❘\\psi⟩, \\alpha⋅❘0⟩ + \\beta⋅❘1⟩)"
      ]
     },
     "execution_count": 2,
     "metadata": {},
     "output_type": "execute_result"
    }
   ],
   "source": [
    "# ケット\n",
    "Ket(psi) , alpha * Ket('0') + beta * Ket('1') "
   ]
  },
  {
   "cell_type": "code",
   "execution_count": 3,
   "metadata": {},
   "outputs": [
    {
     "data": {
      "image/png": "[encoded data removed]",
      "text/latex": [
       "$\\displaystyle \\left( {\\left\\langle \\psi\\right|}, \\  \\alpha^{\\dagger} {\\left\\langle 0\\right|} + \\beta^{\\dagger} {\\left\\langle 1\\right|}, \\  \\alpha^{\\dagger} {\\left\\langle 0\\right|} + \\beta^{\\dagger} {\\left\\langle 1\\right|}\\right)$"
      ],
      "text/plain": [
       "⎛              †            †            †            †    ⎞\n",
       "⎝⟨\\psi❘, \\alpha ⋅⟨0❘ + \\beta ⋅⟨1❘, \\alpha ⋅⟨0❘ + \\beta ⋅⟨1❘⎠"
      ]
     },
     "execution_count": 3,
     "metadata": {},
     "output_type": "execute_result"
    }
   ],
   "source": [
    "# ブラ\n",
    "Bra(psi), Dagger(alpha * Ket('0') + beta * Ket('1') ) , Dagger(alpha) * Bra('0') + Dagger(beta) * Bra('1')"
   ]
  },
  {
   "cell_type": "code",
   "execution_count": 4,
   "metadata": {},
   "outputs": [
    {
     "data": {
      "image/png": "[encoded data removed]",
      "text/latex": [
       "$\\displaystyle \\alpha \\alpha^{\\dagger} {\\left\\langle 0\\right|} {\\left|0\\right\\rangle } + \\alpha \\beta^{\\dagger} {\\left\\langle 1\\right|} {\\left|0\\right\\rangle } + \\beta \\alpha^{\\dagger} {\\left\\langle 0\\right|} {\\left|1\\right\\rangle } + \\beta \\beta^{\\dagger} {\\left\\langle 1\\right|} {\\left|1\\right\\rangle }$"
      ],
      "text/plain": [
       "             †                       †                       †                \n",
       "\\alpha⋅\\alpha ⋅⟨0❘⋅❘0⟩ + \\alpha⋅\\beta ⋅⟨1❘⋅❘0⟩ + \\beta⋅\\alpha ⋅⟨0❘⋅❘1⟩ + \\beta\n",
       "\n",
       "      †        \n",
       "⋅\\beta ⋅⟨1❘⋅❘1⟩"
      ]
     },
     "execution_count": 4,
     "metadata": {},
     "output_type": "execute_result"
    }
   ],
   "source": [
    "# <ψ|ψ> の計算\n",
    "expand(Dagger(alpha * Ket('0') + beta * Ket('1') ) * (alpha * Ket('0') + beta * Ket('1') ))"
   ]
  },
  {
   "cell_type": "markdown",
   "metadata": {},
   "source": [
    "$\\alpha \\alpha^{\\dagger} = 1, \\beta \\beta^{\\dagger} = 1,  \\langle 0 \\vert 0 \\rangle = 1, \\langle 1 \\vert 1 \\rangle = 1, \\langle 1 \\vert 0 \\rangle = 0, \\langle 0 \\vert 1 \\rangle = 0$"
   ]
  },
  {
   "cell_type": "markdown",
   "metadata": {},
   "source": [
    "*keywords*\n",
    "\n",
    "- グローバル位相\n",
    "- ブロッホ球\n",
    "- Z基底（計算基底）\n",
    "- X基底（アダマール基底）\n",
    "- Y基底（円基底、Circular basis）"
   ]
  },
  {
   "cell_type": "code",
   "execution_count": 5,
   "metadata": {},
   "outputs": [
    {
     "data": {
      "image/png": "[encoded data removed]",
      "text/plain": [
       "<Figure size 360x360 with 1 Axes>"
      ]
     },
     "metadata": {},
     "output_type": "display_data"
    }
   ],
   "source": [
    "b = Bloch()\n",
    "zero_state = [0,0,1]\n",
    "b.add_vectors(zero_state)\n",
    "one_state = [0,0,-1]\n",
    "b.add_vectors(one_state)\n",
    "plus_state = [1,0,0]\n",
    "b.add_vectors(plus_state)\n",
    "minus_state = [-1,0,0]\n",
    "b.add_vectors(minus_state)\n",
    "b.show()"
   ]
  },
  {
   "cell_type": "markdown",
   "metadata": {},
   "source": [
    "### 2.1.2 量子ビットの不思議な性質"
   ]
  },
  {
   "cell_type": "markdown",
   "metadata": {},
   "source": [
    "*keywords*\n",
    "- 確率振幅\n",
    "- ボルンの規則\n",
    "- 射影測定\n",
    "- デコーヒーレンス\n",
    "- コヒーレント時間"
   ]
  },
  {
   "cell_type": "markdown",
   "metadata": {},
   "source": [
    "$ T_1 $ : $\\lvert 0 \\rangle$ が $\\lvert 1 \\rangle$ になってしまう時間  \n",
    "$ T_2 $：重ね合わせが壊れてしまう時間"
   ]
  },
  {
   "cell_type": "markdown",
   "metadata": {},
   "source": [
    "## 2.2 量子ゲートで計算する\n",
    "### 2.2.1 １量子ビットゲート"
   ]
  },
  {
   "cell_type": "markdown",
   "metadata": {},
   "source": [
    "* Xゲート"
   ]
  },
  {
   "cell_type": "code",
   "execution_count": 6,
   "metadata": {},
   "outputs": [
    {
     "name": "stdout",
     "output_type": "stream",
     "text": [
      "X(0)\n"
     ]
    },
    {
     "data": {
      "image/png": "[encoded data removed]",
      "text/latex": [
       "$\\displaystyle \\left[\\begin{matrix}0 & 1\\\\1 & 0\\end{matrix}\\right]$"
      ],
      "text/plain": [
       "⎡0  1⎤\n",
       "⎢    ⎥\n",
       "⎣1  0⎦"
      ]
     },
     "metadata": {},
     "output_type": "display_data"
    },
    {
     "data": {
      "image/png": "[encoded data removed]",
      "text/plain": [
       "<Figure size 72x72 with 1 Axes>"
      ]
     },
     "metadata": {},
     "output_type": "display_data"
    }
   ],
   "source": [
    "disp1Q(X(0))"
   ]
  },
  {
   "cell_type": "code",
   "execution_count": 7,
   "metadata": {},
   "outputs": [
    {
     "name": "stdout",
     "output_type": "stream",
     "text": [
      "X(0)*|0>\n"
     ]
    },
    {
     "data": {
      "image/png": "[encoded data removed]",
      "text/latex": [
       "$\\displaystyle \\left[\\begin{matrix}0\\\\1\\end{matrix}\\right]$"
      ],
      "text/plain": [
       "⎡0⎤\n",
       "⎢ ⎥\n",
       "⎣1⎦"
      ]
     },
     "metadata": {},
     "output_type": "display_data"
    },
    {
     "data": {
      "image/png": "[encoded data removed]",
      "text/plain": [
       "<Figure size 144x72 with 1 Axes>"
      ]
     },
     "metadata": {},
     "output_type": "display_data"
    }
   ],
   "source": [
    "disp1Q(X(0)*Qubit('0'))"
   ]
  },
  {
   "cell_type": "code",
   "execution_count": 8,
   "metadata": {},
   "outputs": [
    {
     "name": "stdout",
     "output_type": "stream",
     "text": [
      "X(0)*|1>\n"
     ]
    },
    {
     "data": {
      "image/png": "[encoded data removed]",
      "text/latex": [
       "$\\displaystyle \\left[\\begin{matrix}1\\\\0\\end{matrix}\\right]$"
      ],
      "text/plain": [
       "⎡1⎤\n",
       "⎢ ⎥\n",
       "⎣0⎦"
      ]
     },
     "metadata": {},
     "output_type": "display_data"
    },
    {
     "data": {
      "image/png": "[encoded data removed]",
      "text/plain": [
       "<Figure size 144x72 with 1 Axes>"
      ]
     },
     "metadata": {},
     "output_type": "display_data"
    }
   ],
   "source": [
    "disp1Q(X(0)*Qubit('1'))"
   ]
  },
  {
   "cell_type": "markdown",
   "metadata": {},
   "source": [
    "* Yゲート"
   ]
  },
  {
   "cell_type": "code",
   "execution_count": 9,
   "metadata": {},
   "outputs": [
    {
     "name": "stdout",
     "output_type": "stream",
     "text": [
      "Y(0)\n"
     ]
    },
    {
     "data": {
      "image/png": "[encoded data removed]",
      "text/latex": [
       "$\\displaystyle \\left[\\begin{matrix}0 & - i\\\\i & 0\\end{matrix}\\right]$"
      ],
      "text/plain": [
       "⎡0  -ⅈ⎤\n",
       "⎢     ⎥\n",
       "⎣ⅈ  0 ⎦"
      ]
     },
     "metadata": {},
     "output_type": "display_data"
    },
    {
     "data": {
      "image/png": "[encoded data removed]",
      "text/plain": [
       "<Figure size 72x72 with 1 Axes>"
      ]
     },
     "metadata": {},
     "output_type": "display_data"
    }
   ],
   "source": [
    "disp1Q(Y(0))"
   ]
  },
  {
   "cell_type": "markdown",
   "metadata": {},
   "source": [
    "* Zゲート"
   ]
  },
  {
   "cell_type": "code",
   "execution_count": 10,
   "metadata": {},
   "outputs": [
    {
     "name": "stdout",
     "output_type": "stream",
     "text": [
      "Z(0)\n"
     ]
    },
    {
     "data": {
      "image/png": "[encoded data removed]",
      "text/latex": [
       "$\\displaystyle \\left[\\begin{matrix}1 & 0\\\\0 & -1\\end{matrix}\\right]$"
      ],
      "text/plain": [
       "⎡1  0 ⎤\n",
       "⎢     ⎥\n",
       "⎣0  -1⎦"
      ]
     },
     "metadata": {},
     "output_type": "display_data"
    },
    {
     "data": {
      "image/png": "[encoded data removed]",
      "text/plain": [
       "<Figure size 72x72 with 1 Axes>"
      ]
     },
     "metadata": {},
     "output_type": "display_data"
    }
   ],
   "source": [
    "disp1Q(Z(0))"
   ]
  },
  {
   "cell_type": "code",
   "execution_count": 11,
   "metadata": {},
   "outputs": [
    {
     "name": "stdout",
     "output_type": "stream",
     "text": [
      "Z(0)*|0>\n"
     ]
    },
    {
     "data": {
      "image/png": "[encoded data removed]",
      "text/latex": [
       "$\\displaystyle \\left[\\begin{matrix}1\\\\0\\end{matrix}\\right]$"
      ],
      "text/plain": [
       "⎡1⎤\n",
       "⎢ ⎥\n",
       "⎣0⎦"
      ]
     },
     "metadata": {},
     "output_type": "display_data"
    },
    {
     "data": {
      "image/png": "[encoded data removed]",
      "text/plain": [
       "<Figure size 144x72 with 1 Axes>"
      ]
     },
     "metadata": {},
     "output_type": "display_data"
    }
   ],
   "source": [
    "disp1Q(Z(0)*Qubit('0'))"
   ]
  },
  {
   "cell_type": "code",
   "execution_count": 12,
   "metadata": {},
   "outputs": [
    {
     "name": "stdout",
     "output_type": "stream",
     "text": [
      "Z(0)*|1>\n"
     ]
    },
    {
     "data": {
      "image/png": "[encoded data removed]",
      "text/latex": [
       "$\\displaystyle \\left[\\begin{matrix}0\\\\-1\\end{matrix}\\right]$"
      ],
      "text/plain": [
       "⎡0 ⎤\n",
       "⎢  ⎥\n",
       "⎣-1⎦"
      ]
     },
     "metadata": {},
     "output_type": "display_data"
    },
    {
     "data": {
      "image/png": "[encoded data removed]",
      "text/plain": [
       "<Figure size 144x72 with 1 Axes>"
      ]
     },
     "metadata": {},
     "output_type": "display_data"
    }
   ],
   "source": [
    "disp1Q(Z(0)*Qubit('1'))"
   ]
  },
  {
   "cell_type": "markdown",
   "metadata": {},
   "source": [
    "* アダマールゲート（H）"
   ]
  },
  {
   "cell_type": "code",
   "execution_count": 13,
   "metadata": {},
   "outputs": [
    {
     "name": "stdout",
     "output_type": "stream",
     "text": [
      "H(0)\n"
     ]
    },
    {
     "data": {
      "image/png": "[encoded data removed]",
      "text/latex": [
       "$\\displaystyle \\left[\\begin{matrix}\\frac{1}{\\sqrt{2}} & \\frac{1}{\\sqrt{2}}\\\\\\frac{1}{\\sqrt{2}} & - \\frac{\\sqrt{2}}{2}\\end{matrix}\\right]$"
      ],
      "text/plain": [
       "⎡1    1  ⎤\n",
       "⎢──   ── ⎥\n",
       "⎢√2   √2 ⎥\n",
       "⎢        ⎥\n",
       "⎢1   -√2 ⎥\n",
       "⎢──  ────⎥\n",
       "⎣√2   2  ⎦"
      ]
     },
     "metadata": {},
     "output_type": "display_data"
    },
    {
     "data": {
      "image/png": "[encoded data removed]",
      "text/plain": [
       "<Figure size 72x72 with 1 Axes>"
      ]
     },
     "metadata": {},
     "output_type": "display_data"
    }
   ],
   "source": [
    "disp1Q(H(0))"
   ]
  },
  {
   "cell_type": "markdown",
   "metadata": {},
   "source": [
    "* 位相ゲート（S）  \n",
    "Z軸周りの $ \\pi / 2 $ 回転"
   ]
  },
  {
   "cell_type": "code",
   "execution_count": 14,
   "metadata": {},
   "outputs": [
    {
     "name": "stdout",
     "output_type": "stream",
     "text": [
      "S(0)\n"
     ]
    },
    {
     "data": {
      "image/png": "[encoded data removed]",
      "text/latex": [
       "$\\displaystyle \\left[\\begin{matrix}1 & 0\\\\0 & i\\end{matrix}\\right]$"
      ],
      "text/plain": [
       "⎡1  0⎤\n",
       "⎢    ⎥\n",
       "⎣0  ⅈ⎦"
      ]
     },
     "metadata": {},
     "output_type": "display_data"
    },
    {
     "data": {
      "image/png": "[encoded data removed]",
      "text/plain": [
       "<Figure size 72x72 with 1 Axes>"
      ]
     },
     "metadata": {},
     "output_type": "display_data"
    }
   ],
   "source": [
    "disp1Q(S(0))"
   ]
  },
  {
   "cell_type": "markdown",
   "metadata": {},
   "source": [
    "* $\\pi/8$ゲート（T）  \n",
    "Z軸周りの $ \\pi / 4 $ 回転"
   ]
  },
  {
   "cell_type": "code",
   "execution_count": 15,
   "metadata": {},
   "outputs": [
    {
     "name": "stdout",
     "output_type": "stream",
     "text": [
      "T(0)\n"
     ]
    },
    {
     "data": {
      "image/png": "[encoded data removed]",
      "text/latex": [
       "$\\displaystyle \\left[\\begin{matrix}1 & 0\\\\0 & e^{\\frac{i \\pi}{4}}\\end{matrix}\\right]$"
      ],
      "text/plain": [
       "⎡1   0  ⎤\n",
       "⎢       ⎥\n",
       "⎢    ⅈ⋅π⎥\n",
       "⎢    ───⎥\n",
       "⎢     4 ⎥\n",
       "⎣0  ℯ   ⎦"
      ]
     },
     "metadata": {},
     "output_type": "display_data"
    },
    {
     "data": {
      "image/png": "[encoded data removed]",
      "text/plain": [
       "<Figure size 72x72 with 1 Axes>"
      ]
     },
     "metadata": {},
     "output_type": "display_data"
    }
   ],
   "source": [
    "disp1Q(T(0))"
   ]
  },
  {
   "cell_type": "code",
   "execution_count": 16,
   "metadata": {},
   "outputs": [
    {
     "name": "stdout",
     "output_type": "stream",
     "text": [
      "T(0)*1(0)*T(0)\n"
     ]
    },
    {
     "data": {
      "image/png": "[encoded data removed]",
      "text/latex": [
       "$\\displaystyle \\left[\\begin{matrix}1 & 0\\\\0 & i\\end{matrix}\\right]$"
      ],
      "text/plain": [
       "⎡1  0⎤\n",
       "⎢    ⎥\n",
       "⎣0  ⅈ⎦"
      ]
     },
     "metadata": {},
     "output_type": "display_data"
    },
    {
     "data": {
      "image/png": "[encoded data removed]",
      "text/plain": [
       "<Figure size 216x72 with 1 Axes>"
      ]
     },
     "metadata": {},
     "output_type": "display_data"
    }
   ],
   "source": [
    "# TT \n",
    "disp1Q(T(0) *_I(0)* T(0))  # CircuitPlot がうまく描けないため恒等変換（I）を挟む"
   ]
  },
  {
   "cell_type": "code",
   "execution_count": 17,
   "metadata": {
    "scrolled": true
   },
   "outputs": [
    {
     "name": "stdout",
     "output_type": "stream",
     "text": [
      "S(0)*1(0)*S(0)\n"
     ]
    },
    {
     "data": {
      "image/png": "[encoded data removed]",
      "text/latex": [
       "$\\displaystyle \\left[\\begin{matrix}1 & 0\\\\0 & -1\\end{matrix}\\right]$"
      ],
      "text/plain": [
       "⎡1  0 ⎤\n",
       "⎢     ⎥\n",
       "⎣0  -1⎦"
      ]
     },
     "metadata": {},
     "output_type": "display_data"
    },
    {
     "data": {
      "image/png": "[encoded data removed]",
      "text/plain": [
       "<Figure size 216x72 with 1 Axes>"
      ]
     },
     "metadata": {},
     "output_type": "display_data"
    }
   ],
   "source": [
    "# SS\n",
    "disp1Q(S(0)*_I(0) *S(0))  # CircuitPlot がうまく描けないため恒等変換（I）を挟む"
   ]
  },
  {
   "cell_type": "markdown",
   "metadata": {},
   "source": [
    "### 2.2.2 ２量子ビットゲート"
   ]
  },
  {
   "cell_type": "code",
   "execution_count": 18,
   "metadata": {},
   "outputs": [
    {
     "data": {
      "image/png": "[encoded data removed]",
      "text/latex": [
       "$\\displaystyle \\left[\\begin{matrix}a_{0}\\\\a_{1}\\end{matrix}\\right]$"
      ],
      "text/plain": [
       "⎡a₀⎤\n",
       "⎢  ⎥\n",
       "⎣a₁⎦"
      ]
     },
     "execution_count": 18,
     "metadata": {},
     "output_type": "execute_result"
    }
   ],
   "source": [
    "a0, a1, b0, b1 = Symbol('a0'), Symbol('a1'), Symbol('b0'), Symbol('b1')\n",
    "Matrix([[a0],[a1]])"
   ]
  },
  {
   "cell_type": "code",
   "execution_count": 19,
   "metadata": {},
   "outputs": [
    {
     "data": {
      "image/png": "[encoded data removed]",
      "text/latex": [
       "$\\displaystyle \\left[\\begin{matrix}b_{0}\\\\b_{1}\\end{matrix}\\right]$"
      ],
      "text/plain": [
       "⎡b₀⎤\n",
       "⎢  ⎥\n",
       "⎣b₁⎦"
      ]
     },
     "execution_count": 19,
     "metadata": {},
     "output_type": "execute_result"
    }
   ],
   "source": [
    " Matrix([b0,b1])"
   ]
  },
  {
   "cell_type": "code",
   "execution_count": 20,
   "metadata": {},
   "outputs": [
    {
     "data": {
      "image/png": "[encoded data removed]",
      "text/latex": [
       "$\\displaystyle a_{0} b_{0} + a_{1} b_{1}$"
      ],
      "text/plain": [
       "a₀⋅b₀ + a₁⋅b₁"
      ]
     },
     "execution_count": 20,
     "metadata": {},
     "output_type": "execute_result"
    }
   ],
   "source": [
    "Matrix([[a0],[a1]]) .dot( Matrix([b0,b1]) )"
   ]
  },
  {
   "cell_type": "code",
   "execution_count": 21,
   "metadata": {},
   "outputs": [
    {
     "data": {
      "image/png": "[encoded data removed]",
      "text/latex": [
       "$\\displaystyle \\left[\\begin{matrix}a_{0} b_{0}\\\\a_{0} b_{1}\\\\a_{1} b_{0}\\\\a_{1} b_{1}\\end{matrix}\\right]$"
      ],
      "text/plain": [
       "⎡a₀⋅b₀⎤\n",
       "⎢     ⎥\n",
       "⎢a₀⋅b₁⎥\n",
       "⎢     ⎥\n",
       "⎢a₁⋅b₀⎥\n",
       "⎢     ⎥\n",
       "⎣a₁⋅b₁⎦"
      ]
     },
     "execution_count": 21,
     "metadata": {},
     "output_type": "execute_result"
    }
   ],
   "source": [
    "TensorProduct(Matrix([a0,a1]),( Matrix([b0,b1]) ))"
   ]
  },
  {
   "cell_type": "code",
   "execution_count": 22,
   "metadata": {},
   "outputs": [
    {
     "data": {
      "image/png": "[encoded data removed]",
      "text/latex": [
       "$\\displaystyle \\left[\\begin{matrix}u_{11} v_{11} & u_{11} v_{12} & u_{12} v_{11} & u_{12} v_{12}\\\\u_{11} v_{21} & u_{11} v_{22} & u_{12} v_{21} & u_{12} v_{22}\\\\u_{21} v_{11} & u_{21} v_{12} & u_{22} v_{11} & u_{22} v_{12}\\\\u_{21} v_{21} & u_{21} v_{22} & u_{22} v_{21} & u_{22} v_{22}\\end{matrix}\\right]$"
      ],
      "text/plain": [
       "⎡u₁₁⋅v₁₁  u₁₁⋅v₁₂  u₁₂⋅v₁₁  u₁₂⋅v₁₂⎤\n",
       "⎢                                  ⎥\n",
       "⎢u₁₁⋅v₂₁  u₁₁⋅v₂₂  u₁₂⋅v₂₁  u₁₂⋅v₂₂⎥\n",
       "⎢                                  ⎥\n",
       "⎢u₂₁⋅v₁₁  u₂₁⋅v₁₂  u₂₂⋅v₁₁  u₂₂⋅v₁₂⎥\n",
       "⎢                                  ⎥\n",
       "⎣u₂₁⋅v₂₁  u₂₁⋅v₂₂  u₂₂⋅v₂₁  u₂₂⋅v₂₂⎦"
      ]
     },
     "execution_count": 22,
     "metadata": {},
     "output_type": "execute_result"
    }
   ],
   "source": [
    "u11, u12, u21, u22 = Symbol('u11'), Symbol('u12'), Symbol('u21'), Symbol('u22')\n",
    "v11, v12, v21, v22 = Symbol('v11'), Symbol('v12'), Symbol('v21'), Symbol('v22')\n",
    "TensorProduct(Matrix([[u11, u12], [u21, u22]]), Matrix([[v11, v12], [v21, v22]]))"
   ]
  },
  {
   "cell_type": "code",
   "execution_count": 23,
   "metadata": {},
   "outputs": [
    {
     "data": {
      "image/png": "[encoded data removed]",
      "text/latex": [
       "$\\displaystyle \\left[\\begin{matrix}1 & 0 & 0 & 0\\\\0 & 1 & 0 & 0\\\\0 & 0 & 0 & 1\\\\0 & 0 & 1 & 0\\end{matrix}\\right]$"
      ],
      "text/plain": [
       "⎡1  0  0  0⎤\n",
       "⎢          ⎥\n",
       "⎢0  1  0  0⎥\n",
       "⎢          ⎥\n",
       "⎢0  0  0  1⎥\n",
       "⎢          ⎥\n",
       "⎣0  0  1  0⎦"
      ]
     },
     "execution_count": 23,
     "metadata": {},
     "output_type": "execute_result"
    }
   ],
   "source": [
    "represent(CNOT(1,0),nqubits=2)"
   ]
  },
  {
   "cell_type": "code",
   "execution_count": 24,
   "metadata": {},
   "outputs": [
    {
     "data": {
      "image/png": "[encoded data removed]",
      "text/latex": [
       "$\\displaystyle \\left[\\begin{matrix}1 & 0 & 0 & 0\\\\0 & 0 & 1 & 0\\\\0 & 1 & 0 & 0\\\\0 & 0 & 0 & 1\\end{matrix}\\right]$"
      ],
      "text/plain": [
       "⎡1  0  0  0⎤\n",
       "⎢          ⎥\n",
       "⎢0  0  1  0⎥\n",
       "⎢          ⎥\n",
       "⎢0  1  0  0⎥\n",
       "⎢          ⎥\n",
       "⎣0  0  0  1⎦"
      ]
     },
     "execution_count": 24,
     "metadata": {},
     "output_type": "execute_result"
    }
   ],
   "source": [
    "represent(SWAP(1,0), nqubits=2)"
   ]
  },
  {
   "cell_type": "code",
   "execution_count": 25,
   "metadata": {},
   "outputs": [
    {
     "data": {
      "image/png": "[encoded data removed]",
      "text/latex": [
       "$\\displaystyle \\left[\\begin{matrix}1 & 0 & 0 & 0\\\\0 & 0 & 1 & 0\\\\0 & 1 & 0 & 0\\\\0 & 0 & 0 & 1\\end{matrix}\\right]$"
      ],
      "text/plain": [
       "⎡1  0  0  0⎤\n",
       "⎢          ⎥\n",
       "⎢0  0  1  0⎥\n",
       "⎢          ⎥\n",
       "⎢0  1  0  0⎥\n",
       "⎢          ⎥\n",
       "⎣0  0  0  1⎦"
      ]
     },
     "execution_count": 25,
     "metadata": {},
     "output_type": "execute_result"
    }
   ],
   "source": [
    "sw=CNOT(1,0)*CNOT(0,1)*CNOT(1,0)\n",
    "represent(sw,nqubits=2)"
   ]
  },
  {
   "cell_type": "code",
   "execution_count": 26,
   "metadata": {},
   "outputs": [
    {
     "data": {
      "text/plain": [
       "<sympy.physics.quantum.circuitplot.CircuitPlot at 0x12196cb50>"
      ]
     },
     "execution_count": 26,
     "metadata": {},
     "output_type": "execute_result"
    },
    {
     "data": {
      "image/png": "[encoded data removed]",
      "text/plain": [
       "<Figure size 216x144 with 1 Axes>"
      ]
     },
     "metadata": {},
     "output_type": "display_data"
    }
   ],
   "source": [
    "CircuitPlot(sw, nqubits=2)"
   ]
  },
  {
   "cell_type": "markdown",
   "metadata": {},
   "source": [
    "## 2.3 量子回路図を書いてみよう\n",
    "### 2.3.1 量子回路図の書き方"
   ]
  },
  {
   "cell_type": "code",
   "execution_count": 27,
   "metadata": {},
   "outputs": [],
   "source": [
    "q=H(2)*CZ(1,2)*CNOT(0,1)*H(0)*H(2)"
   ]
  },
  {
   "cell_type": "code",
   "execution_count": 28,
   "metadata": {},
   "outputs": [
    {
     "data": {
      "text/plain": [
       "<sympy.physics.quantum.circuitplot.CircuitPlot at 0x1219e2310>"
      ]
     },
     "execution_count": 28,
     "metadata": {},
     "output_type": "execute_result"
    },
    {
     "data": {
      "image/png": "[encoded data removed]",
      "text/plain": [
       "<Figure size 360x216 with 1 Axes>"
      ]
     },
     "metadata": {},
     "output_type": "display_data"
    }
   ],
   "source": [
    "CircuitPlot(q, nqubits=3)"
   ]
  },
  {
   "cell_type": "code",
   "execution_count": 29,
   "metadata": {},
   "outputs": [
    {
     "data": {
      "image/png": "[encoded data removed]",
      "text/latex": [
       "$\\displaystyle \\left[\\begin{matrix}\\frac{\\sqrt{2}}{2}\\\\0\\\\0\\\\0\\\\0\\\\0\\\\0\\\\\\frac{\\sqrt{2}}{2}\\end{matrix}\\right]$"
      ],
      "text/plain": [
       "⎡√2⎤\n",
       "⎢──⎥\n",
       "⎢2 ⎥\n",
       "⎢  ⎥\n",
       "⎢0 ⎥\n",
       "⎢  ⎥\n",
       "⎢0 ⎥\n",
       "⎢  ⎥\n",
       "⎢0 ⎥\n",
       "⎢  ⎥\n",
       "⎢0 ⎥\n",
       "⎢  ⎥\n",
       "⎢0 ⎥\n",
       "⎢  ⎥\n",
       "⎢0 ⎥\n",
       "⎢  ⎥\n",
       "⎢√2⎥\n",
       "⎢──⎥\n",
       "⎣2 ⎦"
      ]
     },
     "execution_count": 29,
     "metadata": {},
     "output_type": "execute_result"
    }
   ],
   "source": [
    "qst=represent(q*Qubit('000'),nqubits=3)\n",
    "qst"
   ]
  },
  {
   "cell_type": "code",
   "execution_count": 30,
   "metadata": {},
   "outputs": [
    {
     "data": {
      "image/png": "[encoded data removed]",
      "text/latex": [
       "$\\displaystyle \\frac{\\sqrt{2} {\\left|000\\right\\rangle }}{2} + \\frac{\\sqrt{2} {\\left|111\\right\\rangle }}{2}$"
      ],
      "text/plain": [
       "√2⋅❘000⟩   √2⋅❘111⟩\n",
       "──────── + ────────\n",
       "   2          2    "
      ]
     },
     "execution_count": 30,
     "metadata": {},
     "output_type": "execute_result"
    }
   ],
   "source": [
    "matrix_to_qubit(qst)"
   ]
  },
  {
   "cell_type": "markdown",
   "metadata": {},
   "source": [
    "### 2.3.2 量子コンピュータ版NANDゲート（Toffoliゲート）"
   ]
  },
  {
   "cell_type": "code",
   "execution_count": 31,
   "metadata": {},
   "outputs": [
    {
     "data": {
      "image/png": "[encoded data removed]",
      "text/latex": [
       "$\\displaystyle \\left[\\begin{matrix}1 & 0 & 0 & 0 & 0 & 0 & 0 & 0\\\\0 & 1 & 0 & 0 & 0 & 0 & 0 & 0\\\\0 & 0 & 1 & 0 & 0 & 0 & 0 & 0\\\\0 & 0 & 0 & 1 & 0 & 0 & 0 & 0\\\\0 & 0 & 0 & 0 & 1 & 0 & 0 & 0\\\\0 & 0 & 0 & 0 & 0 & 1 & 0 & 0\\\\0 & 0 & 0 & 0 & 0 & 0 & 0 & 1\\\\0 & 0 & 0 & 0 & 0 & 0 & 1 & 0\\end{matrix}\\right]$"
      ],
      "text/plain": [
       "⎡1  0  0  0  0  0  0  0⎤\n",
       "⎢                      ⎥\n",
       "⎢0  1  0  0  0  0  0  0⎥\n",
       "⎢                      ⎥\n",
       "⎢0  0  1  0  0  0  0  0⎥\n",
       "⎢                      ⎥\n",
       "⎢0  0  0  1  0  0  0  0⎥\n",
       "⎢                      ⎥\n",
       "⎢0  0  0  0  1  0  0  0⎥\n",
       "⎢                      ⎥\n",
       "⎢0  0  0  0  0  1  0  0⎥\n",
       "⎢                      ⎥\n",
       "⎢0  0  0  0  0  0  0  1⎥\n",
       "⎢                      ⎥\n",
       "⎣0  0  0  0  0  0  1  0⎦"
      ]
     },
     "execution_count": 31,
     "metadata": {},
     "output_type": "execute_result"
    }
   ],
   "source": [
    "represent(Toffoli(2,1,0),nqubits=3)"
   ]
  },
  {
   "cell_type": "code",
   "execution_count": 32,
   "metadata": {},
   "outputs": [
    {
     "data": {
      "text/plain": [
       "<sympy.physics.quantum.circuitplot.CircuitPlot at 0x121a86750>"
      ]
     },
     "execution_count": 32,
     "metadata": {},
     "output_type": "execute_result"
    },
    {
     "data": {
      "image/png": "[encoded data removed]",
      "text/plain": [
       "<Figure size 144x216 with 1 Axes>"
      ]
     },
     "metadata": {},
     "output_type": "display_data"
    }
   ],
   "source": [
    "CircuitPlot(Toffoli(2,1,0),nqubits=3)"
   ]
  },
  {
   "cell_type": "markdown",
   "metadata": {},
   "source": [
    "（参考）\n",
    "\n",
    "[Elementary gates for quantum computation(arXiv:quant-ph/9503016)](https://arxiv.org/abs/quant-ph/9503016) ←1995年に示されている  \n",
    "N,C\"QCQI\" 「4.3 制御演算」に説明あり"
   ]
  },
  {
   "cell_type": "code",
   "execution_count": 33,
   "metadata": {
    "scrolled": true
   },
   "outputs": [
    {
     "data": {
      "text/plain": [
       "<sympy.physics.quantum.circuitplot.CircuitPlot at 0x121b1e450>"
      ]
     },
     "execution_count": 33,
     "metadata": {},
     "output_type": "execute_result"
    },
    {
     "data": {
      "image/png": "[encoded data removed]",
      "text/plain": [
       "<Figure size 360x216 with 1 Axes>"
      ]
     },
     "metadata": {},
     "output_type": "display_data"
    }
   ],
   "source": [
    "tof=CV(2,0)*CNOT(2,1)*CVdg(1,0)*CNOT(2,1)*CV(1,0)\n",
    "CircuitPlot(tof,nqubits=3)"
   ]
  },
  {
   "cell_type": "code",
   "execution_count": 34,
   "metadata": {
    "scrolled": true
   },
   "outputs": [
    {
     "data": {
      "image/png": "[encoded data removed]",
      "text/latex": [
       "$\\displaystyle \\left[\\begin{matrix}1 & 0 & 0 & 0 & 0 & 0 & 0 & 0\\\\0 & 1 & 0 & 0 & 0 & 0 & 0 & 0\\\\0 & 0 & 2 \\left(0.5 - 0.5 i\\right) \\left(0.5 + 0.5 i\\right) & \\left(0.5 - 0.5 i\\right)^{2} + \\left(0.5 + 0.5 i\\right)^{2} & 0 & 0 & 0 & 0\\\\0 & 0 & \\left(0.5 - 0.5 i\\right)^{2} + \\left(0.5 + 0.5 i\\right)^{2} & 2 \\left(0.5 - 0.5 i\\right) \\left(0.5 + 0.5 i\\right) & 0 & 0 & 0 & 0\\\\0 & 0 & 0 & 0 & 2 \\left(0.5 - 0.5 i\\right) \\left(0.5 + 0.5 i\\right) & \\left(0.5 - 0.5 i\\right)^{2} + \\left(0.5 + 0.5 i\\right)^{2} & 0 & 0\\\\0 & 0 & 0 & 0 & \\left(0.5 - 0.5 i\\right)^{2} + \\left(0.5 + 0.5 i\\right)^{2} & 2 \\left(0.5 - 0.5 i\\right) \\left(0.5 + 0.5 i\\right) & 0 & 0\\\\0 & 0 & 0 & 0 & 0 & 0 & \\left(0.5 - 0.5 i\\right)^{2} + \\left(0.5 + 0.5 i\\right)^{2} & 2 \\left(0.5 - 0.5 i\\right) \\left(0.5 + 0.5 i\\right)\\\\0 & 0 & 0 & 0 & 0 & 0 & 2 \\left(0.5 - 0.5 i\\right) \\left(0.5 + 0.5 i\\right) & \\left(0.5 - 0.5 i\\right)^{2} + \\left(0.5 + 0.5 i\\right)^{2}\\end{matrix}\\right]$"
      ],
      "text/plain": [
       "⎡1  0                 0                                0                      \n",
       "⎢                                                                             \n",
       "⎢0  1                 0                                0                      \n",
       "⎢                                                                             \n",
       "⎢                                                    2                2       \n",
       "⎢0  0   2⋅(0.5 - 0.5⋅ⅈ)⋅(0.5 + 0.5⋅ⅈ)   (0.5 - 0.5⋅ⅈ)  + (0.5 + 0.5⋅ⅈ)        \n",
       "⎢                                                                             \n",
       "⎢                   2                2                                        \n",
       "⎢0  0  (0.5 - 0.5⋅ⅈ)  + (0.5 + 0.5⋅ⅈ)    2⋅(0.5 - 0.5⋅ⅈ)⋅(0.5 + 0.5⋅ⅈ)        \n",
       "⎢                                                                             \n",
       "⎢                                                                             \n",
       "⎢0  0                 0                                0                  2⋅(0\n",
       "⎢                                                                             \n",
       "⎢                                                                             \n",
       "⎢0  0                 0                                0                 (0.5 \n",
       "⎢                                                                             \n",
       "⎢                                                                             \n",
       "⎢0  0                 0                                0                      \n",
       "⎢                                                                             \n",
       "⎢                                                                             \n",
       "⎣0  0                 0                                0                      \n",
       "\n",
       "          0                                0                                0 \n",
       "                                                                              \n",
       "          0                                0                                0 \n",
       "                                                                              \n",
       "                                                                              \n",
       "          0                                0                                0 \n",
       "                                                                              \n",
       "                                                                              \n",
       "          0                                0                                0 \n",
       "                                                                              \n",
       "                                         2                2                   \n",
       ".5 - 0.5⋅ⅈ)⋅(0.5 + 0.5⋅ⅈ)   (0.5 - 0.5⋅ⅈ)  + (0.5 + 0.5⋅ⅈ)                  0 \n",
       "                                                                              \n",
       "        2                2                                                    \n",
       "- 0.5⋅ⅈ)  + (0.5 + 0.5⋅ⅈ)    2⋅(0.5 - 0.5⋅ⅈ)⋅(0.5 + 0.5⋅ⅈ)                  0 \n",
       "                                                                              \n",
       "                                                                          2   \n",
       "          0                                0                 (0.5 - 0.5⋅ⅈ)  + \n",
       "                                                                              \n",
       "                                                                              \n",
       "          0                                0                  2⋅(0.5 - 0.5⋅ⅈ)⋅\n",
       "\n",
       "                               0               ⎤\n",
       "                                               ⎥\n",
       "                               0               ⎥\n",
       "                                               ⎥\n",
       "                                               ⎥\n",
       "                               0               ⎥\n",
       "                                               ⎥\n",
       "                                               ⎥\n",
       "                               0               ⎥\n",
       "                                               ⎥\n",
       "                                               ⎥\n",
       "                               0               ⎥\n",
       "                                               ⎥\n",
       "                                               ⎥\n",
       "                               0               ⎥\n",
       "                                               ⎥\n",
       "             2                                 ⎥\n",
       "(0.5 + 0.5⋅ⅈ)    2⋅(0.5 - 0.5⋅ⅈ)⋅(0.5 + 0.5⋅ⅈ) ⎥\n",
       "                                               ⎥\n",
       "                             2                2⎥\n",
       "(0.5 + 0.5⋅ⅈ)   (0.5 - 0.5⋅ⅈ)  + (0.5 + 0.5⋅ⅈ) ⎦"
      ]
     },
     "execution_count": 34,
     "metadata": {},
     "output_type": "execute_result"
    }
   ],
   "source": [
    "represent(tof, nqubits=3)\n",
    "# 2(0.5−0.5𝑖)(0.5+0.5𝑖) = 1\n",
    "# (0.5−0.5𝑖)^2+(0.5+0.5𝑖)^2 = 0"
   ]
  },
  {
   "cell_type": "code",
   "execution_count": 35,
   "metadata": {
    "scrolled": true
   },
   "outputs": [
    {
     "data": {
      "image/png": "[encoded data removed]",
      "text/latex": [
       "$\\displaystyle \\left[\\begin{matrix}1 & 0 & 0 & 0 & 0 & 0 & 0 & 0\\\\0 & 1 & 0 & 0 & 0 & 0 & 0 & 0\\\\0 & 0 & 1 & 0 & 0 & 0 & 0 & 0\\\\0 & 0 & 0 & 1 & 0 & 0 & 0 & 0\\\\0 & 0 & 0 & 0 & 1 & 0 & 0 & 0\\\\0 & 0 & 0 & 0 & 0 & 1 & 0 & 0\\\\0 & 0 & 0 & 0 & 0 & 0 & 0 & 1\\\\0 & 0 & 0 & 0 & 0 & 0 & 1 & 0\\end{matrix}\\right]$"
      ],
      "text/plain": [
       "⎡1  0  0  0  0  0  0  0⎤\n",
       "⎢                      ⎥\n",
       "⎢0  1  0  0  0  0  0  0⎥\n",
       "⎢                      ⎥\n",
       "⎢0  0  1  0  0  0  0  0⎥\n",
       "⎢                      ⎥\n",
       "⎢0  0  0  1  0  0  0  0⎥\n",
       "⎢                      ⎥\n",
       "⎢0  0  0  0  1  0  0  0⎥\n",
       "⎢                      ⎥\n",
       "⎢0  0  0  0  0  1  0  0⎥\n",
       "⎢                      ⎥\n",
       "⎢0  0  0  0  0  0  0  1⎥\n",
       "⎢                      ⎥\n",
       "⎣0  0  0  0  0  0  1  0⎦"
      ]
     },
     "execution_count": 35,
     "metadata": {},
     "output_type": "execute_result"
    }
   ],
   "source": [
    "def Toff(q0,q1,q2):\n",
    "    return T(q0)*S(q1)*CNOT(q0,q1)*Tdg(q1)*CNOT(q0,q1)\\\n",
    "            *H(q2)*Tdg(q1)*T(q2)*CNOT(q0,q2)*Tdg(q2)*CNOT(q1,q2)\\\n",
    "            *T(q2)*CNOT(q0,q2)*Tdg(q2)*CNOT(q1,q2)*H(q2)\n",
    "\n",
    "represent(Toff(2,1,0), nqubits=3)  # 行列表現を表示します"
   ]
  },
  {
   "cell_type": "code",
   "execution_count": 36,
   "metadata": {},
   "outputs": [
    {
     "data": {
      "text/plain": [
       "<sympy.physics.quantum.circuitplot.CircuitPlot at 0x12184ad50>"
      ]
     },
     "execution_count": 36,
     "metadata": {},
     "output_type": "execute_result"
    },
    {
     "data": {
      "image/png": "[encoded data removed]",
      "text/plain": [
       "<Figure size 1152x216 with 1 Axes>"
      ]
     },
     "metadata": {},
     "output_type": "display_data"
    }
   ],
   "source": [
    "CircuitPlot(Toff(2,1,0),nqubits=3)"
   ]
  },
  {
   "cell_type": "markdown",
   "metadata": {},
   "source": [
    "### 2.3.3 量子コンピュータ版足し算回路"
   ]
  },
  {
   "cell_type": "markdown",
   "metadata": {},
   "source": [
    "* 半加算器（half adder）  \n",
    " 1 桁の 2 進数を ２つ加算"
   ]
  },
  {
   "cell_type": "code",
   "execution_count": 37,
   "metadata": {
    "scrolled": true
   },
   "outputs": [
    {
     "data": {
      "text/plain": [
       "<sympy.physics.quantum.circuitplot.CircuitPlot at 0x121619910>"
      ]
     },
     "execution_count": 37,
     "metadata": {},
     "output_type": "execute_result"
    },
    {
     "data": {
      "image/png": "[encoded data removed]",
      "text/plain": [
       "<Figure size 144x216 with 1 Axes>"
      ]
     },
     "metadata": {},
     "output_type": "display_data"
    }
   ],
   "source": [
    "halfadder=CNOT(2,1)*Toffoli(2,1,0)\n",
    "CircuitPlot(halfadder,nqubits=3)"
   ]
  },
  {
   "cell_type": "markdown",
   "metadata": {},
   "source": [
    "* 全加算器（full adder）  \n",
    "  1 桁の 2 進数を ３ つ加算"
   ]
  },
  {
   "cell_type": "code",
   "execution_count": 38,
   "metadata": {},
   "outputs": [
    {
     "data": {
      "text/plain": [
       "<sympy.physics.quantum.circuitplot.CircuitPlot at 0x121853110>"
      ]
     },
     "execution_count": 38,
     "metadata": {},
     "output_type": "execute_result"
    },
    {
     "data": {
      "image/png": "[encoded data removed]",
      "text/plain": [
       "<Figure size 288x288 with 1 Axes>"
      ]
     },
     "metadata": {},
     "output_type": "display_data"
    }
   ],
   "source": [
    "halfadder=CNOT(3,1)*Toffoli(3,1,0)*CNOT(2,1)*Toffoli(2,1,0)\n",
    "CircuitPlot(halfadder,nqubits=4)"
   ]
  },
  {
   "cell_type": "markdown",
   "metadata": {},
   "source": [
    "> 等価な算術演算ができるという意味では量子コンピュータは古典コンピュータの上位互換といえますが、そのご利益はそれほど自明ではありません。"
   ]
  },
  {
   "cell_type": "markdown",
   "metadata": {},
   "source": [
    "### 2.3.4 量子コンピュータ版算術論理演算"
   ]
  },
  {
   "cell_type": "markdown",
   "metadata": {},
   "source": [
    "\"重ね合わせ状態を使って並列計算\"  ⇔　ボルンの規則による、値の取り出し（測定）は 1/N の確率"
   ]
  },
  {
   "cell_type": "markdown",
   "metadata": {},
   "source": [
    "入力として用いる重ね合わせ状態 $\\displaystyle \\lvert x \\rangle = \\frac{1}{\\sqrt{N}} \\sum_{i=1}^N \\lvert x_{i} \\rangle $ は、$ \\lvert 0 \\dots 0 \\rangle $ に全ての量子ビットにアダマールをかけたもの"
   ]
  },
  {
   "cell_type": "code",
   "execution_count": 39,
   "metadata": {},
   "outputs": [
    {
     "data": {
      "image/png": "[encoded data removed]",
      "text/latex": [
       "$\\displaystyle H_{3} H_{2} H_{1} H_{0} {\\left|0000\\right\\rangle }$"
      ],
      "text/plain": [
       "H ⋅H ⋅H ⋅H ⋅❘0000⟩\n",
       " 3  2  1  0       "
      ]
     },
     "execution_count": 39,
     "metadata": {},
     "output_type": "execute_result"
    }
   ],
   "source": [
    "superposition=hadamard(0,4)*Qubit('0'*4)\n",
    "superposition"
   ]
  },
  {
   "cell_type": "code",
   "execution_count": 40,
   "metadata": {},
   "outputs": [
    {
     "data": {
      "image/png": "[encoded data removed]",
      "text/latex": [
       "$\\displaystyle \\left[\\begin{array}{cccccccccccccccc}\\frac{1}{4} & \\frac{1}{4} & \\frac{1}{4} & \\frac{1}{4} & \\frac{1}{4} & \\frac{1}{4} & \\frac{1}{4} & \\frac{1}{4} & \\frac{1}{4} & \\frac{1}{4} & \\frac{1}{4} & \\frac{1}{4} & \\frac{1}{4} & \\frac{1}{4} & \\frac{1}{4} & \\frac{1}{4}\\end{array}\\right]$"
      ],
      "text/plain": [
       "[1/4  1/4  1/4  1/4  1/4  1/4  1/4  1/4  1/4  1/4  1/4  1/4  1/4  1/4  1/4  1/\n",
       "4]"
      ]
     },
     "execution_count": 40,
     "metadata": {},
     "output_type": "execute_result"
    }
   ],
   "source": [
    "transpose(represent(superposition,nqubits=4))"
   ]
  },
  {
   "cell_type": "markdown",
   "metadata": {},
   "source": [
    "### 2.3.5 万能量子計算"
   ]
  },
  {
   "cell_type": "markdown",
   "metadata": {},
   "source": [
    "(Qiita記事）[量子コンピューターがコンピューターである理由](https://qiita.com/kyamaz/items/9c99bbf66c45fca535e5)  \n",
    "(Qiita記事）[量子コンピューターの計算精度とSolovay-Kitaevの定理](https://qiita.com/kyamaz/items/6d2c2708cb3351e57be1)  \n",
    "N,C\"QCQI\" 「付録C Solovay-Kitaevの定理」  "
   ]
  },
  {
   "cell_type": "markdown",
   "metadata": {},
   "source": [
    " https://www.mathstat.dal.ca/~selinger/newsynth/ ← Haskell based なサンプルがあります。（コマンド実行できます）"
   ]
  },
  {
   "cell_type": "markdown",
   "metadata": {},
   "source": [
    "## 2.4 コピーとテレポーテーション\n",
    "### 2.4.1 量子もつれ（エンタングルメント）とは？"
   ]
  },
  {
   "cell_type": "markdown",
   "metadata": {},
   "source": [
    "積状態：\n",
    "$\\begin{equation}\n",
    "\\left.\\begin{aligned}\n",
    "\\big( \\alpha \\lvert 0 \\rangle\n",
    "+ \\beta \\lvert 1 \\rangle \\big)\n",
    "\\otimes \\big( \\gamma \\lvert 0 \\rangle\n",
    "+ \\delta \\lvert 1 \\rangle \\big)\n",
    "& = \\alpha \\gamma \\lvert 00 \\rangle\n",
    "+ \\alpha \\delta \\lvert 01 \\rangle\n",
    "+ \\beta \\gamma \\lvert 10 \\rangle\n",
    "+ \\beta \\delta \\lvert 11 \\rangle\n",
    "\\end{aligned} \\right.\n",
    "\\end{equation}$"
   ]
  },
  {
   "attachments": {},
   "cell_type": "markdown",
   "metadata": {},
   "source": [
    "エンタングル状態：単純な積では表すことができない状態  \n",
    "\n",
    "例）Bell状態\n",
    "\n",
    "$\\begin{equation}\n",
    "\\left.\\begin{aligned}\n",
    "\\lvert \\Phi_{+} \\rangle =\n",
    "\\frac{1}{\\sqrt{2}} \\lvert 00 \\rangle\n",
    "+ \\frac{1}{\\sqrt{2}} \\lvert 11 \\rangle\n",
    "\\end{aligned} \\right.\n",
    "\\end{equation}$\n",
    "\n",
    "$\\begin{equation}\n",
    "\\left.\\begin{aligned}\n",
    "\\lvert \\Phi_{-} \\rangle =\n",
    "\\frac{1}{\\sqrt{2}} \\lvert 00 \\rangle\n",
    "- \\frac{1}{\\sqrt{2}} \\lvert 11 \\rangle\n",
    "\\end{aligned} \\right.\n",
    "\\end{equation}$\n",
    "\n",
    "$\\begin{equation}\n",
    "\\left.\\begin{aligned}\n",
    "\\lvert \\Psi_{+} \\rangle =\n",
    "\\frac{1}{\\sqrt{2}} \\lvert 01 \\rangle\n",
    "+ \\frac{1}{\\sqrt{2}} \\lvert 10 \\rangle\n",
    "\\end{aligned} \\right.\n",
    "\\end{equation}$\n",
    "\n",
    "$\\begin{equation}\n",
    "\\left.\\begin{aligned}\n",
    "\\lvert \\Psi_{-} \\rangle =\n",
    "\\frac{1}{\\sqrt{2}} \\lvert 01 \\rangle\n",
    "- \\frac{1}{\\sqrt{2}} \\lvert 10 \\rangle\n",
    "\\end{aligned} \\right.\n",
    "\\end{equation}$"
   ]
  },
  {
   "cell_type": "markdown",
   "metadata": {},
   "source": [
    "計算基底でエンタングルしている状態$\\lvert \\Phi_{+} \\rangle$の、アダマール基底を調べる\n",
    "\n",
    "$\\begin{equation}\n",
    "\\left.\\begin{aligned}\n",
    "\\lvert \\Phi_{+} \\rangle\n",
    "&= \\frac{1}{\\sqrt{2}} \\lvert 00 \\rangle\n",
    "+ \\frac{1}{\\sqrt{2}} \\lvert 11 \\rangle \\\\ \n",
    "&= \\frac{1}{2 \\sqrt{2}} \\left\\{ ( \\lvert +\\rangle + \\lvert -\\rangle ) \\otimes ( \\lvert +\\rangle + \\lvert -\\rangle )\n",
    "+ ( \\lvert +\\rangle - \\lvert -\\rangle ) \\otimes ( \\lvert +\\rangle - \\lvert -\\rangle )  \\right\\} \\\\\n",
    "&= \\frac{1}{2 \\sqrt{2}} \\left\\{ \\lvert ++ \\rangle + \\lvert +- \\rangle + \\lvert -+ \\rangle + \\lvert -- \\rangle\n",
    "+ \\lvert ++ \\rangle - \\lvert +- \\rangle - \\lvert -+ \\rangle + \\lvert -- \\rangle\n",
    "\\right\\} \\\\\n",
    "&= \\frac{1}{\\sqrt{2}} \\lvert ++ \\rangle\n",
    "+ \\frac{1}{\\sqrt{2}} \\lvert -- \\rangle\n",
    "\\end{aligned} \\right.\n",
    "\\end{equation}$\n"
   ]
  },
  {
   "cell_type": "markdown",
   "metadata": {},
   "source": [
    "（参考）\n",
    "[Efficient evaluation of quantum observables using entangled measurements(arXiv:1909.09119)](https://arxiv.org/abs/1909.09119)\n",
    "\n",
    "「Entanglion」IBM Research考案には、次のようなBell状態の線型結合の状態がでてきます。\n",
    "\n",
    "$\\begin{equation}\n",
    "\\left.\\begin{aligned}\n",
    "\\lvert \\Omega_{0} \\rangle\n",
    "&= \\frac{1}{\\sqrt{2}}\n",
    "\\lvert \\Phi_{+} \\rangle\n",
    "+ \\frac{1}{\\sqrt{2}}\n",
    "\\lvert \\Psi_{-} \\rangle \\\\\n",
    "&=\\frac{1}{2}(\n",
    "  \\lvert 00 \\rangle\n",
    "+ \\lvert 01 \\rangle\n",
    "- \\lvert 10 \\rangle\n",
    "+ \\lvert 11 \\rangle\n",
    ")\n",
    "\\end{aligned} \\right.\n",
    "\\end{equation}$\n",
    "\n",
    "$\\begin{equation}\n",
    "\\left.\\begin{aligned}\n",
    "\\lvert \\Omega_{1} \\rangle\n",
    "&= -\\frac{1}{\\sqrt{2}}\n",
    "\\lvert \\Phi_{-} \\rangle\n",
    "+ \\frac{1}{\\sqrt{2}}\n",
    "\\lvert \\Psi_{+} \\rangle \\\\\n",
    "&=\\frac{1}{2}(\n",
    "- \\lvert 00 \\rangle\n",
    "+ \\lvert 01 \\rangle\n",
    "+ \\lvert 10 \\rangle\n",
    "+ \\lvert 11 \\rangle\n",
    ")\n",
    "\\end{aligned} \\right.\n",
    "\\end{equation}$\n",
    "\n",
    "$\\begin{equation}\n",
    "\\left.\\begin{aligned}\n",
    "\\lvert \\Omega_{2} \\rangle\n",
    "&= \\frac{1}{\\sqrt{2}}\n",
    "\\lvert \\Phi_{-} \\rangle\n",
    "+ \\frac{1}{\\sqrt{2}}\n",
    "\\lvert \\Psi_{+} \\rangle \\\\\n",
    "&=\\frac{1}{2}(\n",
    "  \\lvert 00 \\rangle\n",
    "+ \\lvert 01 \\rangle\n",
    "+ \\lvert 10 \\rangle\n",
    "- \\lvert 11 \\rangle\n",
    ")\n",
    "\\end{aligned} \\right.\n",
    "\\end{equation}$\n",
    "\n",
    "$\\begin{equation}\n",
    "\\left.\\begin{aligned}\n",
    "\\lvert \\Omega_{3} \\rangle\n",
    "&= \\frac{1}{\\sqrt{2}}\n",
    "\\lvert \\Phi_{+} \\rangle\n",
    "- \\frac{1}{\\sqrt{2}}\n",
    "\\lvert \\Psi_{-} \\rangle \\\\\n",
    "&=\\frac{1}{2}(\n",
    " \\lvert 00 \\rangle\n",
    "- \\lvert 01 \\rangle\n",
    "+ \\lvert 10 \\rangle\n",
    "+ \\lvert 11 \\rangle\n",
    ")\n",
    "\\end{aligned} \\right.\n",
    "\\end{equation}$"
   ]
  },
  {
   "cell_type": "markdown",
   "metadata": {},
   "source": [
    "### 2.4.2 量子データはコピーできない？"
   ]
  },
  {
   "cell_type": "markdown",
   "metadata": {},
   "source": [
    "* 量子複製不可能定理（No-Cloning Theorem）\n",
    "\n",
    "ある量子状態$A_{@x}$から, 同じ量子状態を２つ($A_{@x}$と$A_{@y}$)を作ることができない.  \n",
    "ある量子状態$A_{@x}$から, 同じ量子状態$A_{@y}$に移動することはできる. ただし, 元あった量子状態 $A_{@x}$ は状態を維持できない.\n",
    "\n",
    "* ”光速を超えて情報を伝えることは不可能です”\n",
    "\n",
    "\n",
    "* （補足）ベルの不等式の破れ\n",
    "\n",
    "詳しくは, 清水明「新版 量子論の基礎」第8章  \n",
    "ベルの不等式の一種「CHSH不等式」における\"不等式の破れ\"の解説あり\n",
    "\n",
    "\n",
    "**ベルの不等式**\n",
    "```\n",
    "適当な物理量の組のある相関Cについて、原因と結果が逆転したり\n",
    "しないまともな理論の範囲内では、\n",
    "−2 ≤ C ≤ 2\n",
    "をどんな実在論も満たす。\n",
    "```\n",
    "<font color=\"red\">しかし、量子論はその不等式を破る場合がある。$|C| = 2\\sqrt{2}$ の例が示せる。</font>\n"
   ]
  },
  {
   "cell_type": "markdown",
   "metadata": {},
   "source": [
    "### 2.4.3 量子データを転送する"
   ]
  },
  {
   "cell_type": "markdown",
   "metadata": {},
   "source": [
    " * 量子テレポーテーション"
   ]
  },
  {
   "cell_type": "code",
   "execution_count": 41,
   "metadata": {},
   "outputs": [
    {
     "data": {
      "text/plain": [
       "<sympy.physics.quantum.circuitplot.CircuitPlot at 0x121698ad0>"
      ]
     },
     "execution_count": 41,
     "metadata": {},
     "output_type": "execute_result"
    },
    {
     "data": {
      "image/png": "[encoded data removed]",
      "text/plain": [
       "<Figure size 432x216 with 1 Axes>"
      ]
     },
     "metadata": {},
     "output_type": "display_data"
    }
   ],
   "source": [
    "qtelep = Mz(2)*Mz(1)*H(2)*CNOT(2,1)*CNOT(1,0)*H(1)\n",
    "CircuitPlot(qtelep,nqubits=3, labels=[\"0_{b}\",\"0_{a}\",\"\\psi_{a}\"])"
   ]
  },
  {
   "cell_type": "markdown",
   "metadata": {},
   "source": [
    "$\\begin{equation}\n",
    "\\left.\\begin{aligned}\n",
    "\\Big[\n",
    "\\lvert \\psi \\rangle _{a}\n",
    "\\otimes\n",
    "\\lvert 0 \\rangle _{a}\n",
    "\\Big]\n",
    "\\lvert 0 \\rangle _{b}\n",
    "\\end{aligned} \\right.\n",
    "\\end{equation}$"
   ]
  },
  {
   "cell_type": "markdown",
   "metadata": {},
   "source": [
    "$\\begin{equation}\n",
    "\\left.\\begin{aligned}\n",
    "\\otimes H \\cdots \\Rightarrow\n",
    "\\Big[\n",
    "\\lvert \\psi \\rangle _{a}\n",
    "\\otimes\n",
    "\\frac{1}{\\sqrt{2}} \\left(\n",
    "\\lvert 0 \\rangle _{a} +  \\lvert 1 \\rangle _{a}\n",
    "\\right) \n",
    "\\Big]\n",
    "\\lvert 0 \\rangle _{b}\n",
    "\\end{aligned} \\right.\n",
    "\\end{equation}$"
   ]
  },
  {
   "cell_type": "markdown",
   "metadata": {},
   "source": [
    "$\\begin{equation}\n",
    "\\left.\\begin{aligned}\n",
    "\\otimes CNOT _{1} \\cdots \\Rightarrow\n",
    "\\lvert \\psi \\rangle _{a}\n",
    "\\otimes\n",
    "\\frac{1}{\\sqrt{2}} \\left(\n",
    "\\lvert 0 \\rangle _{a} \\lvert 0 \\rangle _{b}  +  \\lvert 1 \\rangle _{a} \\lvert 1 \\rangle _{b} \n",
    "\\right) \n",
    "\\end{aligned} \\right.\n",
    "\\end{equation}$"
   ]
  },
  {
   "cell_type": "markdown",
   "metadata": {},
   "source": [
    "$\\begin{equation}\n",
    "\\left.\\begin{aligned}\n",
    "\\quad \\quad \\quad =\n",
    "\\left( \\alpha \\lvert 0 \\rangle _{a}\n",
    "+ \\beta \\lvert 1 \\rangle _{a} \\right)\n",
    "\\otimes\n",
    "\\frac{1}{\\sqrt{2}} \\left(\n",
    "\\lvert 0 \\rangle _{a} \\lvert 0 \\rangle _{b}  +  \\lvert 1 \\rangle _{a} \\lvert 1 \\rangle _{b} \n",
    "\\right) \n",
    "\\end{aligned} \\right.\n",
    "\\end{equation}$"
   ]
  },
  {
   "cell_type": "markdown",
   "metadata": {},
   "source": [
    "$\\begin{equation}\n",
    "\\left.\\begin{aligned}\n",
    "\\otimes CNOT _{2} \\cdots \\Rightarrow\n",
    "\\frac{1}{\\sqrt{2}} \\left(\n",
    "\\alpha \\lvert 0 \\rangle _{a} \\lvert 0 \\rangle _{a} \\lvert 0 \\rangle _{b}\n",
    "+ \\alpha \\lvert 0 \\rangle _{a} \\lvert 1 \\rangle _{a} \\lvert 1 \\rangle _{b}\n",
    "+\n",
    "\\beta \\lvert 1 \\rangle _{a} \\lvert 1 \\rangle _{a} \\lvert 0 \\rangle _{b}\n",
    "+ \\beta \\lvert 1 \\rangle _{a} \\lvert 0 \\rangle _{a} \\lvert 1 \\rangle _{b}\n",
    "\\right) \n",
    "\\end{aligned} \\right.\n",
    "\\end{equation}$"
   ]
  },
  {
   "cell_type": "markdown",
   "metadata": {},
   "source": [
    "$\\begin{equation}\n",
    "\\left.\\begin{aligned}\n",
    "\\otimes H \\cdots \\Rightarrow\n",
    "(1/2) (\n",
    "&+ \\alpha \\lvert 0 \\rangle _{a} \\lvert 0 \\rangle _{a} \\lvert 0 \\rangle _{b}\n",
    "+\n",
    "\\alpha \\lvert 1 \\rangle _{a} \\lvert 0 \\rangle _{a} \\lvert 0 \\rangle _{b} \\\\\n",
    "& +\n",
    "\\alpha \\lvert 0 \\rangle _{a} \\lvert 1 \\rangle _{a} \\lvert 1 \\rangle _{b}\n",
    "+\n",
    "\\alpha \\lvert 1 \\rangle _{a} \\lvert 1 \\rangle _{a} \\lvert 1 \\rangle _{b} \\\\\n",
    "& +\n",
    "\\beta \\lvert 0 \\rangle _{a} \\lvert 1 \\rangle _{a} \\lvert 0 \\rangle _{b}\n",
    "-\n",
    "\\beta \\lvert 1 \\rangle _{a} \\lvert 1 \\rangle _{a} \\lvert 0 \\rangle _{b} \\\\\n",
    "& +\n",
    "\\beta \\lvert 0 \\rangle _{a} \\lvert 0 \\rangle _{a} \\lvert 1 \\rangle _{b}\n",
    "-\n",
    "\\beta \\lvert 1 \\rangle _{a} \\lvert 0 \\rangle _{a} \\lvert 1 \\rangle _{b}\n",
    ")\n",
    "\\end{aligned} \\right.\n",
    "\\end{equation}$"
   ]
  },
  {
   "cell_type": "markdown",
   "metadata": {},
   "source": [
    "$\\begin{equation}\n",
    "\\left.\\begin{aligned}\n",
    "\\quad \\quad \\quad =\n",
    "(1/2) (\n",
    "&+ \\lvert 0 \\rangle _{a} \\lvert 0 \\rangle _{a} ( \\alpha \\lvert 0 \\rangle _{b} +\\beta \\lvert 1 \\rangle _{b}) \\\\\n",
    "& +\n",
    "\\lvert 0 \\rangle _{a} \\lvert 1 \\rangle _{a} ( \\alpha \\lvert 1 \\rangle _{b} + \\beta \\lvert 0 \\rangle _{b}) \\\\\n",
    "&+\n",
    "\\lvert 1 \\rangle _{a} \\lvert 0 \\rangle _{a} ( \\alpha \\lvert 0 \\rangle _{b} - \\beta \\lvert 1 \\rangle _{b} )\\\\\n",
    "& +\n",
    "\\lvert 1 \\rangle _{a} \\lvert 1 \\rangle _{a} ( \\alpha \\lvert 1 \\rangle _{b} - \\beta \\lvert 0 \\rangle _{b}) )\n",
    "\\end{aligned} \\right.\n",
    "\\end{equation}$"
   ]
  },
  {
   "cell_type": "markdown",
   "metadata": {},
   "source": [
    "### 2.4.4 量子ゲート操作を転送する"
   ]
  },
  {
   "cell_type": "markdown",
   "metadata": {},
   "source": [
    "* ゲートテレポーテーション\n",
    "* 測定型量子計算"
   ]
  },
  {
   "cell_type": "code",
   "execution_count": 42,
   "metadata": {},
   "outputs": [
    {
     "data": {
      "image/png": "[encoded data removed]",
      "text/latex": [
       "$\\displaystyle \\left[\\begin{matrix}1 & 0 & 0 & 0\\\\0 & 0 & 0 & e^{\\frac{i \\pi}{4}}\\\\0 & 1 & 0 & 0\\\\0 & 0 & e^{\\frac{i \\pi}{4}} & 0\\end{matrix}\\right]$"
      ],
      "text/plain": [
       "⎡1  0   0     0  ⎤\n",
       "⎢                ⎥\n",
       "⎢             ⅈ⋅π⎥\n",
       "⎢             ───⎥\n",
       "⎢              4 ⎥\n",
       "⎢0  0   0    ℯ   ⎥\n",
       "⎢                ⎥\n",
       "⎢0  1   0     0  ⎥\n",
       "⎢                ⎥\n",
       "⎢       ⅈ⋅π      ⎥\n",
       "⎢       ───      ⎥\n",
       "⎢        4       ⎥\n",
       "⎣0  0  ℯ      0  ⎦"
      ]
     },
     "execution_count": 42,
     "metadata": {},
     "output_type": "execute_result"
    }
   ],
   "source": [
    "gate_qtelep=T(0)*CNOT(1,0)*Tdg(0)*T(0)*CNOT(0,1)\n",
    "represent(gate_qtelep,nqubits=2)"
   ]
  },
  {
   "cell_type": "code",
   "execution_count": 43,
   "metadata": {},
   "outputs": [
    {
     "data": {
      "text/plain": [
       "<sympy.physics.quantum.circuitplot.CircuitPlot at 0x12176b750>"
      ]
     },
     "execution_count": 43,
     "metadata": {},
     "output_type": "execute_result"
    },
    {
     "data": {
      "image/png": "[encoded data removed]",
      "text/plain": [
       "<Figure size 360x144 with 1 Axes>"
      ]
     },
     "metadata": {},
     "output_type": "display_data"
    }
   ],
   "source": [
    "CircuitPlot(gate_qtelep,nqubits=2)"
   ]
  },
  {
   "cell_type": "code",
   "execution_count": 44,
   "metadata": {},
   "outputs": [
    {
     "data": {
      "image/png": "[encoded data removed]",
      "text/latex": [
       "$\\displaystyle \\frac{\\sqrt{2} {\\left|00\\right\\rangle }}{2} + \\frac{\\sqrt{2} {\\left|10\\right\\rangle }}{2}$"
      ],
      "text/plain": [
       "√2⋅❘00⟩   √2⋅❘10⟩\n",
       "─────── + ───────\n",
       "   2         2   "
      ]
     },
     "execution_count": 44,
     "metadata": {},
     "output_type": "execute_result"
    }
   ],
   "source": [
    "matrix_to_qubit(represent(gate_qtelep*H(0)*Qubit('00'),nqubits=2))"
   ]
  },
  {
   "cell_type": "code",
   "execution_count": 45,
   "metadata": {},
   "outputs": [
    {
     "data": {
      "image/png": "[encoded data removed]",
      "text/latex": [
       "$\\displaystyle \\frac{\\sqrt{2} e^{\\frac{i \\pi}{4}} {\\left|01\\right\\rangle }}{2} + \\frac{\\sqrt{2} e^{\\frac{i \\pi}{4}} {\\left|11\\right\\rangle }}{2}$"
      ],
      "text/plain": [
       "    ⅈ⋅π            ⅈ⋅π     \n",
       "    ───            ───     \n",
       "     4              4      \n",
       "√2⋅ℯ   ⋅❘01⟩   √2⋅ℯ   ⋅❘11⟩\n",
       "──────────── + ────────────\n",
       "     2              2      "
      ]
     },
     "execution_count": 45,
     "metadata": {},
     "output_type": "execute_result"
    }
   ],
   "source": [
    "matrix_to_qubit(represent(gate_qtelep*H(0)*Qubit('10'),nqubits=2))"
   ]
  },
  {
   "cell_type": "markdown",
   "metadata": {},
   "source": [
    "CNOT（の制御側）と T の交換"
   ]
  },
  {
   "cell_type": "code",
   "execution_count": 46,
   "metadata": {},
   "outputs": [
    {
     "data": {
      "image/png": "[encoded data removed]",
      "text/latex": [
       "$\\displaystyle \\left[\\begin{matrix}1 & 0 & 0 & 0\\\\0 & 0 & 0 & e^{\\frac{i \\pi}{4}}\\\\0 & 0 & 1 & 0\\\\0 & e^{\\frac{i \\pi}{4}} & 0 & 0\\end{matrix}\\right]$"
      ],
      "text/plain": [
       "⎡1   0    0   0  ⎤\n",
       "⎢                ⎥\n",
       "⎢             ⅈ⋅π⎥\n",
       "⎢             ───⎥\n",
       "⎢              4 ⎥\n",
       "⎢0   0    0  ℯ   ⎥\n",
       "⎢                ⎥\n",
       "⎢0   0    1   0  ⎥\n",
       "⎢                ⎥\n",
       "⎢    ⅈ⋅π         ⎥\n",
       "⎢    ───         ⎥\n",
       "⎢     4          ⎥\n",
       "⎣0  ℯ     0   0  ⎦"
      ]
     },
     "execution_count": 46,
     "metadata": {},
     "output_type": "execute_result"
    }
   ],
   "source": [
    "t_cnot=CNOT(0,1)*T(0)\n",
    "represent(t_cnot,nqubits=2)"
   ]
  },
  {
   "cell_type": "code",
   "execution_count": 47,
   "metadata": {},
   "outputs": [
    {
     "data": {
      "image/png": "[encoded data removed]",
      "text/latex": [
       "$\\displaystyle \\left[\\begin{matrix}1 & 0 & 0 & 0\\\\0 & 0 & 0 & e^{\\frac{i \\pi}{4}}\\\\0 & 0 & 1 & 0\\\\0 & e^{\\frac{i \\pi}{4}} & 0 & 0\\end{matrix}\\right]$"
      ],
      "text/plain": [
       "⎡1   0    0   0  ⎤\n",
       "⎢                ⎥\n",
       "⎢             ⅈ⋅π⎥\n",
       "⎢             ───⎥\n",
       "⎢              4 ⎥\n",
       "⎢0   0    0  ℯ   ⎥\n",
       "⎢                ⎥\n",
       "⎢0   0    1   0  ⎥\n",
       "⎢                ⎥\n",
       "⎢    ⅈ⋅π         ⎥\n",
       "⎢    ───         ⎥\n",
       "⎢     4          ⎥\n",
       "⎣0  ℯ     0   0  ⎦"
      ]
     },
     "execution_count": 47,
     "metadata": {},
     "output_type": "execute_result"
    }
   ],
   "source": [
    "cnot_t=T(0)*CNOT(0,1)\n",
    "represent(t_cnot,nqubits=2)"
   ]
  },
  {
   "cell_type": "markdown",
   "metadata": {},
   "source": [
    "$ TXT^{\\dagger} $の計算"
   ]
  },
  {
   "cell_type": "code",
   "execution_count": 48,
   "metadata": {},
   "outputs": [
    {
     "data": {
      "image/png": "[encoded data removed]",
      "text/latex": [
       "$\\displaystyle \\left[\\begin{matrix}0 & 1\\\\i & 0\\end{matrix}\\right]$"
      ],
      "text/plain": [
       "⎡0  1⎤\n",
       "⎢    ⎥\n",
       "⎣ⅈ  0⎦"
      ]
     },
     "execution_count": 48,
     "metadata": {},
     "output_type": "execute_result"
    }
   ],
   "source": [
    "TXTdg = T(0)*X(0)*Tdg(0)\n",
    "represent(exp(I*pi/4)*TXTdg, nqubits=1)"
   ]
  },
  {
   "cell_type": "code",
   "execution_count": 49,
   "metadata": {},
   "outputs": [
    {
     "data": {
      "image/png": "[encoded data removed]",
      "text/latex": [
       "$\\displaystyle \\left[\\begin{matrix}0 & 1\\\\i & 0\\end{matrix}\\right]$"
      ],
      "text/plain": [
       "⎡0  1⎤\n",
       "⎢    ⎥\n",
       "⎣ⅈ  0⎦"
      ]
     },
     "execution_count": 49,
     "metadata": {},
     "output_type": "execute_result"
    }
   ],
   "source": [
    "represent(S(0)*X(0), nqubits=1)"
   ]
  },
  {
   "cell_type": "markdown",
   "metadata": {},
   "source": [
    "Controlled- SX"
   ]
  },
  {
   "cell_type": "code",
   "execution_count": 50,
   "metadata": {
    "scrolled": true
   },
   "outputs": [
    {
     "data": {
      "image/png": "[encoded data removed]",
      "text/latex": [
       "$\\displaystyle \\left[\\begin{matrix}1 & 0 & 0 & 0\\\\0 & 1 & 0 & 0\\\\0 & 0 & 0 & i\\\\0 & 0 & 1 & 0\\end{matrix}\\right]$"
      ],
      "text/plain": [
       "⎡1  0  0  0⎤\n",
       "⎢          ⎥\n",
       "⎢0  1  0  0⎥\n",
       "⎢          ⎥\n",
       "⎢0  0  0  ⅈ⎥\n",
       "⎢          ⎥\n",
       "⎣0  0  1  0⎦"
      ]
     },
     "execution_count": 50,
     "metadata": {},
     "output_type": "execute_result"
    }
   ],
   "source": [
    "def CSX(c,t):  return CNOT(c,t)*CGateS([c],S(t))\n",
    "represent(CSX(1,0),nqubits=2)"
   ]
  },
  {
   "cell_type": "code",
   "execution_count": 51,
   "metadata": {},
   "outputs": [
    {
     "data": {
      "text/plain": [
       "<sympy.physics.quantum.circuitplot.CircuitPlot at 0x121cfae90>"
      ]
     },
     "execution_count": 51,
     "metadata": {},
     "output_type": "execute_result"
    },
    {
     "data": {
      "image/png": "[encoded data removed]",
      "text/plain": [
       "<Figure size 144x144 with 1 Axes>"
      ]
     },
     "metadata": {},
     "output_type": "display_data"
    }
   ],
   "source": [
    "CircuitPlot(CSX(1,0),nqubits=2)"
   ]
  },
  {
   "cell_type": "code",
   "execution_count": 52,
   "metadata": {},
   "outputs": [
    {
     "data": {
      "image/png": "[encoded data removed]",
      "text/latex": [
       "$\\displaystyle \\left[\\begin{matrix}1 & 0 & 0 & 0\\\\0 & 0 & 0 & e^{\\frac{i \\pi}{4}}\\\\0 & i e^{\\frac{i \\pi}{4}} & 0 & 0\\\\0 & 0 & 1 & 0\\end{matrix}\\right]$"
      ],
      "text/plain": [
       "⎡1    0     0   0  ⎤\n",
       "⎢                  ⎥\n",
       "⎢               ⅈ⋅π⎥\n",
       "⎢               ───⎥\n",
       "⎢                4 ⎥\n",
       "⎢0    0     0  ℯ   ⎥\n",
       "⎢                  ⎥\n",
       "⎢      ⅈ⋅π         ⎥\n",
       "⎢      ───         ⎥\n",
       "⎢       4          ⎥\n",
       "⎢0  ⅈ⋅ℯ     0   0  ⎥\n",
       "⎢                  ⎥\n",
       "⎣0    0     1   0  ⎦"
      ]
     },
     "execution_count": 52,
     "metadata": {},
     "output_type": "execute_result"
    }
   ],
   "source": [
    "gate_qtelep2 = CSX(1,0)*T(0)*CNOT(0,1)\n",
    "represent(gate_qtelep2,nqubits=2)"
   ]
  },
  {
   "cell_type": "code",
   "execution_count": 53,
   "metadata": {},
   "outputs": [
    {
     "data": {
      "image/png": "[encoded data removed]",
      "text/latex": [
       "$\\displaystyle \\left[\\begin{matrix}1 & 0 & 0 & 0\\\\0 & 0 & 0 & e^{\\frac{i \\pi}{4}}\\\\0 & i e^{\\frac{i \\pi}{4}} & 0 & 0\\\\0 & 0 & 1 & 0\\end{matrix}\\right]$"
      ],
      "text/plain": [
       "⎡1    0     0   0  ⎤\n",
       "⎢                  ⎥\n",
       "⎢               ⅈ⋅π⎥\n",
       "⎢               ───⎥\n",
       "⎢                4 ⎥\n",
       "⎢0    0     0  ℯ   ⎥\n",
       "⎢                  ⎥\n",
       "⎢      ⅈ⋅π         ⎥\n",
       "⎢      ───         ⎥\n",
       "⎢       4          ⎥\n",
       "⎢0  ⅈ⋅ℯ     0   0  ⎥\n",
       "⎢                  ⎥\n",
       "⎣0    0     1   0  ⎦"
      ]
     },
     "execution_count": 53,
     "metadata": {},
     "output_type": "execute_result"
    }
   ],
   "source": [
    "gate_qtelep3 = CSX(1,0)*CNOT(0,1)*T(0)\n",
    "represent(gate_qtelep3,nqubits=2)"
   ]
  },
  {
   "cell_type": "markdown",
   "metadata": {},
   "source": [
    "（参考）6.4.4 魔法状態（magic state）とは？\n",
    "\n",
    "$ \\displaystyle \\lvert T _{L} \\rangle = T \\lvert + _{L} \\rangle = e^{-i\\frac{\\pi}{8} Z} \\frac{1}{\\sqrt{2}} ( \\lvert 0 _{L}\\rangle + \\lvert 1 _{L} \\rangle )$\n",
    "\n",
    "魔法状態蒸留（magic state distillation）… 十分にエラーの少ない $ \\lvert T _ {L} \\rangle $ を作り出す方法\n",
    "\n",
    "１回の魔法状態上流に少なくとも、15量子ビットの補助量子ビットが必要。$l$回行うと$15^{l}$個の補助量子ビットが必要で、それだけかけて、精度の高い１論理 T ゲート（正確には「魔法状態」）が作り上げられる。"
   ]
  },
  {
   "cell_type": "code",
   "execution_count": null,
   "metadata": {},
   "outputs": [],
   "source": []
  }
 ],
 "metadata": {
  "kernelspec": {
   "display_name": "Python 3",
   "language": "python",
   "name": "python3"
  },
  "language_info": {
   "codemirror_mode": {
    "name": "ipython",
    "version": 3
   },
   "file_extension": ".py",
   "mimetype": "text/x-python",
   "name": "python",
   "nbconvert_exporter": "python",
   "pygments_lexer": "ipython3",
   "version": "3.7.7"
  }
 },
 "nbformat": 4,
 "nbformat_minor": 2
}
