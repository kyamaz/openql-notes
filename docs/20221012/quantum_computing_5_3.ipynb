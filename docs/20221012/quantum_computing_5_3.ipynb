{
 "cells": [
  {
   "cell_type": "markdown",
   "metadata": {},
   "source": [
    "（副読本）\n",
    "* ニールセン・チャン「量子コンピュータと量子通信」（ここでは N,C\"QCQI\" と書きます）\n",
    "* arXivに公開されている論文"
   ]
  },
  {
   "cell_type": "markdown",
   "metadata": {},
   "source": [
    "# 5. NISQ量子アルゴリズム\n",
    "\n",
    "NISQ （Noisy Intermediate-Scale Quantum） ←★\n",
    "\n",
    "↑ \n",
    "\n",
    "↓ \n",
    "\n",
    "FTQC （Fault Tolerant Quantum Computer）\n",
    "\n",
    "\n",
    "（keywords）\n",
    "\n",
    "- VQE（Variational Quantum Eigensolver, 変分量子固有値法）\n",
    "- QAOA（Quantum Approximate Optimization Algorithm）\n",
    "- VQS（Variational Quantum Simulator）\n",
    "- QCL（Quantum Circuit Learning） ←★\n",
    "\n",
    "\n",
    "125) [1803.00745/Quantum Circuit Learning](https://arxiv.org/pdf/1803.00745.pdf)"
   ]
  },
  {
   "cell_type": "markdown",
   "metadata": {},
   "source": [
    "## 5.3 パラメータ付き量子回路による機械学習\n",
    "\n",
    "Parameterized quantum circuit\n",
    "\n",
    "### 5.3.1 量子回路学習とニューラルネット\n",
    "\n",
    "ニューラルネット：パラメータ付き線形関数＋非線形関数（活性化関数、sigmoid等）\n",
    "\n",
    "\n",
    "↑ \n",
    "\n",
    "↓ \n",
    "\n",
    "量子回路学習：パラメータ付き複数量子ビットの量子回路　←テンソル積構造（←非線形性）\n",
    "\n",
    "\n",
    "---\n",
    "\n",
    "1) 訓練入力 $\\mathbf{x}_i$ をパラメンータとする量子回路 $U_{in} (\\mathbf{x})$ を量子ビットに作用させ、$\\mathbf{x} _i $ の情報をエンコードした状態 $ \\{ \\lvert \\varphi _{in} (\\mathbf{x}_i) \\rangle \\} $ を作る\n",
    "\n",
    "2) 入力状態 $ \\{ \\lvert \\varphi _{in} (\\mathbf{x}_i) \\rangle \\} $ をパラメータ $ \\theta $ によって決まる量子回路 $ U(\\theta)$ によって出力状態 $ \\{ \\varphi _{out} (\\mathbf{x}_i, \\theta ) = U(\\theta) \\lvert \\varphi _{in} (\\mathbf{x}_i) \\rangle \\} $ に変換する\n",
    "\n",
    "3) 量子ビットを計算基底で測定し、ビット列 $ z_{i} $ を取得する\n",
    "\n",
    "4) 関数 $ y = f(z) $ （定義域・値域が $ y, z $ に合うように定数倍、softmax関数など）で最終的なモデル出力 $\\{ y_{i} \\}$ に変換する\n",
    "\n",
    "5) 訓練出力 $\\{ y_{i} \\}$ とモデル出力 $ \\{ y (\\mathbf{x}_i, \\theta ) \\} $ の間の差を評価する損失関数\n",
    "$ L(\\theta) $ を計算し、$ L(\\theta) $ を最小化する $ \\theta ^{*} $ を求める（※古典計算による）\n",
    "\n",
    "（↑ここまでが学習。↓次が学習したモデルを用いた予測）\n",
    "\n",
    "6) 未知の入力データ $\\tilde { \\mathbf{x} }$ を$U_{in} (\\tilde { \\mathbf{x} })$ でエンコードし、パラメータ $ \\theta ^{*} $ を使った量子回路 $ U(\\theta^{*} ) $ を実行して、予測 $ y (\\tilde { \\mathbf{x} }, \\theta^{*} ) $ を得る\n",
    "\n",
    "---\n",
    "\n"
   ]
  },
  {
   "cell_type": "markdown",
   "metadata": {},
   "source": [
    "p.160の一番上の式\n",
    "\n",
    "$ R_y (2 \\theta ) = \\cos{ \\theta } I - i \\sin{ \\theta } Y $ より\n",
    "\n",
    "$ \\theta = \\sin ^{-1} x $ を入れて\n",
    "\n",
    "$ R_y (2 \\sin ^{-1} x ) = \\cos{ ( \\sin ^{-1} x  ) } I - i \\sin{ ( \\sin ^{-1} x ) } Y $ \n",
    "\n",
    "一般に $  \\cos{ \\alpha } = \\sqrt { 1 - \\sin ^{2} \\alpha  } $ これに $ \\alpha = \\sin ^{-1} x $ を入れると、$ \\cos{ ( \\sin ^{-1} x  ) } =  \\sqrt { 1 - \\sin ^{2} ( \\sin ^{-1} x  ) } = \\sqrt { 1 - x ^ 2} $\n",
    "\n",
    "すなわち、 $ R_y (2 \\sin ^{-1} x ) = \\sqrt { 1 - x ^ 2} I - i x Y $\n",
    "\n",
    "\n",
    "---\n",
    "\n",
    "\n",
    "$ \\rho_{in} ( x ) = \\displaystyle \\Big(  \\frac{I + x X + \\sqrt{1 - x^2} Z}{2} \\Big) ^{ \\otimes 2} $"
   ]
  },
  {
   "cell_type": "markdown",
   "metadata": {},
   "source": [
    "### 5.3.2 いろいろなパラメータ付き量子回路モデル\n",
    "\n",
    "\n",
    "129) [1804.08641/Quantum generative adversarial networks](https://arxiv.org/pdf/1804.08641.pdf)\n",
    "\n",
    "131) [1804.00633/Circuit-centric quantum classifiers](https://arxiv.org/pdf/1804.00633.pdf)\n",
    "\n",
    "### 5.3.3 量子コンピュータ向きの機械学習タスクは…？\n",
    "\n",
    "\n",
    "127) [1804.11326/Supervised learning with quantum enhanced feature spaces](https://arxiv.org/pdf/1804.11326.pdf)\n",
    "\n",
    "↑変分量子回路、量子カーネル推定\n",
    "\n",
    "139) [1811.02266/An Artificial Neuron Implemented on an Actual Quantum Processor](https://arxiv.org/pdf/1811.02266.pdf)\n",
    "\n",
    "↑量子パーセプトロン\n",
    "\n",
    "140) [1904.00043/Quantum Generative Adversarial Networks for Learning and Loading Random Distributions](https://arxiv.org/pdf/1904.00043.pdf)\n",
    "\n",
    "↑量子GAN\n",
    "\n",
    "141) [1811.09905/Generative model benchmarks for superconducting qubits](https://arxiv.org/pdf/1811.09905.pdf)\n",
    "\n",
    "↑量子回路ボルツマンマシン（QCBM)\n",
    "\n",
    "130) [1801.07686/A generative modeling approach for benchmarking and training shallow quantum circuits](https://arxiv.org/pdf/1801.07686.pdf)\n",
    "\n",
    "142) [1812.08862/Training of Quantum Circuits on a Hybrid Quantum Computer](https://arxiv.org/pdf/1812.08862.pdf)\n",
    "\n",
    "↑データ駆動型量子回路学習（DDQCL）\n",
    "\n",
    "143) [1807.10643/Experimental Implementation of a Quantum Autoencoder via Quantum Adders](https://arxiv.org/pdf/1807.10643.pdf)\n",
    "\n",
    "↑量子オートエンコーダ（QAE）\n"
   ]
  },
  {
   "cell_type": "markdown",
   "metadata": {},
   "source": [
    "### 5.3.4 勾配を計算する\n",
    "\n",
    "**パラメータシフト法**\n",
    "\n",
    "145) [1811.11184/Evaluating analytic gradients on quantum hardware](https://arxiv.org/pdf/1811.11184.pdf)\n",
    "\n",
    "146) [1905.13311/Gradients of parameterized quantum gates using the parameter-shift rule and gate decomposition](https://arxiv.org/pdf/1905.13311.pdf)\n"
   ]
  },
  {
   "cell_type": "code",
   "execution_count": null,
   "metadata": {},
   "outputs": [],
   "source": []
  }
 ],
 "metadata": {
  "kernelspec": {
   "display_name": "Python 3",
   "language": "python",
   "name": "python3"
  },
  "language_info": {
   "codemirror_mode": {
    "name": "ipython",
    "version": 3
   },
   "file_extension": ".py",
   "mimetype": "text/x-python",
   "name": "python",
   "nbconvert_exporter": "python",
   "pygments_lexer": "ipython3",
   "version": "3.7.7"
  }
 },
 "nbformat": 4,
 "nbformat_minor": 2
}
