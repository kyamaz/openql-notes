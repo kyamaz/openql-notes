{
 "cells": [
  {
   "cell_type": "markdown",
   "metadata": {},
   "source": [
    "（副読本）\n",
    "* ニールセン・チャン「量子コンピュータと量子通信」（ここでは N,C\"QCQI\" と書きます）\n",
    "* arXivに公開されている論文"
   ]
  },
  {
   "cell_type": "code",
   "execution_count": 1,
   "metadata": {},
   "outputs": [],
   "source": [
    "from sympy import *\n",
    "from sympy.physics.quantum import *\n",
    "from sympy.physics.quantum.qubit import Qubit, QubitBra, measure_all, measure_all_oneshot,measure_partial, matrix_to_qubit\n",
    "from sympy.physics.quantum.gate import H,X,Y,Z,S,T,CPHASE,CNOT,SWAP,UGate,CGateS,gate_simp,OneQubitGate\n",
    "from sympy.physics.quantum.gate import IdentityGate as _I\n",
    "%matplotlib inline\n",
    "import matplotlib.pyplot as plt\n",
    "from sympy.physics.quantum.circuitplot import CircuitPlot,labeller, Mz,CreateOneQubitGate\n",
    "def CCX(c1,c2,t):  return CGateS((c1,c2),X(t))"
   ]
  },
  {
   "cell_type": "markdown",
   "metadata": {},
   "source": [
    "# 6. 量子コンピュータのエラー訂正\n",
    "\n",
    "## 6.5 トポロジカル符号は奇妙なアイディア？\n",
    "\n",
    "### 6.5.1 トーラスを”ひらめき”にする（表面符号）\n",
    "\n",
    "[Fault-tolerant quantum computation by anyons(arXiv:quant-ph/9707021)](https://arxiv.org/abs/quant-ph/9707021)\n",
    "\n",
    "Keywords: 　トポロジカル符号、 KitaevのToric Code、 表面符号"
   ]
  },
  {
   "cell_type": "markdown",
   "metadata": {},
   "source": [
    "### 6.5.2 ５量子ビットの表面符号\n",
    "\n",
    "表面符号の基本形\n"
   ]
  },
  {
   "cell_type": "code",
   "execution_count": 2,
   "metadata": {},
   "outputs": [],
   "source": [
    "L0 =1/2*( Qubit(\"00000\")+Qubit(\"00111\")+Qubit(\"11011\")+Qubit(\"11100\"))\n",
    "L1=1/2*( Qubit(\"01001\")+Qubit(\"01110\")+Qubit(\"10010\")+Qubit(\"10101\"))"
   ]
  },
  {
   "cell_type": "code",
   "execution_count": 3,
   "metadata": {},
   "outputs": [],
   "source": [
    "S1=X(0)*X(1)*X(2)\n",
    "S2=X(2)*X(3)*X(4)\n",
    "S3=Z(0)*Z(2)*Z(3)\n",
    "S4=Z(1)*Z(2)*Z(4)"
   ]
  },
  {
   "cell_type": "code",
   "execution_count": 4,
   "metadata": {},
   "outputs": [
    {
     "data": {
      "text/latex": [
       "$\\displaystyle 0.5 {\\left|00000\\right\\rangle } + 0.5 {\\left|00111\\right\\rangle } + 0.5 {\\left|11011\\right\\rangle } + 0.5 {\\left|11100\\right\\rangle }$"
      ],
      "text/plain": [
       "0.5*|00000> + 0.5*|00111> + 0.5*|11011> + 0.5*|11100>"
      ]
     },
     "execution_count": 4,
     "metadata": {},
     "output_type": "execute_result"
    }
   ],
   "source": [
    "qapply(S1*L0)"
   ]
  },
  {
   "cell_type": "code",
   "execution_count": 5,
   "metadata": {},
   "outputs": [
    {
     "data": {
      "text/latex": [
       "$\\displaystyle 0.5 {\\left|00000\\right\\rangle } + 0.5 {\\left|00111\\right\\rangle } + 0.5 {\\left|11011\\right\\rangle } + 0.5 {\\left|11100\\right\\rangle }$"
      ],
      "text/plain": [
       "0.5*|00000> + 0.5*|00111> + 0.5*|11011> + 0.5*|11100>"
      ]
     },
     "execution_count": 5,
     "metadata": {},
     "output_type": "execute_result"
    }
   ],
   "source": [
    "qapply(S2*L0)"
   ]
  },
  {
   "cell_type": "code",
   "execution_count": 6,
   "metadata": {},
   "outputs": [
    {
     "data": {
      "text/latex": [
       "$\\displaystyle 0.5 {\\left|00000\\right\\rangle } + 0.5 {\\left|00111\\right\\rangle } + 0.5 {\\left|11011\\right\\rangle } + 0.5 {\\left|11100\\right\\rangle }$"
      ],
      "text/plain": [
       "0.5*|00000> + 0.5*|00111> + 0.5*|11011> + 0.5*|11100>"
      ]
     },
     "execution_count": 6,
     "metadata": {},
     "output_type": "execute_result"
    }
   ],
   "source": [
    "qapply(S3*L0)"
   ]
  },
  {
   "cell_type": "code",
   "execution_count": 7,
   "metadata": {},
   "outputs": [
    {
     "data": {
      "text/latex": [
       "$\\displaystyle 0.5 {\\left|00000\\right\\rangle } + 0.5 {\\left|00111\\right\\rangle } + 0.5 {\\left|11011\\right\\rangle } + 0.5 {\\left|11100\\right\\rangle }$"
      ],
      "text/plain": [
       "0.5*|00000> + 0.5*|00111> + 0.5*|11011> + 0.5*|11100>"
      ]
     },
     "execution_count": 7,
     "metadata": {},
     "output_type": "execute_result"
    }
   ],
   "source": [
    "qapply(S4*L0)"
   ]
  },
  {
   "cell_type": "code",
   "execution_count": 8,
   "metadata": {},
   "outputs": [
    {
     "data": {
      "text/latex": [
       "$\\displaystyle 0.5 {\\left|01001\\right\\rangle } + 0.5 {\\left|01110\\right\\rangle } + 0.5 {\\left|10010\\right\\rangle } + 0.5 {\\left|10101\\right\\rangle }$"
      ],
      "text/plain": [
       "0.5*|01001> + 0.5*|01110> + 0.5*|10010> + 0.5*|10101>"
      ]
     },
     "execution_count": 8,
     "metadata": {},
     "output_type": "execute_result"
    }
   ],
   "source": [
    "qapply(S1*L1)"
   ]
  },
  {
   "cell_type": "code",
   "execution_count": 9,
   "metadata": {},
   "outputs": [
    {
     "data": {
      "text/latex": [
       "$\\displaystyle 0.5 {\\left|01001\\right\\rangle } + 0.5 {\\left|01110\\right\\rangle } + 0.5 {\\left|10010\\right\\rangle } + 0.5 {\\left|10101\\right\\rangle }$"
      ],
      "text/plain": [
       "0.5*|01001> + 0.5*|01110> + 0.5*|10010> + 0.5*|10101>"
      ]
     },
     "execution_count": 9,
     "metadata": {},
     "output_type": "execute_result"
    }
   ],
   "source": [
    "qapply(S2*L1)"
   ]
  },
  {
   "cell_type": "code",
   "execution_count": 10,
   "metadata": {},
   "outputs": [
    {
     "data": {
      "text/latex": [
       "$\\displaystyle 0.5 {\\left|01001\\right\\rangle } + 0.5 {\\left|01110\\right\\rangle } + 0.5 {\\left|10010\\right\\rangle } + 0.5 {\\left|10101\\right\\rangle }$"
      ],
      "text/plain": [
       "0.5*|01001> + 0.5*|01110> + 0.5*|10010> + 0.5*|10101>"
      ]
     },
     "execution_count": 10,
     "metadata": {},
     "output_type": "execute_result"
    }
   ],
   "source": [
    "qapply(S3*L1)"
   ]
  },
  {
   "cell_type": "code",
   "execution_count": 11,
   "metadata": {},
   "outputs": [
    {
     "data": {
      "text/latex": [
       "$\\displaystyle 0.5 {\\left|01001\\right\\rangle } + 0.5 {\\left|01110\\right\\rangle } + 0.5 {\\left|10010\\right\\rangle } + 0.5 {\\left|10101\\right\\rangle }$"
      ],
      "text/plain": [
       "0.5*|01001> + 0.5*|01110> + 0.5*|10010> + 0.5*|10101>"
      ]
     },
     "execution_count": 11,
     "metadata": {},
     "output_type": "execute_result"
    }
   ],
   "source": [
    "qapply(S4*L1)"
   ]
  },
  {
   "cell_type": "code",
   "execution_count": 12,
   "metadata": {},
   "outputs": [
    {
     "data": {
      "text/latex": [
       "$\\displaystyle 0.5 {\\left|00011\\right\\rangle } + 0.5 {\\left|00100\\right\\rangle } + 0.5 {\\left|11000\\right\\rangle } + 0.5 {\\left|11111\\right\\rangle }$"
      ],
      "text/plain": [
       "0.5*|00011> + 0.5*|00100> + 0.5*|11000> + 0.5*|11111>"
      ]
     },
     "execution_count": 12,
     "metadata": {},
     "output_type": "execute_result"
    }
   ],
   "source": [
    "errX3=X(2)*L0\n",
    "qapply(errX3)"
   ]
  },
  {
   "cell_type": "code",
   "execution_count": 13,
   "metadata": {},
   "outputs": [
    {
     "data": {
      "text/latex": [
       "$\\displaystyle 0.5 {\\left|00011\\right\\rangle } + 0.5 {\\left|00100\\right\\rangle } + 0.5 {\\left|11000\\right\\rangle } + 0.5 {\\left|11111\\right\\rangle }$"
      ],
      "text/plain": [
       "0.5*|00011> + 0.5*|00100> + 0.5*|11000> + 0.5*|11111>"
      ]
     },
     "execution_count": 13,
     "metadata": {},
     "output_type": "execute_result"
    }
   ],
   "source": [
    "qapply(S1*errX3)"
   ]
  },
  {
   "cell_type": "code",
   "execution_count": 14,
   "metadata": {},
   "outputs": [
    {
     "data": {
      "text/latex": [
       "$\\displaystyle 0.5 {\\left|00011\\right\\rangle } + 0.5 {\\left|00100\\right\\rangle } + 0.5 {\\left|11000\\right\\rangle } + 0.5 {\\left|11111\\right\\rangle }$"
      ],
      "text/plain": [
       "0.5*|00011> + 0.5*|00100> + 0.5*|11000> + 0.5*|11111>"
      ]
     },
     "execution_count": 14,
     "metadata": {},
     "output_type": "execute_result"
    }
   ],
   "source": [
    "qapply(S2*errX3)"
   ]
  },
  {
   "cell_type": "code",
   "execution_count": 15,
   "metadata": {},
   "outputs": [
    {
     "data": {
      "text/latex": [
       "$\\displaystyle - 0.5 {\\left|00011\\right\\rangle } - 0.5 {\\left|00100\\right\\rangle } - 0.5 {\\left|11000\\right\\rangle } - 0.5 {\\left|11111\\right\\rangle }$"
      ],
      "text/plain": [
       "-0.5*|00011> - 0.5*|00100> - 0.5*|11000> - 0.5*|11111>"
      ]
     },
     "execution_count": 15,
     "metadata": {},
     "output_type": "execute_result"
    }
   ],
   "source": [
    "qapply(S3*errX3)"
   ]
  },
  {
   "cell_type": "code",
   "execution_count": 16,
   "metadata": {},
   "outputs": [
    {
     "data": {
      "text/latex": [
       "$\\displaystyle - 0.5 {\\left|00011\\right\\rangle } - 0.5 {\\left|00100\\right\\rangle } - 0.5 {\\left|11000\\right\\rangle } - 0.5 {\\left|11111\\right\\rangle }$"
      ],
      "text/plain": [
       "-0.5*|00011> - 0.5*|00100> - 0.5*|11000> - 0.5*|11111>"
      ]
     },
     "execution_count": 16,
     "metadata": {},
     "output_type": "execute_result"
    }
   ],
   "source": [
    "qapply(S4*errX3)"
   ]
  },
  {
   "cell_type": "markdown",
   "metadata": {},
   "source": [
    "### 6.5.3 誤り耐性を大きくするには？\n",
    "\n",
    "複数の誤りに対して耐性をもたせるようにするには、訂正するべき量子ビットが十分離れていなければ訂正できなさそう\n"
   ]
  },
  {
   "cell_type": "markdown",
   "metadata": {},
   "source": [
    "### 6.5.4 しきい値定理と誤り耐性量子計算\n",
    "\n",
    "---\n",
    "\n",
    "【重要な定理】しきい値定理　\n",
    "\n",
    "各論理ゲートの雑音がある一定のしきい値以下ならば、任意の大きな量子計算を効率的く行うことができる\n",
    "（N,C\"QCQI\"の１０章を参照のこと）\n",
    "\n",
    "↓言い換え\n",
    "\n",
    "量子ゲート操作のエラー率があるしきい値より小さければ、任意精度の量子計算を多項式時間で実行できる\n",
    "（テキスト）\n",
    "\n",
    "---\n",
    "\n",
    "表面符号は、サイズを大きくすれば物理エラーから論理量子ビットを護りやすくなる\n",
    "⇔ 一方で、サイズが大きくなると物理量子ビットが多くなり物理エラーが増える\n",
    "\n",
    "物理エラーが 1% 未満であれば、表面符号がうまくいく\n",
    "\n",
    "<font color=\"red\"> 物理量子ビットのエラー率は 1% 未満がハードウェアの目標となる </font>\n"
   ]
  },
  {
   "cell_type": "markdown",
   "metadata": {},
   "source": [
    "## 6.6 論理ゲート操作を作ろう\n",
    "\n",
    "\n",
    "表面符号のタイプには大きくわけて、２種類のタイプがあり、どちらがより効率がよいか等の検証がされています\n",
    "\n",
    "* Lattice Surgery　【planar型】\n",
    "\n",
    "[Surface code quantum computing by lattice surgery(arXiv:1111.4022)](https://arxiv.org/abs/1111.4022)\n",
    "\n",
    "[A Game of Surface Codes: Large-Scale Quantum Computing with Lattice Surgery(arXiv:1808.02892)](https://arxiv.org/abs/1808.02892)\n",
    "\n",
    "\n",
    "* Defect Braiding　【double-defect型】\n",
    "\n",
    "[Surface codes: Towards practical large-scale quantum computation(arXiv:1208.0928)](https://arxiv.org/abs/1208.0928)\n",
    "\n"
   ]
  },
  {
   "cell_type": "markdown",
   "metadata": {},
   "source": [
    "### 6.6.1 論理１量子ビットゲート操作\n",
    "\n",
    "論理量子ゲート操作\n",
    "\n",
    "論理 X ゲート操作　＝　対象の範囲の左から右まで繋げた線上のすべての物理量子ビットに X ゲート操作をする  \n",
    "論理 Z ゲート操作　＝　対象の範囲の上から下まで繋げた線上のすべての物理量子ビットに Z ゲート操作をする\n",
    "\n",
    "\n",
    "1208.0928 Fig1: データ量子ビットは白丸（○）、エラー訂正のために測定する量子ビットは黒丸（●）\n",
    "<img src=\"1208.0928_fig1.png\" width=\"400\" />\n",
    "\n",
    "1208.0928 Fig3:論理１量子ビットゲート操作\n",
    "<img src=\"1208.0928_fig3.png\" width=\"400\" />"
   ]
  },
  {
   "cell_type": "markdown",
   "metadata": {},
   "source": [
    "### 6.6.2 論理２量子ビットゲート操作（Lattice surgery）\n",
    "\n"
   ]
  },
  {
   "cell_type": "markdown",
   "metadata": {},
   "source": [
    "CNOTを考えると、Lattice surgery は論理３量子ビットの切り貼りで実現できます。\n",
    "\n",
    "（参考） Defect brading は２つの論理量子ビットを動かす（ defect の周りを編む（ braiding する ）　操作で実現します。"
   ]
  },
  {
   "cell_type": "code",
   "execution_count": null,
   "metadata": {},
   "outputs": [],
   "source": []
  }
 ],
 "metadata": {
  "kernelspec": {
   "display_name": "Python 3 (ipykernel)",
   "language": "python",
   "name": "python3"
  },
  "language_info": {
   "codemirror_mode": {
    "name": "ipython",
    "version": 3
   },
   "file_extension": ".py",
   "mimetype": "text/x-python",
   "name": "python",
   "nbconvert_exporter": "python",
   "pygments_lexer": "ipython3",
   "version": "3.10.3"
  }
 },
 "nbformat": 4,
 "nbformat_minor": 2
}
