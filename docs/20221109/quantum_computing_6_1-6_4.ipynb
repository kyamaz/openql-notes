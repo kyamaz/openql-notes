{
 "cells": [
  {
   "cell_type": "markdown",
   "metadata": {},
   "source": [
    "（副読本）\n",
    "* ニールセン・チャン「量子コンピュータと量子通信」（ここでは N,C\"QCQI\" と書きます）\n",
    "* arXivに公開されている論文"
   ]
  },
  {
   "cell_type": "code",
   "execution_count": 1,
   "metadata": {},
   "outputs": [],
   "source": [
    "from sympy import *\n",
    "from sympy.physics.quantum import *\n",
    "from sympy.physics.quantum.qubit import Qubit, QubitBra, measure_all, measure_all_oneshot,measure_partial, matrix_to_qubit\n",
    "from sympy.physics.quantum.gate import H,X,Y,Z,S,T,CPHASE,CNOT,SWAP,UGate,CGateS,gate_simp,OneQubitGate\n",
    "from sympy.physics.quantum.gate import IdentityGate as _I\n",
    "%matplotlib inline\n",
    "import matplotlib.pyplot as plt\n",
    "from sympy.physics.quantum.circuitplot import CircuitPlot,labeller, Mz,CreateOneQubitGate\n",
    "def CCX(c1,c2,t):  return CGateS((c1,c2),X(t))"
   ]
  },
  {
   "cell_type": "markdown",
   "metadata": {},
   "source": [
    "# 6. 量子コンピュータのエラー訂正\n",
    "\n",
    "## 6.1 符号化と論理ビット\n",
    "\n",
    "\n",
    "$ 0_L := 000 $\n",
    "$ 1_L := 111 $\n",
    "\n",
    "* 符号語\n",
    "* 符号距離"
   ]
  },
  {
   "cell_type": "markdown",
   "metadata": {},
   "source": [
    "## 6.2 パリティチェックでエラーを見つける\n",
    "\n",
    "$ \\lvert 0_L \\rangle := \\lvert 000 \\rangle $\n",
    "\n",
    "$ \\lvert 1_L \\rangle := \\lvert 111 \\rangle $\n"
   ]
  },
  {
   "cell_type": "code",
   "execution_count": 2,
   "metadata": {},
   "outputs": [
    {
     "data": {
      "text/plain": [
       "<sympy.physics.quantum.circuitplot.CircuitPlot at 0x11ccad6f0>"
      ]
     },
     "execution_count": 2,
     "metadata": {},
     "output_type": "execute_result"
    },
    {
     "data": {
      "image/png": "[encoded data removed]",
      "text/plain": [
       "<Figure size 144x216 with 1 Axes>"
      ]
     },
     "metadata": {},
     "output_type": "display_data"
    },
    {
     "data": {
      "image/png": "[encoded data removed]",
      "text/plain": [
       "<Figure size 216x216 with 1 Axes>"
      ]
     },
     "metadata": {},
     "output_type": "display_data"
    }
   ],
   "source": [
    "fugou=CNOT(2,0)*CNOT(2,1)\n",
    "fukugou = CCX(0,1,2)*CNOT(2,0)*CNOT(2,1)\n",
    "CircuitPlot(fugou, nqubits=3)\n",
    "CircuitPlot(fukugou, nqubits=3)"
   ]
  },
  {
   "cell_type": "code",
   "execution_count": 3,
   "metadata": {},
   "outputs": [
    {
     "data": {
      "text/latex": [
       "$\\displaystyle {\\left|000\\right\\rangle }$"
      ],
      "text/plain": [
       "|000>"
      ]
     },
     "execution_count": 3,
     "metadata": {},
     "output_type": "execute_result"
    }
   ],
   "source": [
    "qapply(fugou*Qubit(\"000\"))"
   ]
  },
  {
   "cell_type": "code",
   "execution_count": 4,
   "metadata": {},
   "outputs": [
    {
     "data": {
      "text/latex": [
       "$\\displaystyle {\\left|111\\right\\rangle }$"
      ],
      "text/plain": [
       "|111>"
      ]
     },
     "execution_count": 4,
     "metadata": {},
     "output_type": "execute_result"
    }
   ],
   "source": [
    "qapply(fugou*Qubit(\"100\"))"
   ]
  },
  {
   "cell_type": "code",
   "execution_count": 5,
   "metadata": {},
   "outputs": [],
   "source": [
    "# 復号"
   ]
  },
  {
   "cell_type": "code",
   "execution_count": 6,
   "metadata": {},
   "outputs": [
    {
     "data": {
      "text/latex": [
       "$\\displaystyle {\\left|000\\right\\rangle }$"
      ],
      "text/plain": [
       "|000>"
      ]
     },
     "execution_count": 6,
     "metadata": {},
     "output_type": "execute_result"
    }
   ],
   "source": [
    "qapply(fukugou*Qubit(\"000\"))"
   ]
  },
  {
   "cell_type": "code",
   "execution_count": 7,
   "metadata": {},
   "outputs": [
    {
     "data": {
      "text/latex": [
       "$\\displaystyle {\\left|010\\right\\rangle }$"
      ],
      "text/plain": [
       "|010>"
      ]
     },
     "execution_count": 7,
     "metadata": {},
     "output_type": "execute_result"
    }
   ],
   "source": [
    "qapply(fukugou*Qubit(\"010\"))"
   ]
  },
  {
   "cell_type": "code",
   "execution_count": 8,
   "metadata": {},
   "outputs": [
    {
     "data": {
      "text/latex": [
       "$\\displaystyle {\\left|001\\right\\rangle }$"
      ],
      "text/plain": [
       "|001>"
      ]
     },
     "execution_count": 8,
     "metadata": {},
     "output_type": "execute_result"
    }
   ],
   "source": [
    "qapply(fukugou*Qubit(\"001\"))"
   ]
  },
  {
   "cell_type": "code",
   "execution_count": 9,
   "metadata": {},
   "outputs": [
    {
     "data": {
      "text/latex": [
       "$\\displaystyle {\\left|011\\right\\rangle }$"
      ],
      "text/plain": [
       "|011>"
      ]
     },
     "execution_count": 9,
     "metadata": {},
     "output_type": "execute_result"
    }
   ],
   "source": [
    "qapply(fukugou*Qubit(\"100\"))"
   ]
  },
  {
   "cell_type": "code",
   "execution_count": 10,
   "metadata": {},
   "outputs": [
    {
     "data": {
      "text/latex": [
       "$\\displaystyle {\\left|101\\right\\rangle }$"
      ],
      "text/plain": [
       "|101>"
      ]
     },
     "execution_count": 10,
     "metadata": {},
     "output_type": "execute_result"
    }
   ],
   "source": [
    "qapply(fukugou*Qubit(\"110\"))"
   ]
  },
  {
   "cell_type": "code",
   "execution_count": 11,
   "metadata": {},
   "outputs": [
    {
     "data": {
      "text/latex": [
       "$\\displaystyle {\\left|110\\right\\rangle }$"
      ],
      "text/plain": [
       "|110>"
      ]
     },
     "execution_count": 11,
     "metadata": {},
     "output_type": "execute_result"
    }
   ],
   "source": [
    "qapply(fukugou*Qubit(\"101\"))"
   ]
  },
  {
   "cell_type": "code",
   "execution_count": 12,
   "metadata": {},
   "outputs": [
    {
     "data": {
      "text/latex": [
       "$\\displaystyle {\\left|111\\right\\rangle }$"
      ],
      "text/plain": [
       "|111>"
      ]
     },
     "execution_count": 12,
     "metadata": {},
     "output_type": "execute_result"
    }
   ],
   "source": [
    "qapply(fukugou*Qubit(\"011\"))"
   ]
  },
  {
   "cell_type": "code",
   "execution_count": 13,
   "metadata": {},
   "outputs": [
    {
     "data": {
      "text/latex": [
       "$\\displaystyle {\\left|100\\right\\rangle }$"
      ],
      "text/plain": [
       "|100>"
      ]
     },
     "execution_count": 13,
     "metadata": {},
     "output_type": "execute_result"
    }
   ],
   "source": [
    "qapply(fukugou*Qubit(\"111\"))"
   ]
  },
  {
   "cell_type": "code",
   "execution_count": 14,
   "metadata": {},
   "outputs": [
    {
     "data": {
      "text/plain": [
       "<sympy.physics.quantum.circuitplot.CircuitPlot at 0x11cd138e0>"
      ]
     },
     "execution_count": 14,
     "metadata": {},
     "output_type": "execute_result"
    },
    {
     "data": {
      "image/png": "[encoded data removed]",
      "text/plain": [
       "<Figure size 360x216 with 1 Axes>"
      ]
     },
     "metadata": {},
     "output_type": "display_data"
    },
    {
     "data": {
      "image/png": "[encoded data removed]",
      "text/plain": [
       "<Figure size 432x216 with 1 Axes>"
      ]
     },
     "metadata": {},
     "output_type": "display_data"
    }
   ],
   "source": [
    "ph_fugou=H(0)*H(1)*H(2)*CNOT(2,0)*CNOT(2,1)\n",
    "ph_fukugou = CCX(0,1,2)*CNOT(2,0)*CNOT(2,1)*H(0)*H(1)*H(2)\n",
    "CircuitPlot(ph_fugou, nqubits=3)\n",
    "CircuitPlot(ph_fukugou, nqubits=3)"
   ]
  },
  {
   "cell_type": "markdown",
   "metadata": {},
   "source": [
    "$ \\lvert 0_L \\rangle := \\lvert +++ \\rangle $"
   ]
  },
  {
   "cell_type": "code",
   "execution_count": 15,
   "metadata": {},
   "outputs": [
    {
     "data": {
      "text/latex": [
       "$\\displaystyle \\frac{\\sqrt{2} {\\left|000\\right\\rangle }}{4} + \\frac{\\sqrt{2} {\\left|001\\right\\rangle }}{4} + \\frac{\\sqrt{2} {\\left|010\\right\\rangle }}{4} + \\frac{\\sqrt{2} {\\left|011\\right\\rangle }}{4} + \\frac{\\sqrt{2} {\\left|100\\right\\rangle }}{4} + \\frac{\\sqrt{2} {\\left|101\\right\\rangle }}{4} + \\frac{\\sqrt{2} {\\left|110\\right\\rangle }}{4} + \\frac{\\sqrt{2} {\\left|111\\right\\rangle }}{4}$"
      ],
      "text/plain": [
       "sqrt(2)*|000>/4 + sqrt(2)*|001>/4 + sqrt(2)*|010>/4 + sqrt(2)*|011>/4 + sqrt(2)*|100>/4 + sqrt(2)*|101>/4 + sqrt(2)*|110>/4 + sqrt(2)*|111>/4"
      ]
     },
     "execution_count": 15,
     "metadata": {},
     "output_type": "execute_result"
    }
   ],
   "source": [
    "qapply(ph_fugou*Qubit(\"000\"))"
   ]
  },
  {
   "cell_type": "markdown",
   "metadata": {},
   "source": [
    "$ \\lvert 1_L \\rangle := \\lvert --- \\rangle $"
   ]
  },
  {
   "cell_type": "code",
   "execution_count": 16,
   "metadata": {},
   "outputs": [
    {
     "data": {
      "text/latex": [
       "$\\displaystyle \\frac{\\sqrt{2} {\\left|000\\right\\rangle }}{4} - \\frac{\\sqrt{2} {\\left|001\\right\\rangle }}{4} - \\frac{\\sqrt{2} {\\left|010\\right\\rangle }}{4} + \\frac{\\sqrt{2} {\\left|011\\right\\rangle }}{4} - \\frac{\\sqrt{2} {\\left|100\\right\\rangle }}{4} + \\frac{\\sqrt{2} {\\left|101\\right\\rangle }}{4} + \\frac{\\sqrt{2} {\\left|110\\right\\rangle }}{4} - \\frac{\\sqrt{2} {\\left|111\\right\\rangle }}{4}$"
      ],
      "text/plain": [
       "sqrt(2)*|000>/4 - sqrt(2)*|001>/4 - sqrt(2)*|010>/4 + sqrt(2)*|011>/4 - sqrt(2)*|100>/4 + sqrt(2)*|101>/4 + sqrt(2)*|110>/4 - sqrt(2)*|111>/4"
      ]
     },
     "execution_count": 16,
     "metadata": {},
     "output_type": "execute_result"
    }
   ],
   "source": [
    "qapply(ph_fugou*Qubit(\"100\"))"
   ]
  },
  {
   "cell_type": "markdown",
   "metadata": {},
   "source": [
    "## 6.3 ビット・位相反転の両方に対応する（ショアの符号）"
   ]
  },
  {
   "cell_type": "code",
   "execution_count": 17,
   "metadata": {},
   "outputs": [
    {
     "data": {
      "text/plain": [
       "<sympy.physics.quantum.circuitplot.CircuitPlot at 0x11cff2c80>"
      ]
     },
     "execution_count": 17,
     "metadata": {},
     "output_type": "execute_result"
    },
    {
     "data": {
      "image/png": "[encoded data removed]",
      "text/plain": [
       "<Figure size 792x648 with 1 Axes>"
      ]
     },
     "metadata": {},
     "output_type": "display_data"
    }
   ],
   "source": [
    "shor_fugou=CNOT(8,6)*CNOT(8,7)*H(8)*CNOT(5,3)*CNOT(5,4)*H(5)*CNOT(2,0)*CNOT(2,1)*H(2)*CNOT(8,2)*CNOT(8,5)\n",
    "CircuitPlot(shor_fugou, nqubits=9)"
   ]
  },
  {
   "cell_type": "code",
   "execution_count": 18,
   "metadata": {},
   "outputs": [
    {
     "data": {
      "text/latex": [
       "$\\displaystyle {\\left|000000000\\right\\rangle }$"
      ],
      "text/plain": [
       "|000000000>"
      ]
     },
     "execution_count": 18,
     "metadata": {},
     "output_type": "execute_result"
    }
   ],
   "source": [
    "Qubit(\"0\"*9)"
   ]
  },
  {
   "cell_type": "code",
   "execution_count": 19,
   "metadata": {},
   "outputs": [
    {
     "data": {
      "text/latex": [
       "$\\displaystyle \\frac{\\sqrt{2} {\\left|000000000\\right\\rangle }}{4} + \\frac{\\sqrt{2} {\\left|000000111\\right\\rangle }}{4} + \\frac{\\sqrt{2} {\\left|000111000\\right\\rangle }}{4} + \\frac{\\sqrt{2} {\\left|000111111\\right\\rangle }}{4} + \\frac{\\sqrt{2} {\\left|111000000\\right\\rangle }}{4} + \\frac{\\sqrt{2} {\\left|111000111\\right\\rangle }}{4} + \\frac{\\sqrt{2} {\\left|111111000\\right\\rangle }}{4} + \\frac{\\sqrt{2} {\\left|111111111\\right\\rangle }}{4}$"
      ],
      "text/plain": [
       "sqrt(2)*|000000000>/4 + sqrt(2)*|000000111>/4 + sqrt(2)*|000111000>/4 + sqrt(2)*|000111111>/4 + sqrt(2)*|111000000>/4 + sqrt(2)*|111000111>/4 + sqrt(2)*|111111000>/4 + sqrt(2)*|111111111>/4"
      ]
     },
     "execution_count": 19,
     "metadata": {},
     "output_type": "execute_result"
    }
   ],
   "source": [
    "qapply(shor_fugou*Qubit(\"0\"*9))"
   ]
  },
  {
   "cell_type": "code",
   "execution_count": 20,
   "metadata": {},
   "outputs": [
    {
     "data": {
      "text/latex": [
       "$\\displaystyle {\\left|100000000\\right\\rangle }$"
      ],
      "text/plain": [
       "|100000000>"
      ]
     },
     "execution_count": 20,
     "metadata": {},
     "output_type": "execute_result"
    }
   ],
   "source": [
    "Qubit(\"1\"+\"0\"*8)"
   ]
  },
  {
   "cell_type": "code",
   "execution_count": 21,
   "metadata": {},
   "outputs": [
    {
     "data": {
      "text/latex": [
       "$\\displaystyle \\frac{\\sqrt{2} {\\left|000000000\\right\\rangle }}{4} - \\frac{\\sqrt{2} {\\left|000000111\\right\\rangle }}{4} - \\frac{\\sqrt{2} {\\left|000111000\\right\\rangle }}{4} + \\frac{\\sqrt{2} {\\left|000111111\\right\\rangle }}{4} - \\frac{\\sqrt{2} {\\left|111000000\\right\\rangle }}{4} + \\frac{\\sqrt{2} {\\left|111000111\\right\\rangle }}{4} + \\frac{\\sqrt{2} {\\left|111111000\\right\\rangle }}{4} - \\frac{\\sqrt{2} {\\left|111111111\\right\\rangle }}{4}$"
      ],
      "text/plain": [
       "sqrt(2)*|000000000>/4 - sqrt(2)*|000000111>/4 - sqrt(2)*|000111000>/4 + sqrt(2)*|000111111>/4 - sqrt(2)*|111000000>/4 + sqrt(2)*|111000111>/4 + sqrt(2)*|111111000>/4 - sqrt(2)*|111111111>/4"
      ]
     },
     "execution_count": 21,
     "metadata": {},
     "output_type": "execute_result"
    }
   ],
   "source": [
    "qapply(shor_fugou*Qubit(\"1\"+\"0\"*8))"
   ]
  },
  {
   "cell_type": "code",
   "execution_count": 22,
   "metadata": {},
   "outputs": [
    {
     "data": {
      "text/plain": [
       "<sympy.physics.quantum.circuitplot.CircuitPlot at 0x11d0e2ce0>"
      ]
     },
     "execution_count": 22,
     "metadata": {},
     "output_type": "execute_result"
    },
    {
     "data": {
      "image/png": "[encoded data removed]",
      "text/plain": [
       "<Figure size 1080x648 with 1 Axes>"
      ]
     },
     "metadata": {},
     "output_type": "display_data"
    }
   ],
   "source": [
    "shor_fukugou = CCX(2,5,8)*CNOT(8,2)*CNOT(8,5)*H(8)*CCX(6,7,8)*CNOT(8,6)*CNOT(8,7)*H(5)*CCX(3,4,5)*CNOT(5,3)*CNOT(5,4)*H(2)*CCX(0,1,2)*CNOT(2,0)*CNOT(2,1)\n",
    "CircuitPlot(shor_fukugou, nqubits=9)"
   ]
  },
  {
   "cell_type": "markdown",
   "metadata": {},
   "source": [
    "## 6.4 量子誤り訂正符号の標準的な作り方\n",
    "\n",
    "### 6.4.1 スタビライザ形式とは？\n",
    "\n",
    "符号化の考え方の発想転換\n",
    "\n",
    "$ 2^n$ 個の係数で量子ビットの状態を表す\n",
    "\n",
    "↓\n",
    "\n",
    "ある演算子　$ U $ の固有値が $ \\lambda $ になる状態として表す"
   ]
  },
  {
   "cell_type": "markdown",
   "metadata": {},
   "source": [
    "**スタビライザ形式**\n",
    "\n",
    "あるスタビライザ群 $ S $ の要素となる演算の固有値が $ \\pm1 $ である量子状態　：＝　『スタビライザ状態』\n",
    "\n",
    "その演算子　：＝『スタビライザ（演算子）』\n",
    "\n",
    "スタビライザの固有値の測定結果の集合　：＝『シンドローム』"
   ]
  },
  {
   "cell_type": "code",
   "execution_count": null,
   "metadata": {},
   "outputs": [],
   "source": []
  }
 ],
 "metadata": {
  "kernelspec": {
   "display_name": "Python 3 (ipykernel)",
   "language": "python",
   "name": "python3"
  },
  "language_info": {
   "codemirror_mode": {
    "name": "ipython",
    "version": 3
   },
   "file_extension": ".py",
   "mimetype": "text/x-python",
   "name": "python",
   "nbconvert_exporter": "python",
   "pygments_lexer": "ipython3",
   "version": "3.10.3"
  }
 },
 "nbformat": 4,
 "nbformat_minor": 2
}
