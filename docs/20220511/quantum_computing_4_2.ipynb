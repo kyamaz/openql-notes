{
 "cells": [
  {
   "cell_type": "code",
   "execution_count": 1,
   "metadata": {},
   "outputs": [],
   "source": [
    "\n",
    "#### 最初に必要なライブラリを読み込みます。\n",
    "from sympy import *\n",
    "from sympy.physics.quantum import *\n",
    "from sympy.physics.quantum.qubit import Qubit, QubitBra, measure_all, measure_all_oneshot,measure_partial, matrix_to_qubit\n",
    "from sympy.physics.quantum.gate import H,X,Y,Z,S,T,CPHASE,CNOT,SWAP,UGate,CGateS,gate_simp,OneQubitGate\n",
    "from sympy.physics.quantum.gate import IdentityGate as _I\n",
    "from sympy.physics.quantum.qft import *\n",
    "from sympy.physics.quantum.matrixcache import matrix_cache\n",
    "matrix_cache.cache_matrix('Tdg',Matrix([[1, 0], [0, exp(-I*pi/4)]]))\n",
    "matrix_cache.cache_matrix('Sdg',Matrix([[1, 0], [0, -I]]))\n",
    "matrix_cache.cache_matrix('V',(1/2)*Matrix([[1+I, 1-I], [1-I, 1+I]]))\n",
    "matrix_cache.cache_matrix('Vdg',(1/2)*Matrix([[1-I, 1+I], [1+I, 1-I]]))\n",
    "\n",
    "CZ = CPHASE\n",
    "\n",
    "class Tdg(OneQubitGate): # T^{\\dagger} 演算\n",
    "    gate_name = u'Tdg'\n",
    "    gate_name_latex = u'T^{\\dagger}'\n",
    "    def get_target_matrix(self, format='sympy'):\n",
    "        return matrix_cache.get_matrix('Tdg', format)\n",
    "\n",
    "class Sdg(OneQubitGate): # S^{\\dagger} 演算\n",
    "    gate_name = u'Sdg'\n",
    "    gate_name_latex = u'S^{\\dagger}'\n",
    "    def get_target_matrix(self, format='sympy'):\n",
    "        return matrix_cache.get_matrix('Sdg', format)\n",
    "\n",
    "class V(OneQubitGate): # √X 演算\n",
    "    gate_name = u'V'\n",
    "    gate_name_latex = u'V'\n",
    "    def get_target_matrix(self, format='sympy'):\n",
    "        return matrix_cache.get_matrix('V', format)\n",
    "\n",
    "class Vdg(OneQubitGate): # √X ^{\\dagger}演算\n",
    "    gate_name = u'Vdg'\n",
    "    gate_name_latex = u'V^{\\dagger}'\n",
    "    def get_target_matrix(self, format='sympy'):\n",
    "        return matrix_cache.get_matrix('Vdg', format)\n",
    "\n",
    "def CV(c,t):  return CGateS((c),V(t))\n",
    "def CVdg(c,t):  return CGateS((c),Vdg(t))\n",
    "\n",
    "def CCX(c1,c2,t):  return CGateS((c1,c2),X(t))\n",
    "def Toffoli(c1,c2,t):  return CGateS((c1,c2),X(t))\n",
    "def CCZ(c1,c2,t): return (H(t)*CCX(c1,c2,t)*H(t)) # CCZ演算子を定義します。\n",
    "def hadamard(s,n):\n",
    "    h = H(s)\n",
    "    for i in range(s+1,n+s): h = H(i)*h\n",
    "    return h\n",
    "\n",
    "def disp1Q(u): print(u); display(represent(u,nqubits=1)); CircuitPlot(u,nqubits=1)\n",
    "def disp2Q(u): print(u); display(represent(u,nqubits=2)); CircuitPlot(u,nqubits=2)\n",
    "\n",
    "from sympy.printing.dot import dotprint\n",
    "init_printing()\n",
    "\n",
    "%matplotlib inline\n",
    "import matplotlib.pyplot as plt\n",
    "from sympy.physics.quantum.circuitplot import CircuitPlot,labeller, Mz,CreateOneQubitGate\n",
    "alpha, beta, gamma, delta = Symbol(r'\\alpha'), Symbol(r'\\beta'), Symbol(r'\\gamma'), Symbol(r'\\delta'), \n",
    "psi, phi, theta, chi = Symbol(r'\\psi'), Symbol(r'\\phi'), Symbol(r'\\theta'), Symbol(r'\\chi') \n",
    "from qutip import *\n",
    "import numpy as np\n"
   ]
  },
  {
   "cell_type": "markdown",
   "metadata": {},
   "source": [
    "（副読本）\n",
    "* ニールセン・チャン「量子コンピュータと量子通信」（ここでは N,C\"QCQI\" と書きます）\n",
    "* arXivに公開されている論文"
   ]
  },
  {
   "cell_type": "markdown",
   "metadata": {},
   "source": [
    "## 4.2 量子化学計算\n",
    "\n",
    "この章は、量子化学計算の基礎的な知識が前提となっていると感じました。  \n",
    "以下に各節の概略（読むための道しるべ？）をまとめます。\n",
    "\n",
    "\n",
    "### 4.2.1 行列の固有値問題として解く\n",
    "\n",
    "→p.73 の「3.6 量子力学をシミュレーションする」も参照\n",
    "\n",
    "$ \\displaystyle i\\hbar\\frac{\\partial \\psi (r,t) }{\\partial t} = \\mathcal{H}  \\psi (r,t) $\n",
    "\n",
    "量子化学計算　＝　電子の配置　と　エネルギー　を求める　＝　大規模な行列の固有値問題\n",
    "\n",
    "いかに精密に近似計算するか？\n",
    "\n",
    "Born-Oppenhimer 近似 → スレーター行列を用いた Hartree-Fock法　\n"
   ]
  },
  {
   "cell_type": "markdown",
   "metadata": {},
   "source": [
    "$\\mathcal{H}$が時間依存しない（＝tを含まない）場合は、$ \\psi (t) =  e ^ \\frac { - i \\mathcal{H} t } { \\hbar } \\psi _{0}$ を左辺に代入して\n",
    "\n",
    "$\n",
    "\\begin{aligned}\n",
    "i \\hbar \\frac { \\partial } { \\partial t } \\psi (t) &= i \\hbar \\frac { \\partial } { \\partial t } \\left( \\exp{ \\left(  \\frac { - i \\mathcal{H} t } { \\hbar } \\right) } \\right) \\psi _{0} \\\\\n",
    "&= i \\hbar \\left( \\frac {- i  \\mathcal{H} } { \\hbar } \\exp{ \\left( \\frac { - i  \\mathcal{H} t } { \\hbar } \\right) } \\right) \\psi _{0} \\\\\n",
    "&= \\mathcal{H} \\exp{ \\left(\\frac { -i \\mathcal{H} t } { \\hbar } \\right) } \\psi _{0} \n",
    "\\end{aligned}\n",
    "$\n",
    "\n",
    "となり、ハミルトニアンはエルミート演算子（＊）なので、都合のよいユニタリ演算子の形がでてきます。\n",
    "\n",
    "（＊）「ある物理量に対応する演算子がエルミートであれば、実数の観測値を持つ」ことから、ハミルトニアンはエルミート演算子であるとします。"
   ]
  },
  {
   "cell_type": "markdown",
   "metadata": {},
   "source": [
    "量子コンピュータは、ユニタリ演算子の積の計算は得意\n",
    "\n",
    "$ U_{t} \\dots U_{2} \\cdot U_{1} \\psi _{0} $\n",
    "\n",
    "ハミルトニアンは多項式で、足し算で表されているとすると、和を積で表すことができると嬉しい。\n",
    "演算子の表現として行列で表されますが、一般に、演算子（＝行列）は交換則が成り立ちません。\n",
    "\n",
    "つまり、いま $ e ^ {A+B} $ という行列を考えるときに、一般には $ e ^ {A+B } \\neq e ^{A} \\cdot e ^{B} $ です。\n",
    "\n",
    "単純には、和を積にはできませんが、リー・トロッター公式が示されているので「トロッター分解」により、和を積で”近似的に”表すことができます。"
   ]
  },
  {
   "cell_type": "markdown",
   "metadata": {},
   "source": [
    "### 3.6.2 変分法で最適化問題に帰着して解く\n",
    "\n",
    "《keywords》\n",
    "\n",
    "* 変分法\n",
    "* ansatz　（試行状態、試行波動関数）　　　\n",
    "\n",
    "　　お試しのための状態関数、勾配法などの最適化アルゴリズムをつかうためのパラメータを含む\n",
    "  \n",
    "NISQによる「量子・古典ハイブリッド」なアルゴリズム  \n",
    "量子化学計算に適応すると「VQE （Variational Quantum Eigensolver）」 p.144  \n",
    "イジングモデルにして0-1整数計画問題の最適化に適応した「QAOA（Quantum Approximate Optimization Algorithm）」 p.148"
   ]
  },
  {
   "cell_type": "markdown",
   "metadata": {},
   "source": [
    "## 3.7 データ行列を扱う\n"
   ]
  },
  {
   "cell_type": "markdown",
   "metadata": {},
   "source": [
    "行列 $A$ を密度行列 $\\rho$ にエンコードして、その冪で書ける $ e ^ {i \\rho t } $ 演算子を量子状態　$\\sigma$　に作用させる\n",
    "\n",
    "つまり、 $ e ^ {-i \\rho t } \\sigma e ^ { i \\rho t }$ を考えることになる"
   ]
  },
  {
   "cell_type": "markdown",
   "metadata": {},
   "source": [
    "これは、  $ e ^ {-i \\rho t } \\sigma e ^ { i \\rho t } \\approx \\sigma - i ( \\sigma \\rho - \\rho \\sigma) $ と近似できる"
   ]
  },
  {
   "cell_type": "markdown",
   "metadata": {},
   "source": [
    "これを計算するために、次元を広げて２つの密度行列の直積 $\\rho \\otimes \\sigma$ の状態に対して、任意の量子ビットのSWAPゲートの和 $ S $ を用いた演算子 $ e ^ {i S t} $ を導入する。\n",
    "\n",
    "すると、 $ e ^ {-i S t } ( \\rho \\otimes \\sigma  ) e ^ { i S t }$ の　$ \\rho $ のあった量子ビットについての部分トレースで計算ができる。\n",
    "\n",
    "すなわち\n",
    "\n",
    "$ e ^ {-i \\rho t } \\sigma e ^ { i \\rho t }　\\approx　Tr _{P} \\left[ e ^ {-i S t } ( \\rho \\otimes \\sigma  ) e ^ { i S t } \\right]$"
   ]
  },
  {
   "cell_type": "markdown",
   "metadata": {},
   "source": [
    "* 演算子  $𝑒^{𝑖𝑆𝑡}$ について"
   ]
  },
  {
   "cell_type": "code",
   "execution_count": 2,
   "metadata": {},
   "outputs": [
    {
     "data": {
      "image/png": "[encoded data removed]",
      "text/latex": [
       "$\\displaystyle \\left[\\begin{matrix}e^{i} & 0 & 0 & 0\\\\0 & \\frac{e^{- i}}{2} + \\frac{e^{i}}{2} & - \\frac{e^{- i}}{2} + \\frac{e^{i}}{2} & 0\\\\0 & - \\frac{e^{- i}}{2} + \\frac{e^{i}}{2} & \\frac{e^{- i}}{2} + \\frac{e^{i}}{2} & 0\\\\0 & 0 & 0 & e^{i}\\end{matrix}\\right]$"
      ],
      "text/plain": [
       "⎡ ⅈ                            ⎤\n",
       "⎢ℯ       0           0       0 ⎥\n",
       "⎢                              ⎥\n",
       "⎢      -ⅈ    ⅈ      -ⅈ    ⅈ    ⎥\n",
       "⎢     ℯ     ℯ      ℯ     ℯ     ⎥\n",
       "⎢0    ─── + ──   - ─── + ──  0 ⎥\n",
       "⎢      2    2       2    2     ⎥\n",
       "⎢                              ⎥\n",
       "⎢       -ⅈ    ⅈ    -ⅈ    ⅈ     ⎥\n",
       "⎢      ℯ     ℯ    ℯ     ℯ      ⎥\n",
       "⎢0   - ─── + ──   ─── + ──   0 ⎥\n",
       "⎢       2    2     2    2      ⎥\n",
       "⎢                              ⎥\n",
       "⎢                             ⅈ⎥\n",
       "⎣0       0           0       ℯ ⎦"
      ]
     },
     "execution_count": 2,
     "metadata": {},
     "output_type": "execute_result"
    }
   ],
   "source": [
    "# t をつけると　sympy のエラーとなるため、t は省いて計算してみる\n",
    "exp(I*Matrix([[1,0,0,0],[0,0,1,0],[0,1,0,0],[0,0,0,1]]))"
   ]
  },
  {
   "cell_type": "markdown",
   "metadata": {},
   "source": [
    "t をつけると上記は\n",
    "\n",
    "$\\displaystyle\n",
    "\\left[\\begin{matrix}e^{it} & 0 & 0 & 0\\\\0 & \\cos{t} & i \\sin{t} & 0\\\\0 & i \\sin{t} & cos{t} & 0\\\\0 & 0 & 0 & e^{it}\\end{matrix}\\right] \n",
    "\\sim \\left[\\begin{matrix}1 & 0 & 0 & 0\\\\0 & 1+ \\frac{e^{- 2it}}{2}  & 1 - \\frac{e^{- 2it}}{2} & 0\\\\0 & 1  - \\frac{e^{- 2it}}{2}  & 1 +\\frac{e^{- 2it}}{2}& 0\\\\0 & 0 & 0 & 1\\end{matrix}\\right]$\n",
    "\n",
    "右辺は、グローバル位相 $e^{it}$ を省いた式"
   ]
  },
  {
   "cell_type": "markdown",
   "metadata": {},
   "source": [
    "$t=-\\frac{\\pi}{4}$のとき、$\\sqrt{SWAP}$ゲートがこれに相当します"
   ]
  },
  {
   "cell_type": "code",
   "execution_count": 3,
   "metadata": {},
   "outputs": [
    {
     "data": {
      "image/png": "[encoded data removed]",
      "text/latex": [
       "$\\displaystyle \\left[\\begin{matrix}1 & 0 & 0 & 0\\\\0 & \\frac{1}{2} + \\frac{i}{2} & \\frac{1}{2} - \\frac{i}{2} & 0\\\\0 & \\frac{1}{2} - \\frac{i}{2} & \\frac{1}{2} + \\frac{i}{2} & 0\\\\0 & 0 & 0 & 1\\end{matrix}\\right]$"
      ],
      "text/plain": [
       "⎡1    0      0    0⎤\n",
       "⎢                  ⎥\n",
       "⎢   1   ⅈ  1   ⅈ   ⎥\n",
       "⎢0  ─ + ─  ─ - ─  0⎥\n",
       "⎢   2   2  2   2   ⎥\n",
       "⎢                  ⎥\n",
       "⎢   1   ⅈ  1   ⅈ   ⎥\n",
       "⎢0  ─ - ─  ─ + ─  0⎥\n",
       "⎢   2   2  2   2   ⎥\n",
       "⎢                  ⎥\n",
       "⎣0    0      0    1⎦"
      ]
     },
     "execution_count": 3,
     "metadata": {},
     "output_type": "execute_result"
    }
   ],
   "source": [
    "SQSW = S(1)*Sdg(0)*CNOT(0,1)*H(0)*Tdg(0)*CNOT(1,0)*Tdg(1)*T(0)*H(0)*CNOT(0,1)\n",
    "simplify(represent(SQSW,nqubits=2))"
   ]
  },
  {
   "cell_type": "code",
   "execution_count": 4,
   "metadata": {},
   "outputs": [
    {
     "data": {
      "text/plain": [
       "<sympy.physics.quantum.circuitplot.CircuitPlot at 0x12029e510>"
      ]
     },
     "execution_count": 4,
     "metadata": {},
     "output_type": "execute_result"
    },
    {
     "data": {
      "image/png": "[encoded data removed]",
      "text/plain": [
       "<Figure size 720x144 with 1 Axes>"
      ]
     },
     "metadata": {},
     "output_type": "display_data"
    }
   ],
   "source": [
    "CircuitPlot(SQSW,nqubits=2)"
   ]
  },
  {
   "cell_type": "markdown",
   "metadata": {},
   "source": [
    "# 第4章 量子アルゴリズム\n",
    "\n",
    "[Quantum Algorithm Zoo](https://quantumalgorithmzoo.org/)\n",
    "\n",
    "日本語翻訳サイト（Qmedia)： https://www.qmedia.jp/algorithm-zoo/"
   ]
  },
  {
   "cell_type": "markdown",
   "metadata": {},
   "source": [
    "## 4.1 素因数分解（ショアのアルゴリズム）\n",
    "### 4.1.1 位数発見問題として解く\n",
    "\n",
    "<img src=\"image0.png\" align=\"left\" width=\"250\" />\n",
    "（１）古典コンピューターによる前処理\n",
    "\n",
    "問題となる自然数 $ N $ より小さい、$ N $ と互いに素<sup>(*)</sup>である適当な $ a $ を選択する処理です。　<br/>\n",
    "この処理で、$ N $ を割り切る因数がたまたま見つかることもあり、そのときは、以降の処理は不要となります。<br/>\n",
    "\n",
    "\n",
    "（２）量子コンピューターによる処理\n",
    "\n",
    "（１）で選択した $ a $ を使った「関数：$ f(x) = a^x\\pmod{N} $」を入力にして、周期 $ T $ を発見するための処理です。　<br/>\n",
    "この処理の出力は、あとで周期 $ T $ を計算で求められるような確率密度関数 $ P_T(x) $ です。<br/>\n",
    "\n",
    "（３）古典コンピューターによる後処理\n",
    "\n",
    "確率密度関数 $ P_T(x) $ から $ T $ を計算し、それが偶数かどうかを判定します。　<br/>\n",
    "$ T $ が奇数であれば、（１）からやり直します。<br/>\n",
    "$ T $ が偶数であれば、$ a^{T/2} \\pm 1 $ と $ N $ が互いに素<sup>(*)</sup>か調べます。　<br/>\n",
    "互いに素であれば、（１）からやり直します。　<br/>\n",
    "互いに素でなければ、因数が求められます。　<br/>"
   ]
  },
  {
   "cell_type": "markdown",
   "metadata": {},
   "source": [
    "### 4.1.2  量子位数発見サブルーチン\n",
    "\n",
    "<img src=\"image1.png\" width=\"70%\" />"
   ]
  },
  {
   "cell_type": "markdown",
   "metadata": {},
   "source": [
    "<img src=\"image2.png\" width=\"70%\" />"
   ]
  },
  {
   "cell_type": "markdown",
   "metadata": {},
   "source": [
    "<img src=\"image3.png\" width=\"70%\" />"
   ]
  },
  {
   "cell_type": "markdown",
   "metadata": {},
   "source": [
    "位相推定が使えます\n",
    "\n",
    "<img src=\"image4.png\" width=\"70%\" />"
   ]
  },
  {
   "cell_type": "code",
   "execution_count": null,
   "metadata": {},
   "outputs": [],
   "source": []
  }
 ],
 "metadata": {
  "kernelspec": {
   "display_name": "Python 3",
   "language": "python",
   "name": "python3"
  },
  "language_info": {
   "codemirror_mode": {
    "name": "ipython",
    "version": 3
   },
   "file_extension": ".py",
   "mimetype": "text/x-python",
   "name": "python",
   "nbconvert_exporter": "python",
   "pygments_lexer": "ipython3",
   "version": "3.7.7"
  }
 },
 "nbformat": 4,
 "nbformat_minor": 2
}
