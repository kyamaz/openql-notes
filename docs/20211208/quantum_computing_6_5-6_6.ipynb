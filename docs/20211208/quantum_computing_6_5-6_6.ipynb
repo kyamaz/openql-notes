{
 "cells": [
  {
   "cell_type": "markdown",
   "metadata": {},
   "source": [
    "（副読本）\n",
    "* ニールセン・チャン「量子コンピュータと量子通信」（ここでは N,C\"QCQI\" と書きます）\n",
    "* arXivに公開されている論文"
   ]
  },
  {
   "cell_type": "markdown",
   "metadata": {},
   "source": [
    "# 6. 量子コンピュータのエラー訂正\n",
    "\n",
    "## 6.5 トポロジカル符号は奇妙なアイディア？\n",
    "\n",
    "### 6.5.1 トーラスを”ひらめき”にする（表面符号）\n",
    "\n",
    "[Fault-tolerant quantum computation by anyons(arXiv:quant-ph/9707021)](https://arxiv.org/abs/quant-ph/9707021)\n",
    "\n",
    "Keywords: 　トポロジカル符号、 KitaevのToric Code、 表面符号"
   ]
  },
  {
   "cell_type": "markdown",
   "metadata": {},
   "source": [
    "### 6.5.2 ５量子ビットの表面符号\n",
    "\n",
    "表面符号の基本形\n"
   ]
  },
  {
   "cell_type": "markdown",
   "metadata": {},
   "source": [
    "### 6.5.3 誤り耐性を大きくするには？\n",
    "\n",
    "複数の誤りに対して耐性をもたせるようにするには、訂正するべき量子ビットが十分離れていなければ訂正できなさそう\n"
   ]
  },
  {
   "cell_type": "markdown",
   "metadata": {},
   "source": [
    "### 6.5.4 しきい値定理と誤り耐性量子計算\n",
    "\n",
    "---\n",
    "\n",
    "【重要な定理】しきい値定理　\n",
    "\n",
    "各論理ゲートの雑音がある一定のしきい値以下ならば、任意の大きな量子計算を効率的く行うことができる\n",
    "（N,C\"QCQI\"の１０章を参照のこと）\n",
    "\n",
    "↓言い換え\n",
    "\n",
    "量子ゲート操作のエラー率があるしきい値より小さければ、任意精度の量子計算を多項式時間で実行できる\n",
    "（テキスト）\n",
    "\n",
    "---\n",
    "\n",
    "表面符号は、サイズを大きくすれば物理エラーから論理量子ビットを護りやすくなる\n",
    "⇔ 一方で、サイズが大きくなると物理量子ビットが多くなり物理エラーが増える\n",
    "\n",
    "物理エラーが 1% 未満であれば、表面符号がうまくいく\n",
    "\n",
    "<font color=\"red\"> 物理量子ビットのエラー率は 1% 未満がハードウェアの目標となる </font>\n"
   ]
  },
  {
   "cell_type": "markdown",
   "metadata": {},
   "source": [
    "## 6.6 論理ゲート操作を作ろう\n",
    "\n",
    "\n",
    "表面符号のタイプには大きくわけて、２種類のタイプがあり、どちらがより効率がよいか等の検証がされています\n",
    "\n",
    "* Lattice Surgery　【planar型】\n",
    "\n",
    "[Surface code quantum computing by lattice surgery(arXiv:1111.4022)](https://arxiv.org/abs/1111.4022)\n",
    "\n",
    "[A Game of Surface Codes: Large-Scale Quantum Computing with Lattice Surgery(arXiv:1808.02892)](https://arxiv.org/abs/1808.02892)\n",
    "\n",
    "\n",
    "* Defect Braiding　【double-defect型】\n",
    "\n",
    "[Surface codes: Towards practical large-scale quantum computation(arXiv:1208.0928)](https://arxiv.org/abs/1208.0928)\n",
    "\n"
   ]
  },
  {
   "cell_type": "markdown",
   "metadata": {},
   "source": [
    "### 6.6.1 論理１量子ビットゲート操作\n",
    "\n",
    "論理量子ゲート操作\n",
    "\n",
    "論理 X ゲート操作　＝　対象の範囲の左から右まで繋げた線上のすべての物理量子ビットに X ゲート操作をする  \n",
    "論理 Z ゲート操作　＝　対象の範囲の上から下まで繋げた線上のすべての物理量子ビットに Z ゲート操作をする\n",
    "\n",
    "\n",
    "1208.0928 Fig1: データ量子ビットは白丸（○）、エラー訂正のために測定する量子ビットは黒丸（●）\n",
    "<img src=\"1208.0928_fig1.png\" width=\"400\" />\n",
    "\n",
    "1208.0928 Fig3:論理１量子ビットゲート操作\n",
    "<img src=\"1208.0928_fig3.png\" width=\"400\" />"
   ]
  },
  {
   "cell_type": "markdown",
   "metadata": {},
   "source": [
    "### 6.6.2 論理２量子ビットゲート操作（Lattice surgery）\n",
    "\n"
   ]
  },
  {
   "cell_type": "markdown",
   "metadata": {},
   "source": [
    "CNOTを考えると、Lattice surgery は論理３量子ビットの切り貼りで実現できます。\n",
    "\n",
    "（参考） Defect brading は２つの論理量子ビットを動かす（ defect の周りを編む（ braiding する ）　操作で実現します。"
   ]
  },
  {
   "cell_type": "code",
   "execution_count": null,
   "metadata": {},
   "outputs": [],
   "source": []
  }
 ],
 "metadata": {
  "kernelspec": {
   "display_name": "Python 3 (ipykernel)",
   "language": "python",
   "name": "python3"
  },
  "language_info": {
   "codemirror_mode": {
    "name": "ipython",
    "version": 3
   },
   "file_extension": ".py",
   "mimetype": "text/x-python",
   "name": "python",
   "nbconvert_exporter": "python",
   "pygments_lexer": "ipython3",
   "version": "3.9.9"
  }
 },
 "nbformat": 4,
 "nbformat_minor": 2
}
