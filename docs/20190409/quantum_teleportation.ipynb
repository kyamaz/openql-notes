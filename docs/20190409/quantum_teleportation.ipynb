{
 "cells": [
  {
   "cell_type": "markdown",
   "metadata": {},
   "source": [
    "# QISKit の利用方法"
   ]
  },
  {
   "cell_type": "code",
   "execution_count": 1,
   "metadata": {},
   "outputs": [],
   "source": [
    "#!pip install qiskit -U"
   ]
  },
  {
   "cell_type": "code",
   "execution_count": 2,
   "metadata": {},
   "outputs": [
    {
     "name": "stdout",
     "output_type": "stream",
     "text": [
      "{'0 0 0': 235, '1 0 1': 4, '0 1 1': 278, '0 0 1': 257, '1 1 0': 6, '1 1 1': 5, '0 1 0': 233, '1 0 0': 6}\n"
     ]
    }
   ],
   "source": [
    "# 必要なライブラリをインポートします．\n",
    "from qiskit import QuantumRegister, ClassicalRegister, QuantumCircuit\n",
    "from qiskit import compile, BasicAer\n",
    "# QISKit Aer が量子シミュレータを提供します．\n",
    "backend = BasicAer.get_backend(\"qasm_simulator\")\n",
    "# Aer に備わっている \"qasm_simulator\" を指定します．\n",
    "# 量子ビットと古典ビットを準備します．\n",
    "q = QuantumRegister(3, \"q\")\n",
    "c0 = ClassicalRegister(1, \"c0\")\n",
    "c1 = ClassicalRegister(1, \"c1\")\n",
    "c2 = ClassicalRegister(1, \"c2\")\n",
    "# 作成する量子ゲート回路を宣言します．\n",
    "qc = QuantumCircuit(q, c0, c1, c2,name=\"teleport\")\n",
    "# 量子ビット q[0] を初期状態に準備します．\n",
    "qc.u3(0.3, 0.2, 0.1, q[0])\n",
    "# 量子ビット q[1], q[2] でBellペアを作ります．\n",
    "qc.h(q[1])\n",
    "qc.cx(q[1], q[2])\n",
    "qc.barrier(q) # 状態準備の終わりを示します．  \n",
    "# Bell基底で q[0], q[1] を測定します．\n",
    "qc.cx(q[0], q[1])\n",
    "qc.h(q[0])\n",
    "qc.measure(q[0], c0[0])\n",
    "qc.measure(q[1], c1[0])\n",
    "# q[0], q[1] の測定結果に応じたゲート操作を q[2] に施します．\n",
    "qc.barrier(q)  # Bell基底を測定するまでを示します．\n",
    "qc.z(q[2]).c_if(c0, 1)\n",
    "qc.x(q[2]).c_if(c1, 1)\n",
    "# q[2] を測定します．\n",
    "qc.measure(q[2], c2[0])\n",
    "initial_layout = {(\"q\", 0): (\"q\", 0), (\"q\", 1): (\"q\", 1),(\"q\", 2): (\"q\", 2)}\n",
    "qobj = compile(qc, backend=backend, coupling_map=None, shots=1024, initial_layout=initial_layout)\n",
    "job = backend.run(qobj)\n",
    "print(job.result().get_counts(qc))\n",
    "# shots で指定した回数測定した結果の分布が得られます．"
   ]
  },
  {
   "cell_type": "code",
   "execution_count": 3,
   "metadata": {},
   "outputs": [
    {
     "data": {
      "image/png": "[encoded data removed]",
      "text/plain": [
       "<Figure size 842.8x379.26 with 1 Axes>"
      ]
     },
     "execution_count": 3,
     "metadata": {},
     "output_type": "execute_result"
    }
   ],
   "source": [
    "%matplotlib inline\n",
    "from qiskit.tools.visualization import circuit_drawer\n",
    "circuit_drawer(qc, output=\"mpl\")"
   ]
  },
  {
   "cell_type": "markdown",
   "metadata": {},
   "source": [
    "# Cirq の利用方法"
   ]
  },
  {
   "cell_type": "code",
   "execution_count": 4,
   "metadata": {},
   "outputs": [],
   "source": [
    "#!pip install cirq"
   ]
  },
  {
   "cell_type": "code",
   "execution_count": 5,
   "metadata": {},
   "outputs": [
    {
     "name": "stdout",
     "output_type": "stream",
     "text": [
      "0: ───────H───Z───@───H───M───\n",
      "                  │\n",
      "1: ───H───@───────X───────M───\n",
      "          │\n",
      "2: ───────X───────────────────\n",
      "0=11001001111111011101\n",
      "1=00011110010001110011\n"
     ]
    }
   ],
   "source": [
    "# 必要なライブラリをインポートします．\n",
    "import cirq\n",
    "\n",
    "# 量子ビットと回路を準備します．\n",
    "qubit = cirq.LineQubit.range(3)\n",
    "qc = cirq.Circuit()\n",
    "# ゲート操作（Operation）を追加します．\n",
    "qc.append([\n",
    "  cirq.H.on(qubit[1]),\n",
    "  cirq.CNOT(qubit[1], qubit[2]),\n",
    "  cirq.H.on(qubit[0]),\n",
    "  cirq.Z.on(qubit[0])\n",
    "  ])\n",
    "qc.append([\n",
    "  cirq.CNOT(qubit[0], qubit[1]),\n",
    "  cirq.H.on(qubit[0]),\n",
    "  cirq.measure(qubit[0]),\n",
    "  cirq.measure(qubit[1])\n",
    "  ])\n",
    "print(qc)     # 回路を表示します．\n",
    "simulator = cirq.google.XmonSimulator()\n",
    "result = simulator.run(qc, repetitions=20)\n",
    "print(result)"
   ]
  },
  {
   "cell_type": "markdown",
   "metadata": {},
   "source": [
    "# pyQuil の利用方法"
   ]
  },
  {
   "cell_type": "code",
   "execution_count": 6,
   "metadata": {},
   "outputs": [],
   "source": [
    "#!pip install pyquil"
   ]
  },
  {
   "cell_type": "code",
   "execution_count": 7,
   "metadata": {},
   "outputs": [],
   "source": [
    "#!qvm -S"
   ]
  },
  {
   "cell_type": "code",
   "execution_count": 8,
   "metadata": {},
   "outputs": [
    {
     "name": "stdout",
     "output_type": "stream",
     "text": [
      "(1+0j)|010>\n",
      "(1+0j)|010>\n",
      "(1+0j)|001>\n",
      "(-1+0j)|111>\n",
      "(-1+0j)|110>\n",
      "(1+0j)|001>\n",
      "(-1+0j)|111>\n",
      "(1+0j)|010>\n",
      "(1+0j)|011>\n",
      "(-1+0j)|101>\n"
     ]
    }
   ],
   "source": [
    "# 必要なライブラリをインポートします．\n",
    "import pyquil.quil as pq\n",
    "from pyquil.gates import *\n",
    "from pyquil.api import WavefunctionSimulator\n",
    "# 量子プログラムの準備をします．\n",
    "qvm = WavefunctionSimulator()\n",
    "ins = pq.Program()\n",
    "ro = ins.declare(name='ro', memory_type='BIT', memory_size=3)\n",
    "ins.inst(H(1), CNOT(1,2)) # Bellペアを作ります．\n",
    "ins.inst(H(0),Z(0)) # 初期状態を作ります．\n",
    "# Bell基底で測定し，測定結果に応じたゲート操作します．\n",
    "ins.inst(CNOT(0,1),H(0))\n",
    "ins.measure(0,ro[0]).measure(1,ro[1]).if_then(ro[1], X(2)).if_then(ro[0], Z(2))\n",
    "ins.measure(2,ro[2])\n",
    "# 量子プログラムを実行します．\n",
    "for i in range(10):\n",
    "    q = qvm.wavefunction(ins)\n",
    "    print(q)"
   ]
  },
  {
   "cell_type": "markdown",
   "metadata": {},
   "source": [
    "# SymPy の利用方法"
   ]
  },
  {
   "cell_type": "code",
   "execution_count": 9,
   "metadata": {},
   "outputs": [
    {
     "name": "stdout",
     "output_type": "stream",
     "text": [
      "[(|000>, 1/2), (exp(I*pi/4)*|001>, 1/2)]\n"
     ]
    },
    {
     "data": {
      "image/png": "[encoded data removed]",
      "text/latex": [
       "$$\\left [ \\left ( \\frac{\\sqrt{2} {\\left|000\\right\\rangle }}{2} + \\frac{\\sqrt{2} e^{\\frac{i \\pi}{4}} {\\left|100\\right\\rangle }}{2}, \\quad \\frac{1}{4}\\right ), \\quad \\left ( - \\frac{\\sqrt{2} e^{\\frac{i \\pi}{4}} {\\left|001\\right\\rangle }}{2} + \\frac{\\sqrt{2} {\\left|101\\right\\rangle }}{2}, \\quad \\frac{1}{4}\\right ), \\quad \\left ( \\frac{\\sqrt{2} e^{\\frac{i \\pi}{4}} {\\left|010\\right\\rangle }}{2} - \\frac{\\sqrt{2} {\\left|110\\right\\rangle }}{2}, \\quad \\frac{1}{4}\\right ), \\quad \\left ( - \\frac{\\sqrt{2} {\\left|011\\right\\rangle }}{2} - \\frac{\\sqrt{2} e^{\\frac{i \\pi}{4}} {\\left|111\\right\\rangle }}{2}, \\quad \\frac{1}{4}\\right )\\right ]$$"
      ],
      "text/plain": [
       "⎡⎛               ⅈ⋅π           ⎞  ⎛      ⅈ⋅π                      ⎞  ⎛    ⅈ⋅π \n",
       "⎢⎜               ───           ⎟  ⎜      ───                      ⎟  ⎜    ─── \n",
       "⎢⎜                4            ⎟  ⎜       4                       ⎟  ⎜     4  \n",
       "⎢⎜√2⋅❘000⟩   √2⋅ℯ   ⋅❘100⟩     ⎟  ⎜  √2⋅ℯ   ⋅❘001⟩   √2⋅❘101⟩     ⎟  ⎜√2⋅ℯ   ⋅\n",
       "⎢⎜──────── + ─────────────, 1/4⎟, ⎜- ───────────── + ────────, 1/4⎟, ⎜────────\n",
       "⎣⎝   2             2           ⎠  ⎝        2            2         ⎠  ⎝      2 \n",
       "\n",
       "                     ⎞  ⎛                 ⅈ⋅π           ⎞⎤\n",
       "                     ⎟  ⎜                 ───           ⎟⎥\n",
       "                     ⎟  ⎜                  4            ⎟⎥\n",
       "❘010⟩   √2⋅❘110⟩     ⎟  ⎜  √2⋅❘011⟩   √2⋅ℯ   ⋅❘111⟩     ⎟⎥\n",
       "───── - ────────, 1/4⎟, ⎜- ──────── - ─────────────, 1/4⎟⎥\n",
       "           2         ⎠  ⎝     2             2           ⎠⎦"
      ]
     },
     "execution_count": 9,
     "metadata": {},
     "output_type": "execute_result"
    },
    {
     "data": {
      "image/png": "[encoded data removed]",
      "text/plain": [
       "<Figure size 432x216 with 1 Axes>"
      ]
     },
     "metadata": {},
     "output_type": "display_data"
    }
   ],
   "source": [
    "from sympy import *    # SymPy の便利な関数など\n",
    "init_printing()        # Jupyter Notebook で SymPy 出力を良い感じに出力します\n",
    "\n",
    "from sympy.physics.quantum import *    # 量子計算のための関数など\n",
    "from sympy.physics.quantum.qubit import * # 量子ビットのブラ・ケットベクトル、測定に関する関数\n",
    "from sympy.physics.quantum.gate import *  # 量子ゲート各種\n",
    "from sympy.physics.quantum.gate import IdentityGate as Id  # Python で I はほかの意味に割当たっているため使えません。恒等変換操作を Id として使えるようにします\n",
    "get_ipython().run_line_magic('matplotlib', 'inline')\n",
    "import matplotlib.pyplot as plt\n",
    "from sympy.physics.quantum.circuitplot import CircuitPlot,labeller, Mz,CreateOneQubitGate\n",
    "\n",
    "# Alice と Bob が対象としている量子ビットを測定する操作を準備します。\n",
    "def alice(qbit): return measure_partial(qbit,(0,1))\n",
    "def bob(qbit):  return measure_partial(qbit,(2,))\n",
    "\n",
    "def U(x): return T(x)*X(x)*H(x)\n",
    "ini_alice = U(0) * Qubit('000')\n",
    "print(measure_partial(qapply(ini_alice),(0,)))\n",
    "\n",
    "# Alice と Bob は量子もつれの状態を共有します。\n",
    "pairs = CNOT(1,2)*H(1)\n",
    "\n",
    "# Bell測定を行います。\n",
    "bell_meas = CNOT(0,2)*CPHASE(1,2)*H(0)*CNOT(0,1)*pairs\n",
    "CircuitPlot(bell_meas,nqubits=3, labels = ['alice','alice','bob'])\n",
    "teleportated = qapply(bell_meas*ini_alice)\n",
    "\n",
    "alice(teleportated)"
   ]
  },
  {
   "cell_type": "code",
   "execution_count": null,
   "metadata": {},
   "outputs": [],
   "source": []
  }
 ],
 "metadata": {
  "kernelspec": {
   "display_name": "Python 3",
   "language": "python",
   "name": "python3"
  },
  "language_info": {
   "codemirror_mode": {
    "name": "ipython",
    "version": 3
   },
   "file_extension": ".py",
   "mimetype": "text/x-python",
   "name": "python",
   "nbconvert_exporter": "python",
   "pygments_lexer": "ipython3",
   "version": "3.7.0"
  }
 },
 "nbformat": 4,
 "nbformat_minor": 2
}
