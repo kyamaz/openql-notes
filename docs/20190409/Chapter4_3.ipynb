{
 "cells": [
  {
   "cell_type": "code",
   "execution_count": 33,
   "metadata": {},
   "outputs": [],
   "source": [
    "from sympy import *\n",
    "from sympy.physics.quantum import *\n",
    "from sympy.physics.quantum.qubit import *\n",
    "from sympy.physics.quantum.gate import *\n",
    "from sympy.physics.quantum.gate import IdentityGate as _I\n",
    "init_printing()"
   ]
  },
  {
   "cell_type": "code",
   "execution_count": 34,
   "metadata": {},
   "outputs": [],
   "source": [
    "# 量子回路図を描画するための準備\n",
    "%matplotlib inline\n",
    "import matplotlib.pyplot as plt\n",
    "from sympy.physics.quantum.circuitplot import *"
   ]
  },
  {
   "cell_type": "markdown",
   "metadata": {},
   "source": [
    "### 4.3.2. アダマールテスト\n",
    "\n",
    "アダマールテストの例として、制御ユニタリの $ U $ がアダマール演算子の場合を考えています。\n",
    "\n",
    "制御H演算子は、`CGateS()`を用いて次のようになります。"
   ]
  },
  {
   "cell_type": "code",
   "execution_count": 35,
   "metadata": {},
   "outputs": [
    {
     "data": {
      "image/png": "[encoded data removed]",
      "text/latex": [
       "$$\\left[\\begin{matrix}1 & 0 & 0 & 0\\\\0 & 1 & 0 & 0\\\\0 & 0 & \\frac{\\sqrt{2}}{2} & \\frac{1}{\\sqrt{2}}\\\\0 & 0 & \\frac{1}{\\sqrt{2}} & - \\frac{\\sqrt{2}}{2}\\end{matrix}\\right]$$"
      ],
      "text/plain": [
       "⎡1  0  0    0  ⎤\n",
       "⎢              ⎥\n",
       "⎢0  1  0    0  ⎥\n",
       "⎢              ⎥\n",
       "⎢      √2   1  ⎥\n",
       "⎢0  0  ──   ── ⎥\n",
       "⎢      2    √2 ⎥\n",
       "⎢              ⎥\n",
       "⎢      1   -√2 ⎥\n",
       "⎢0  0  ──  ────⎥\n",
       "⎣      √2   2  ⎦"
      ]
     },
     "execution_count": 35,
     "metadata": {},
     "output_type": "execute_result"
    }
   ],
   "source": [
    "# 制御H演算子\n",
    "cH = CGateS(1,H(0))\n",
    "represent(cH,nqubits=2)"
   ]
  },
  {
   "cell_type": "markdown",
   "metadata": {},
   "source": [
    "アダマールテストの演算子は、次のようになります。"
   ]
  },
  {
   "cell_type": "code",
   "execution_count": 36,
   "metadata": {},
   "outputs": [
    {
     "data": {
      "image/png": "[encoded data removed]",
      "text/plain": [
       "<Figure size 216x144 with 1 Axes>"
      ]
     },
     "metadata": {},
     "output_type": "display_data"
    }
   ],
   "source": [
    "test_gate = H(1)*cH*H(1)\n",
    "figure_test_gate = CircuitPlot(test_gate,nqubits=2)"
   ]
  },
  {
   "cell_type": "markdown",
   "metadata": {},
   "source": [
    "測定前の量子状態は、次のようになります。"
   ]
  },
  {
   "cell_type": "code",
   "execution_count": 37,
   "metadata": {},
   "outputs": [
    {
     "data": {
      "image/png": "[encoded data removed]",
      "text/latex": [
       "$$\\frac{\\sqrt{2} {\\left|00\\right\\rangle }}{4} + \\frac{{\\left|00\\right\\rangle }}{2} + \\frac{\\sqrt{2} {\\left|01\\right\\rangle }}{4} - \\frac{\\sqrt{2} {\\left|10\\right\\rangle }}{4} + \\frac{{\\left|10\\right\\rangle }}{2} - \\frac{\\sqrt{2} {\\left|11\\right\\rangle }}{4}$$"
      ],
      "text/plain": [
       "√2⋅❘00⟩   ❘00⟩   √2⋅❘01⟩   √2⋅❘10⟩   ❘10⟩   √2⋅❘11⟩\n",
       "─────── + ──── + ─────── - ─────── + ──── - ───────\n",
       "   4       2        4         4       2        4   "
      ]
     },
     "execution_count": 37,
     "metadata": {},
     "output_type": "execute_result"
    }
   ],
   "source": [
    "initial_state = Qubit('00')\n",
    "tested_state = qapply(test_gate*initial_state)\n",
    "tested_state"
   ]
  },
  {
   "cell_type": "markdown",
   "metadata": {},
   "source": [
    "`measure_partial`関数を使うと、測定後の状態と測定の確率がリストで得られます。１つめの量子ビットが0の場合の量子状態になる確率は、`measure_partial` 関数の要素 [0][1] で得られます。ここで、SymPy では量子ビットの順番を示すインデックスが逆転していることに注意しましょう。つまり、`measure_partial` 関数の第２引数は、`(0,)` ではなく、`(1,)`です。"
   ]
  },
  {
   "cell_type": "code",
   "execution_count": 53,
   "metadata": {},
   "outputs": [
    {
     "data": {
      "image/png": "[encoded data removed]",
      "text/latex": [
       "$$\\frac{\\sqrt{2}}{4} + \\frac{1}{2}$$"
      ],
      "text/plain": [
       "√2   1\n",
       "── + ─\n",
       "4    2"
      ]
     },
     "execution_count": 53,
     "metadata": {},
     "output_type": "execute_result"
    }
   ],
   "source": [
    "measured_state0 = measure_partial(tested_state,(1,))[0]\n",
    "simplify(measured_state0[1])"
   ]
  },
  {
   "cell_type": "markdown",
   "metadata": {},
   "source": [
    "となります。これが $ p_0 = \\frac{1+ {\\rm Re} \\langle \\psi | U | \\psi \\rangle }{2} $ に一致することをアダマールテストは示しています。"
   ]
  },
  {
   "cell_type": "markdown",
   "metadata": {},
   "source": [
    "\n",
    "つまり、$ p_0 = \\frac{\\sqrt{2}}{4} + \\frac{1}{2}$ ですから、 $ p_0 = \\frac{1+ {\\rm Re} \\langle \\psi | U | \\psi \\rangle }{2} = \\frac{\\sqrt{2}}{4} + \\frac{1}{2} $ から、$ {\\rm Re} \\langle \\psi | U | \\psi \\rangle  = \\frac{\\sqrt{2}}{2} $ が得られたことになります。"
   ]
  },
  {
   "cell_type": "markdown",
   "metadata": {},
   "source": [
    "ここで、$\\langle 0 | H | 0 \\rangle $ を計算すると、次のように結果が一致します。"
   ]
  },
  {
   "cell_type": "code",
   "execution_count": 54,
   "metadata": {},
   "outputs": [
    {
     "data": {
      "image/png": "[encoded data removed]",
      "text/latex": [
       "$$\\frac{\\sqrt{2}}{2}$$"
      ],
      "text/plain": [
       "√2\n",
       "──\n",
       "2 "
      ]
     },
     "execution_count": 54,
     "metadata": {},
     "output_type": "execute_result"
    }
   ],
   "source": [
    "qapply(QubitBra('0')*H(0)*Qubit('0'))"
   ]
  },
  {
   "cell_type": "markdown",
   "metadata": {},
   "source": [
    "なお、このときの量子状態は、要素 [0][0] で得られます。"
   ]
  },
  {
   "cell_type": "code",
   "execution_count": 55,
   "metadata": {},
   "outputs": [
    {
     "data": {
      "image/png": "[encoded data removed]",
      "text/latex": [
       "$$\\frac{\\left(\\sqrt{2} + 2\\right) {\\left|00\\right\\rangle } + \\sqrt{2} {\\left|01\\right\\rangle }}{2 \\sqrt{\\sqrt{2} + 2}}$$"
      ],
      "text/plain": [
       "(√2 + 2)⋅❘00⟩ + √2⋅❘01⟩\n",
       "───────────────────────\n",
       "          ________     \n",
       "      2⋅╲╱ √2 + 2      "
      ]
     },
     "execution_count": 55,
     "metadata": {},
     "output_type": "execute_result"
    }
   ],
   "source": [
    "simplify(measured_state0[0])"
   ]
  },
  {
   "cell_type": "code",
   "execution_count": null,
   "metadata": {},
   "outputs": [],
   "source": []
  }
 ],
 "metadata": {
  "kernelspec": {
   "display_name": "Python 3",
   "language": "python",
   "name": "python3"
  },
  "language_info": {
   "codemirror_mode": {
    "name": "ipython",
    "version": 3
   },
   "file_extension": ".py",
   "mimetype": "text/x-python",
   "name": "python",
   "nbconvert_exporter": "python",
   "pygments_lexer": "ipython3",
   "version": "3.7.0"
  }
 },
 "nbformat": 4,
 "nbformat_minor": 2
}
