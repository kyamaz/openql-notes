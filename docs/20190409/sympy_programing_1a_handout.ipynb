{
 "cells": [
  {
   "cell_type": "markdown",
   "metadata": {
    "collapsed": true
   },
   "source": [
    "### 0. [準備]必要なライブラリをインポートする"
   ]
  },
  {
   "cell_type": "code",
   "execution_count": 1,
   "metadata": {},
   "outputs": [],
   "source": [
    "from sympy import *     # SymPy の基本機能\n",
    "from sympy.physics.quantum import * # qapplyを含む量子計算のための基本機能\n",
    "from sympy.physics.quantum.qubit import *  # 量子ビット、量子ビットの測定関連の機能\n",
    "from sympy.physics.quantum.gate import *   # 基本的な量子ゲート\n",
    "from sympy.physics.quantum.gate import IdentityGate as _I  # 恒等変換を _I と省略\n",
    "init_printing() # Jupyter Notebook で SymPy の Tex形式出力を整形します。\n",
    "%matplotlib inline\n",
    "# 量子回路図を描画するための準備\n",
    "get_ipython().run_line_magic('matplotlib', 'inline')\n",
    "import matplotlib.pyplot as plt\n",
    "from sympy.physics.quantum.circuitplot import *"
   ]
  },
  {
   "cell_type": "markdown",
   "metadata": {},
   "source": [
    "###  １. 計算に必要な量子ビット（量子レジスタ）を準備して、その値を初期化する\n",
    "\n",
    "計算に必要な量子ビットは、sympy.physics.quantum.qubit.Qubitクラス（実態はケット・ベクトル）を必要なビット数を\n",
    "初期化して作成します。\n",
    "\n",
    "* 例１：変数 $a$ に、２量子ビット $ \\vert 00 \\rangle $ を準備します。"
   ]
  },
  {
   "cell_type": "code",
   "execution_count": 2,
   "metadata": {},
   "outputs": [
    {
     "data": {
      "image/png": "[encoded data removed]",
      "text/latex": [
       "$${\\left|00\\right\\rangle }$$"
      ],
      "text/plain": [
       "❘00⟩"
      ]
     },
     "execution_count": 2,
     "metadata": {},
     "output_type": "execute_result"
    }
   ],
   "source": [
    "a = Qubit('00')\n",
    "a # print(a)"
   ]
  },
  {
   "cell_type": "markdown",
   "metadata": {},
   "source": [
    "* 例２：変数 $ a $ の状態ベクトルをつかって、変数 $ b $ を同じ状態ベクトルとして準備します。"
   ]
  },
  {
   "cell_type": "code",
   "execution_count": 3,
   "metadata": {
    "scrolled": true
   },
   "outputs": [
    {
     "data": {
      "image/png": "[encoded data removed]",
      "text/latex": [
       "$${\\left|00\\right\\rangle }$$"
      ],
      "text/plain": [
       "❘00⟩"
      ]
     },
     "execution_count": 3,
     "metadata": {},
     "output_type": "execute_result"
    }
   ],
   "source": [
    "b = Qubit(a)\n",
    "b # print(b)"
   ]
  },
  {
   "cell_type": "markdown",
   "metadata": {},
   "source": [
    "* 例３：8量子ビットをすべて $0$ として準備します。"
   ]
  },
  {
   "cell_type": "code",
   "execution_count": 4,
   "metadata": {},
   "outputs": [
    {
     "data": {
      "image/png": "[encoded data removed]",
      "text/latex": [
       "$${\\left|00000000\\right\\rangle }$$"
      ],
      "text/plain": [
       "❘00000000⟩"
      ]
     },
     "execution_count": 4,
     "metadata": {},
     "output_type": "execute_result"
    }
   ],
   "source": [
    "q_8 = Qubit('0'*8)\n",
    "q_8 # pprint(q_8)"
   ]
  },
  {
   "cell_type": "markdown",
   "metadata": {},
   "source": [
    "* 例４：（後述で説明する計算方法を使いますが）計算を行って、変数 $c$ の状態ベクトルを準備します。  \n",
    "  　　　２量子ビットの重ね合わせ"
   ]
  },
  {
   "cell_type": "code",
   "execution_count": 5,
   "metadata": {},
   "outputs": [
    {
     "data": {
      "image/png": "[encoded data removed]",
      "text/latex": [
       "$$\\frac{{\\left|00\\right\\rangle }}{2} + \\frac{{\\left|01\\right\\rangle }}{2} + \\frac{{\\left|10\\right\\rangle }}{2} + \\frac{{\\left|11\\right\\rangle }}{2}$$"
      ],
      "text/plain": [
       "❘00⟩   ❘01⟩   ❘10⟩   ❘11⟩\n",
       "──── + ──── + ──── + ────\n",
       " 2      2      2      2  "
      ]
     },
     "execution_count": 5,
     "metadata": {},
     "output_type": "execute_result"
    }
   ],
   "source": [
    "c = qapply(H(1)*H(0)*a)\n",
    "c # print(c)"
   ]
  },
  {
   "cell_type": "markdown",
   "metadata": {},
   "source": [
    "Qubitクラスには次のような関数やプロパティが定義されています。"
   ]
  },
  {
   "cell_type": "code",
   "execution_count": 6,
   "metadata": {},
   "outputs": [
    {
     "name": "stdout",
     "output_type": "stream",
     "text": [
      "nqubits=3\n",
      "len=3\n",
      "dimension=3\n",
      "(0, 0, 0)\n"
     ]
    },
    {
     "data": {
      "image/png": "[encoded data removed]",
      "text/latex": [
       "$${\\left|010\\right\\rangle }$$"
      ],
      "text/plain": [
       "❘010⟩"
      ]
     },
     "execution_count": 6,
     "metadata": {},
     "output_type": "execute_result"
    }
   ],
   "source": [
    "q = Qubit('000')\n",
    "\n",
    "# サイズ（量子ビット数）を返す\n",
    "print(\"nqubits=%d\"% q.nqubits)\n",
    "print(\"len=%d\" % len(q))\n",
    "print(\"dimension=%d\" % q.dimension)\n",
    "print(q.qubit_values)\n",
    "\n",
    "q.flip(1)  # 引数で指定された位置(*)の右から2番目の量子ビットを反転します."
   ]
  },
  {
   "cell_type": "markdown",
   "metadata": {},
   "source": [
    "### 2. 量子計算をユニタリ行列（ゲート演算子）で記述する\n",
    "\n",
    "作用させるユニタリ行列を標準で準備されているユニタリ行列のテンソル積で表します。\n",
    "\n",
    "まず最初に、標準で定義されているユニタリ行列を見て見ましょう。\n",
    "\n",
    "#### １量子ビット操作\n",
    "引数に渡す数字は、作用させる量子ビットの位置を表します。\n",
    "\n",
    "* パウリ演算子"
   ]
  },
  {
   "cell_type": "code",
   "execution_count": 7,
   "metadata": {},
   "outputs": [
    {
     "data": {
      "image/png": "[encoded data removed]",
      "text/latex": [
       "$$\\left[\\begin{matrix}0 & 1\\\\1 & 0\\end{matrix}\\right]$$"
      ],
      "text/plain": [
       "⎡0  1⎤\n",
       "⎢    ⎥\n",
       "⎣1  0⎦"
      ]
     },
     "execution_count": 7,
     "metadata": {},
     "output_type": "execute_result"
    }
   ],
   "source": [
    "op = X(0)\n",
    "represent(op, nqubits=1)"
   ]
  },
  {
   "cell_type": "code",
   "execution_count": 8,
   "metadata": {},
   "outputs": [
    {
     "data": {
      "image/png": "[encoded data removed]",
      "text/latex": [
       "$$\\left[\\begin{matrix}0 & - i\\\\i & 0\\end{matrix}\\right]$$"
      ],
      "text/plain": [
       "⎡0  -ⅈ⎤\n",
       "⎢     ⎥\n",
       "⎣ⅈ  0 ⎦"
      ]
     },
     "execution_count": 8,
     "metadata": {},
     "output_type": "execute_result"
    }
   ],
   "source": [
    "op = Y(0)\n",
    "represent(op, nqubits=1)"
   ]
  },
  {
   "cell_type": "code",
   "execution_count": 9,
   "metadata": {},
   "outputs": [
    {
     "data": {
      "image/png": "[encoded data removed]",
      "text/latex": [
       "$$\\left[\\begin{matrix}1 & 0\\\\0 & -1\\end{matrix}\\right]$$"
      ],
      "text/plain": [
       "⎡1  0 ⎤\n",
       "⎢     ⎥\n",
       "⎣0  -1⎦"
      ]
     },
     "execution_count": 9,
     "metadata": {},
     "output_type": "execute_result"
    }
   ],
   "source": [
    "op = Z(0)\n",
    "represent(op, nqubits=1)"
   ]
  },
  {
   "cell_type": "markdown",
   "metadata": {},
   "source": [
    "* アダマール（Hadamard）変換"
   ]
  },
  {
   "cell_type": "code",
   "execution_count": 10,
   "metadata": {},
   "outputs": [
    {
     "data": {
      "image/png": "[encoded data removed]",
      "text/latex": [
       "$$\\left[\\begin{matrix}\\frac{1}{\\sqrt{2}} & \\frac{1}{\\sqrt{2}}\\\\\\frac{1}{\\sqrt{2}} & - \\frac{\\sqrt{2}}{2}\\end{matrix}\\right]$$"
      ],
      "text/plain": [
       "⎡1    1  ⎤\n",
       "⎢──   ── ⎥\n",
       "⎢√2   √2 ⎥\n",
       "⎢        ⎥\n",
       "⎢1   -√2 ⎥\n",
       "⎢──  ────⎥\n",
       "⎣√2   2  ⎦"
      ]
     },
     "execution_count": 10,
     "metadata": {},
     "output_type": "execute_result"
    }
   ],
   "source": [
    "op = H(0)\n",
    "represent(op, nqubits=1)"
   ]
  },
  {
   "cell_type": "markdown",
   "metadata": {},
   "source": [
    "* $ S, S^{\\dagger}, T, T^{\\dagger} $ 変換"
   ]
  },
  {
   "cell_type": "code",
   "execution_count": 11,
   "metadata": {},
   "outputs": [
    {
     "data": {
      "image/png": "[encoded data removed]",
      "text/latex": [
       "$$\\left[\\begin{matrix}1 & 0\\\\0 & i\\end{matrix}\\right]$$"
      ],
      "text/plain": [
       "⎡1  0⎤\n",
       "⎢    ⎥\n",
       "⎣0  ⅈ⎦"
      ]
     },
     "execution_count": 11,
     "metadata": {},
     "output_type": "execute_result"
    }
   ],
   "source": [
    "op = S(0)\n",
    "represent(op, nqubits=1)"
   ]
  },
  {
   "cell_type": "code",
   "execution_count": 12,
   "metadata": {},
   "outputs": [
    {
     "data": {
      "image/png": "[encoded data removed]",
      "text/latex": [
       "$$\\left[\\begin{matrix}1 & 0\\\\0 & - i\\end{matrix}\\right]$$"
      ],
      "text/plain": [
       "⎡1  0 ⎤\n",
       "⎢     ⎥\n",
       "⎣0  -ⅈ⎦"
      ]
     },
     "execution_count": 12,
     "metadata": {},
     "output_type": "execute_result"
    }
   ],
   "source": [
    "op = Dagger(S(0))\n",
    "represent(op, nqubits=1)"
   ]
  },
  {
   "cell_type": "code",
   "execution_count": 13,
   "metadata": {},
   "outputs": [
    {
     "data": {
      "image/png": "[encoded data removed]",
      "text/latex": [
       "$$\\left[\\begin{matrix}1 & 0\\\\0 & - i\\end{matrix}\\right]$$"
      ],
      "text/plain": [
       "⎡1  0 ⎤\n",
       "⎢     ⎥\n",
       "⎣0  -ⅈ⎦"
      ]
     },
     "execution_count": 13,
     "metadata": {},
     "output_type": "execute_result"
    }
   ],
   "source": [
    "op = S(0)**(-1)   # S^{\\dagger} と同じ\n",
    "represent(op, nqubits=1)"
   ]
  },
  {
   "cell_type": "code",
   "execution_count": 14,
   "metadata": {},
   "outputs": [
    {
     "data": {
      "image/png": "[encoded data removed]",
      "text/latex": [
       "$$\\left[\\begin{matrix}1 & 0\\\\0 & - i\\end{matrix}\\right]$$"
      ],
      "text/plain": [
       "⎡1  0 ⎤\n",
       "⎢     ⎥\n",
       "⎣0  -ⅈ⎦"
      ]
     },
     "execution_count": 14,
     "metadata": {},
     "output_type": "execute_result"
    }
   ],
   "source": [
    "from sympy.physics.quantum.matrixcache import matrix_cache\n",
    "matrix_cache.cache_matrix('Sdg', Matrix([[1, 0], [0, -I]]))\n",
    "class Sdg(OneQubitGate): # S^{\\dagger} としては、この演算子を使います。\n",
    "    gate_name = u'Sdg'\n",
    "    gate_name_latex = u'S^{\\dagger}'\n",
    "    def get_target_matrix(self, format='sympy'):\n",
    "        return matrix_cache.get_matrix('Sdg', format)\n",
    "represent(Sdg(0),nqubits=1)"
   ]
  },
  {
   "cell_type": "code",
   "execution_count": 15,
   "metadata": {},
   "outputs": [
    {
     "data": {
      "image/png": "[encoded data removed]",
      "text/latex": [
       "$$\\left[\\begin{matrix}1 & 0\\\\0 & e^{\\frac{i \\pi}{4}}\\end{matrix}\\right]$$"
      ],
      "text/plain": [
       "⎡1   0  ⎤\n",
       "⎢       ⎥\n",
       "⎢    ⅈ⋅π⎥\n",
       "⎢    ───⎥\n",
       "⎢     4 ⎥\n",
       "⎣0  ℯ   ⎦"
      ]
     },
     "execution_count": 15,
     "metadata": {},
     "output_type": "execute_result"
    }
   ],
   "source": [
    "op = T(0)\n",
    "represent(op, nqubits=1)"
   ]
  },
  {
   "cell_type": "code",
   "execution_count": 16,
   "metadata": {},
   "outputs": [
    {
     "data": {
      "image/png": "[encoded data removed]",
      "text/latex": [
       "$$\\left[\\begin{matrix}1 & 0\\\\0 & e^{- \\frac{i \\pi}{4}}\\end{matrix}\\right]$$"
      ],
      "text/plain": [
       "⎡1    0   ⎤\n",
       "⎢         ⎥\n",
       "⎢    -ⅈ⋅π ⎥\n",
       "⎢    ─────⎥\n",
       "⎢      4  ⎥\n",
       "⎣0  ℯ     ⎦"
      ]
     },
     "execution_count": 16,
     "metadata": {},
     "output_type": "execute_result"
    }
   ],
   "source": [
    "op = Dagger(T(0))\n",
    "represent(op, nqubits=1)"
   ]
  },
  {
   "cell_type": "code",
   "execution_count": 17,
   "metadata": {},
   "outputs": [
    {
     "data": {
      "image/png": "[encoded data removed]",
      "text/latex": [
       "$$\\left[\\begin{matrix}1 & 0\\\\0 & e^{- \\frac{i \\pi}{4}}\\end{matrix}\\right]$$"
      ],
      "text/plain": [
       "⎡1    0   ⎤\n",
       "⎢         ⎥\n",
       "⎢    -ⅈ⋅π ⎥\n",
       "⎢    ─────⎥\n",
       "⎢      4  ⎥\n",
       "⎣0  ℯ     ⎦"
      ]
     },
     "execution_count": 17,
     "metadata": {},
     "output_type": "execute_result"
    }
   ],
   "source": [
    "op = T(0)**(-1)   # T^{\\dagger} と同じ\n",
    "represent(op, nqubits=1)"
   ]
  },
  {
   "cell_type": "code",
   "execution_count": 18,
   "metadata": {},
   "outputs": [
    {
     "data": {
      "image/png": "[encoded data removed]",
      "text/latex": [
       "$$\\left[\\begin{matrix}1 & 0\\\\0 & e^{- \\frac{i \\pi}{4}}\\end{matrix}\\right]$$"
      ],
      "text/plain": [
       "⎡1    0   ⎤\n",
       "⎢         ⎥\n",
       "⎢    -ⅈ⋅π ⎥\n",
       "⎢    ─────⎥\n",
       "⎢      4  ⎥\n",
       "⎣0  ℯ     ⎦"
      ]
     },
     "execution_count": 18,
     "metadata": {},
     "output_type": "execute_result"
    }
   ],
   "source": [
    "from sympy.physics.quantum.matrixcache import matrix_cache\n",
    "matrix_cache.cache_matrix('Tdg',Matrix([[1, 0], [0, exp(-I*pi/4)]]))\n",
    "class Tdg(OneQubitGate): # T^{\\dagger} としては、この演算子を使います。\n",
    "    gate_name = u'Tdg'\n",
    "    gate_name_latex = u'T^{\\dagger}'\n",
    "    def get_target_matrix(self, format='sympy'):\n",
    "        return matrix_cache.get_matrix('Tdg', format)\n",
    "represent(Tdg(0),nqubits=1)"
   ]
  },
  {
   "cell_type": "markdown",
   "metadata": {},
   "source": [
    "#### ２量子ビット操作\n",
    "引数に渡す数字は２つ、作用させる量子ビットの位置を表します。省略すると 0 のみとなるため、そのあとの計算がうまくできません。  \n",
    "必ず、引数を指定するようにしましょう。\n",
    "\n",
    "\n",
    "* CNOT操作  \n",
    "次の $ 4 \\times 4 $ の行列です。   \n",
    "\n",
    "$ \\left( \\begin{array}{cccc} 1 & 0 & 0 & 0 \\\\ 0 & 1 & 0 & 0 \\\\ 0 & 0 & 0 & 1 \\\\ 0 & 0 & 1 & 0 \\end{array} \\right) $"
   ]
  },
  {
   "cell_type": "code",
   "execution_count": 19,
   "metadata": {},
   "outputs": [
    {
     "name": "stdout",
     "output_type": "stream",
     "text": [
      "controls=(1,),targets=(0,),gate=X(0)\n"
     ]
    },
    {
     "data": {
      "image/png": "[encoded data removed]",
      "text/latex": [
       "$$\\left[\\begin{matrix}1 & 0 & 0 & 0\\\\0 & 1 & 0 & 0\\\\0 & 0 & 0 & 1\\\\0 & 0 & 1 & 0\\end{matrix}\\right]$$"
      ],
      "text/plain": [
       "⎡1  0  0  0⎤\n",
       "⎢          ⎥\n",
       "⎢0  1  0  0⎥\n",
       "⎢          ⎥\n",
       "⎢0  0  0  1⎥\n",
       "⎢          ⎥\n",
       "⎣0  0  1  0⎦"
      ]
     },
     "execution_count": 19,
     "metadata": {},
     "output_type": "execute_result"
    }
   ],
   "source": [
    "op=CNOT(1,0)\n",
    "print(\"controls=%s,targets=%s,gate=%s\" % (op.controls, op.targets, op.gate))  # CNOTのプロパティ\n",
    "represent(op,nqubits=2) # 行列形式で直接表現する方法"
   ]
  },
  {
   "cell_type": "markdown",
   "metadata": {},
   "source": [
    "* SWAP操作\n",
    "  \n",
    "指定された量子ビットを入れ替える操作です。"
   ]
  },
  {
   "cell_type": "code",
   "execution_count": 20,
   "metadata": {},
   "outputs": [
    {
     "data": {
      "image/png": "[encoded data removed]",
      "text/latex": [
       "$$\\left[\\begin{matrix}1 & 0 & 0 & 0\\\\0 & 0 & 1 & 0\\\\0 & 1 & 0 & 0\\\\0 & 0 & 0 & 1\\end{matrix}\\right]$$"
      ],
      "text/plain": [
       "⎡1  0  0  0⎤\n",
       "⎢          ⎥\n",
       "⎢0  0  1  0⎥\n",
       "⎢          ⎥\n",
       "⎢0  1  0  0⎥\n",
       "⎢          ⎥\n",
       "⎣0  0  0  1⎦"
      ]
     },
     "execution_count": 20,
     "metadata": {},
     "output_type": "execute_result"
    }
   ],
   "source": [
    "op = SWAP(0,1)\n",
    "represent(op,nqubits=2) # 行列形式で直接表現する方法"
   ]
  },
  {
   "cell_type": "markdown",
   "metadata": {},
   "source": [
    "* CPHASE操作  \n",
    "  \n",
    "制御Zゲート、Control-Z、CZ と呼ばれ、次の行列です。\n",
    "  \n",
    "$ \\left( \\begin{array}{cccc} 1 & 0 & 0 & 0 \\\\ 0 & 1 & 0 & 0 \\\\ 0 & 0 & 1 & 0 \\\\ 0 & 0 & 0 & -1 \\end{array} \\right) $"
   ]
  },
  {
   "cell_type": "code",
   "execution_count": 21,
   "metadata": {},
   "outputs": [
    {
     "data": {
      "image/png": "[encoded data removed]",
      "text/latex": [
       "$$\\left[\\begin{matrix}1 & 0 & 0 & 0\\\\0 & 1 & 0 & 0\\\\0 & 0 & 1 & 0\\\\0 & 0 & 0 & -1\\end{matrix}\\right]$$"
      ],
      "text/plain": [
       "⎡1  0  0  0 ⎤\n",
       "⎢           ⎥\n",
       "⎢0  1  0  0 ⎥\n",
       "⎢           ⎥\n",
       "⎢0  0  1  0 ⎥\n",
       "⎢           ⎥\n",
       "⎣0  0  0  -1⎦"
      ]
     },
     "execution_count": 21,
     "metadata": {},
     "output_type": "execute_result"
    }
   ],
   "source": [
    "op = CPHASE(0,1)\n",
    "represent(op,nqubits=2)"
   ]
  },
  {
   "cell_type": "markdown",
   "metadata": {},
   "source": [
    "次に、テンソル積をいくつか試してみます。  \n"
   ]
  },
  {
   "cell_type": "code",
   "execution_count": 22,
   "metadata": {
    "scrolled": true
   },
   "outputs": [
    {
     "data": {
      "image/png": "[encoded data removed]",
      "text/latex": [
       "$$\\left[\\begin{matrix}0 & 0 & 1 & 0\\\\0 & 0 & 0 & 1\\\\1 & 0 & 0 & 0\\\\0 & 1 & 0 & 0\\end{matrix}\\right]$$"
      ],
      "text/plain": [
       "⎡0  0  1  0⎤\n",
       "⎢          ⎥\n",
       "⎢0  0  0  1⎥\n",
       "⎢          ⎥\n",
       "⎢1  0  0  0⎥\n",
       "⎢          ⎥\n",
       "⎣0  1  0  0⎦"
      ]
     },
     "execution_count": 22,
     "metadata": {},
     "output_type": "execute_result"
    }
   ],
   "source": [
    "Op1 = X(1)*_I(0)\n",
    "represent(Op1, nqubits=2)"
   ]
  },
  {
   "cell_type": "code",
   "execution_count": 23,
   "metadata": {},
   "outputs": [
    {
     "data": {
      "image/png": "[encoded data removed]",
      "text/latex": [
       "$$\\left[\\begin{matrix}0 & 0 & 1 & 0\\\\0 & 0 & 0 & 1\\\\1 & 0 & 0 & 0\\\\0 & 1 & 0 & 0\\end{matrix}\\right]$$"
      ],
      "text/plain": [
       "⎡0  0  1  0⎤\n",
       "⎢          ⎥\n",
       "⎢0  0  0  1⎥\n",
       "⎢          ⎥\n",
       "⎢1  0  0  0⎥\n",
       "⎢          ⎥\n",
       "⎣0  1  0  0⎦"
      ]
     },
     "execution_count": 23,
     "metadata": {},
     "output_type": "execute_result"
    }
   ],
   "source": [
    "# 標準の１量子ビット操作のユニタリ演算は、その掛け算の順番よりも、指定した量子ビット（引数）がポイントとなります。\n",
    "Op1_ = _I(0)*X(1)\n",
    "represent(Op1_, nqubits=2)"
   ]
  },
  {
   "cell_type": "code",
   "execution_count": 24,
   "metadata": {},
   "outputs": [
    {
     "data": {
      "image/png": "[encoded data removed]",
      "text/latex": [
       "$$\\left[\\begin{matrix}0 & 1 & 0 & 0\\\\1 & 0 & 0 & 0\\\\0 & 0 & 0 & 1\\\\0 & 0 & 1 & 0\\end{matrix}\\right]$$"
      ],
      "text/plain": [
       "⎡0  1  0  0⎤\n",
       "⎢          ⎥\n",
       "⎢1  0  0  0⎥\n",
       "⎢          ⎥\n",
       "⎢0  0  0  1⎥\n",
       "⎢          ⎥\n",
       "⎣0  0  1  0⎦"
      ]
     },
     "execution_count": 24,
     "metadata": {},
     "output_type": "execute_result"
    }
   ],
   "source": [
    "# 順番が大切になるのは、同じ位置の量子ビットに作用する場合で、積の交換はできません。\n",
    "Op2 = _I(1)*X(0)\n",
    "represent(Op2, nqubits=2)"
   ]
  },
  {
   "cell_type": "markdown",
   "metadata": {},
   "source": [
    "* Hadamard 変換（8量子ビット）"
   ]
  },
  {
   "cell_type": "code",
   "execution_count": 25,
   "metadata": {},
   "outputs": [
    {
     "name": "stdout",
     "output_type": "stream",
     "text": [
      "H(7)*H(6)*H(5)*H(4)*H(3)*H(2)*H(1)*H(0)\n",
      "\n",
      "\n",
      "H ⋅H ⋅H ⋅H ⋅H ⋅H ⋅H ⋅H \n",
      " 7  6  5  4  3  2  1  0\n"
     ]
    },
    {
     "data": {
      "image/png": "[encoded data removed]",
      "text/latex": [
       "$$H_{7} H_{6} H_{5} H_{4} H_{3} H_{2} H_{1} H_{0}$$"
      ],
      "text/plain": [
       "H ⋅H ⋅H ⋅H ⋅H ⋅H ⋅H ⋅H \n",
       " 7  6  5  4  3  2  1  0"
      ]
     },
     "execution_count": 25,
     "metadata": {},
     "output_type": "execute_result"
    }
   ],
   "source": [
    "def hadamard(s,n):\n",
    "    h = H(s)\n",
    "    for i in range(s+1,n+s):\n",
    "       h = H(i)*h\n",
    "    return h\n",
    "\n",
    "h_8 = hadamard(0,8)\n",
    "print(h_8)\n",
    "print(\"\\n\")\n",
    "pprint(h_8)    # = pretty_print(h_8)\n",
    "# h8.get_target_matrix() は実装がなく、エラーになります\n",
    "h_8"
   ]
  },
  {
   "cell_type": "code",
   "execution_count": 26,
   "metadata": {},
   "outputs": [
    {
     "data": {
      "image/png": "[encoded data removed]",
      "text/latex": [
       "$$\\left[\\begin{matrix}\\frac{\\sqrt{2}}{4} & \\frac{\\sqrt{2}}{4} & \\frac{\\sqrt{2}}{4} & \\frac{\\sqrt{2}}{4} & \\frac{\\sqrt{2}}{4} & \\frac{\\sqrt{2}}{4} & \\frac{\\sqrt{2}}{4} & \\frac{\\sqrt{2}}{4}\\\\\\frac{\\sqrt{2}}{4} & - \\frac{\\sqrt{2}}{4} & \\frac{\\sqrt{2}}{4} & - \\frac{\\sqrt{2}}{4} & \\frac{\\sqrt{2}}{4} & - \\frac{\\sqrt{2}}{4} & \\frac{\\sqrt{2}}{4} & - \\frac{\\sqrt{2}}{4}\\\\\\frac{\\sqrt{2}}{4} & \\frac{\\sqrt{2}}{4} & - \\frac{\\sqrt{2}}{4} & - \\frac{\\sqrt{2}}{4} & \\frac{\\sqrt{2}}{4} & \\frac{\\sqrt{2}}{4} & - \\frac{\\sqrt{2}}{4} & - \\frac{\\sqrt{2}}{4}\\\\\\frac{\\sqrt{2}}{4} & - \\frac{\\sqrt{2}}{4} & - \\frac{\\sqrt{2}}{4} & \\frac{\\sqrt{2}}{4} & \\frac{\\sqrt{2}}{4} & - \\frac{\\sqrt{2}}{4} & - \\frac{\\sqrt{2}}{4} & \\frac{\\sqrt{2}}{4}\\\\\\frac{\\sqrt{2}}{4} & \\frac{\\sqrt{2}}{4} & \\frac{\\sqrt{2}}{4} & \\frac{\\sqrt{2}}{4} & - \\frac{\\sqrt{2}}{4} & - \\frac{\\sqrt{2}}{4} & - \\frac{\\sqrt{2}}{4} & - \\frac{\\sqrt{2}}{4}\\\\\\frac{\\sqrt{2}}{4} & - \\frac{\\sqrt{2}}{4} & \\frac{\\sqrt{2}}{4} & - \\frac{\\sqrt{2}}{4} & - \\frac{\\sqrt{2}}{4} & \\frac{\\sqrt{2}}{4} & - \\frac{\\sqrt{2}}{4} & \\frac{\\sqrt{2}}{4}\\\\\\frac{\\sqrt{2}}{4} & \\frac{\\sqrt{2}}{4} & - \\frac{\\sqrt{2}}{4} & - \\frac{\\sqrt{2}}{4} & - \\frac{\\sqrt{2}}{4} & - \\frac{\\sqrt{2}}{4} & \\frac{\\sqrt{2}}{4} & \\frac{\\sqrt{2}}{4}\\\\\\frac{\\sqrt{2}}{4} & - \\frac{\\sqrt{2}}{4} & - \\frac{\\sqrt{2}}{4} & \\frac{\\sqrt{2}}{4} & - \\frac{\\sqrt{2}}{4} & \\frac{\\sqrt{2}}{4} & \\frac{\\sqrt{2}}{4} & - \\frac{\\sqrt{2}}{4}\\end{matrix}\\right]$$"
      ],
      "text/plain": [
       "⎡√2   √2    √2    √2    √2    √2    √2    √2 ⎤\n",
       "⎢──   ──    ──    ──    ──    ──    ──    ── ⎥\n",
       "⎢4    4     4     4     4     4     4     4  ⎥\n",
       "⎢                                            ⎥\n",
       "⎢√2  -√2    √2   -√2    √2   -√2    √2   -√2 ⎥\n",
       "⎢──  ────   ──   ────   ──   ────   ──   ────⎥\n",
       "⎢4    4     4     4     4     4     4     4  ⎥\n",
       "⎢                                            ⎥\n",
       "⎢√2   √2   -√2   -√2    √2    √2   -√2   -√2 ⎥\n",
       "⎢──   ──   ────  ────   ──    ──   ────  ────⎥\n",
       "⎢4    4     4     4     4     4     4     4  ⎥\n",
       "⎢                                            ⎥\n",
       "⎢√2  -√2   -√2    √2    √2   -√2   -√2    √2 ⎥\n",
       "⎢──  ────  ────   ──    ──   ────  ────   ── ⎥\n",
       "⎢4    4     4     4     4     4     4     4  ⎥\n",
       "⎢                                            ⎥\n",
       "⎢√2   √2    √2    √2   -√2   -√2   -√2   -√2 ⎥\n",
       "⎢──   ──    ──    ──   ────  ────  ────  ────⎥\n",
       "⎢4    4     4     4     4     4     4     4  ⎥\n",
       "⎢                                            ⎥\n",
       "⎢√2  -√2    √2   -√2   -√2    √2   -√2    √2 ⎥\n",
       "⎢──  ────   ──   ────  ────   ──   ────   ── ⎥\n",
       "⎢4    4     4     4     4     4     4     4  ⎥\n",
       "⎢                                            ⎥\n",
       "⎢√2   √2   -√2   -√2   -√2   -√2    √2    √2 ⎥\n",
       "⎢──   ──   ────  ────  ────  ────   ──    ── ⎥\n",
       "⎢4    4     4     4     4     4     4     4  ⎥\n",
       "⎢                                            ⎥\n",
       "⎢√2  -√2   -√2    √2   -√2    √2    √2   -√2 ⎥\n",
       "⎢──  ────  ────   ──   ────   ──    ──   ────⎥\n",
       "⎣4    4     4     4     4     4     4     4  ⎦"
      ]
     },
     "execution_count": 26,
     "metadata": {},
     "output_type": "execute_result"
    }
   ],
   "source": [
    "h_3 = hadamard(0,3)\n",
    "represent(h_3,nqubits=3)"
   ]
  },
  {
   "cell_type": "markdown",
   "metadata": {},
   "source": [
    "#### 量子回路図\n",
    "\n",
    "ユニタリ行列のテンソル積は、量子回路として、量子回路図で表現できます。  \n",
    "SymPy には、量子回路図を描画するための仕組みが備わっています。量子回路図を描いてみましょう。"
   ]
  },
  {
   "cell_type": "code",
   "execution_count": 27,
   "metadata": {},
   "outputs": [],
   "source": [
    "# そのために、まずは、必要なライブラリを読み込んで準備します。\n",
    "%matplotlib inline\n",
    "# 量子回路図を描画するための準備\n",
    "get_ipython().run_line_magic('matplotlib', 'inline')\n",
    "import matplotlib.pyplot as plt\n",
    "from sympy.physics.quantum.circuitplot import *"
   ]
  },
  {
   "cell_type": "markdown",
   "metadata": {},
   "source": [
    "CNOTゲートを描いてみましょう。"
   ]
  },
  {
   "cell_type": "code",
   "execution_count": 28,
   "metadata": {},
   "outputs": [
    {
     "data": {
      "text/plain": [
       "<sympy.physics.quantum.circuitplot.CircuitPlot at 0x11be320b8>"
      ]
     },
     "execution_count": 28,
     "metadata": {},
     "output_type": "execute_result"
    },
    {
     "data": {
      "image/png": "[encoded data removed]",
      "text/plain": [
       "<Figure size 144x144 with 1 Axes>"
      ]
     },
     "metadata": {},
     "output_type": "display_data"
    }
   ],
   "source": [
    "CircuitPlot(CNOT(1,0), 2, labels=labeller(2,'\\phi')[::-1])  # labellerでつくられる添え字の上下が逆になります"
   ]
  },
  {
   "cell_type": "markdown",
   "metadata": {},
   "source": [
    "†（ダガー）付きのゲート演算子など、ゲートの自作もできます。"
   ]
  },
  {
   "cell_type": "code",
   "execution_count": 29,
   "metadata": {},
   "outputs": [
    {
     "data": {
      "text/plain": [
       "<sympy.physics.quantum.circuitplot.CircuitPlot at 0x11fc4eb38>"
      ]
     },
     "execution_count": 29,
     "metadata": {},
     "output_type": "execute_result"
    },
    {
     "data": {
      "image/png": "[encoded data removed]",
      "text/plain": [
       "<Figure size 144x72 with 1 Axes>"
      ]
     },
     "metadata": {},
     "output_type": "display_data"
    }
   ],
   "source": [
    "CircuitPlot(Sdg(0)*Tdg(0),nqubits=1)"
   ]
  },
  {
   "cell_type": "markdown",
   "metadata": {},
   "source": [
    "ある回路を描いてみましょう。  \n",
    "テンソル積は、右から順番に量子ビットに作用します。一方、ゲート回路図は左から順番になります。操作の順番に注意してください。"
   ]
  },
  {
   "cell_type": "code",
   "execution_count": 30,
   "metadata": {},
   "outputs": [
    {
     "data": {
      "text/plain": [
       "<sympy.physics.quantum.circuitplot.CircuitPlot at 0x1204e1400>"
      ]
     },
     "execution_count": 30,
     "metadata": {},
     "output_type": "execute_result"
    },
    {
     "data": {
      "image/png": "[encoded data removed]",
      "text/plain": [
       "<Figure size 144x144 with 1 Axes>"
      ]
     },
     "metadata": {},
     "output_type": "display_data"
    }
   ],
   "source": [
    "ops = CNOT(1,0)*S(1)\n",
    "CircuitPlot(ops, 2, labels=labeller(2)[::-1])  # 操作の順番に注意してください。"
   ]
  },
  {
   "cell_type": "code",
   "execution_count": 31,
   "metadata": {},
   "outputs": [
    {
     "data": {
      "text/plain": [
       "<sympy.physics.quantum.circuitplot.CircuitPlot at 0x12054ef28>"
      ]
     },
     "execution_count": 31,
     "metadata": {},
     "output_type": "execute_result"
    },
    {
     "data": {
      "image/png": "[encoded data removed]",
      "text/plain": [
       "<Figure size 360x144 with 1 Axes>"
      ]
     },
     "metadata": {},
     "output_type": "display_data"
    }
   ],
   "source": [
    "ops = S(1)*H(0)*CNOT(1,0)*S(1)*H(1)\n",
    "CircuitPlot(ops, 2, labels=labeller(2)[::-1])  "
   ]
  },
  {
   "cell_type": "markdown",
   "metadata": {},
   "source": [
    "（参考）Z基底での測定を描くときは、Mz を使って表現します。"
   ]
  },
  {
   "cell_type": "code",
   "execution_count": 32,
   "metadata": {},
   "outputs": [
    {
     "data": {
      "text/plain": [
       "<sympy.physics.quantum.circuitplot.CircuitPlot at 0x1205cc470>"
      ]
     },
     "execution_count": 32,
     "metadata": {},
     "output_type": "execute_result"
    },
    {
     "data": {
      "image/png": "[encoded data removed]",
      "text/plain": [
       "<Figure size 504x144 with 1 Axes>"
      ]
     },
     "metadata": {},
     "output_type": "display_data"
    }
   ],
   "source": [
    "ops = Mz(0)*Mz(1)*S(1)*H(0)*CNOT(1,0)*S(1)*H(1)\n",
    "CircuitPlot(ops, 2, labels=labeller(2)[::-1])  "
   ]
  },
  {
   "cell_type": "markdown",
   "metadata": {},
   "source": [
    "### 3. ユニタリ行列を量子ビットに作用する\n",
    "ここまでのユニタリ行列の準備では、実際の行列計算は行われておりません。  \n",
    "SymPy の特徴である「変数を変数のまま」扱ってきました。変数は単なる記号でしかありませんでした。\n",
    "\n",
    "実際に変数を計算するのは、 qapply() という関数で行います。計算したい記述を qapply 関数の引数に指定して計算します。"
   ]
  },
  {
   "cell_type": "markdown",
   "metadata": {},
   "source": [
    "直前で回路図を描いた計算をしてみましょう。"
   ]
  },
  {
   "cell_type": "code",
   "execution_count": 33,
   "metadata": {},
   "outputs": [
    {
     "data": {
      "image/png": "[encoded data removed]",
      "text/latex": [
       "$$\\frac{{\\left|00\\right\\rangle }}{2} + \\frac{{\\left|01\\right\\rangle }}{2} - \\frac{{\\left|10\\right\\rangle }}{2} + \\frac{{\\left|11\\right\\rangle }}{2}$$"
      ],
      "text/plain": [
       "❘00⟩   ❘01⟩   ❘10⟩   ❘11⟩\n",
       "──── + ──── - ──── + ────\n",
       " 2      2      2      2  "
      ]
     },
     "execution_count": 33,
     "metadata": {},
     "output_type": "execute_result"
    }
   ],
   "source": [
    "ops = S(1)*H(0)*CNOT(1,0)*S(1)*H(1)\n",
    "qapply(ops*Qubit('00'))"
   ]
  },
  {
   "cell_type": "markdown",
   "metadata": {},
   "source": [
    "次の例は、４量子ビットの重ね合わせ状態を作ります。（計算して作成します）"
   ]
  },
  {
   "cell_type": "code",
   "execution_count": 34,
   "metadata": {},
   "outputs": [
    {
     "data": {
      "image/png": "[encoded data removed]",
      "text/latex": [
       "$$\\frac{{\\left|0000\\right\\rangle }}{4} + \\frac{{\\left|0001\\right\\rangle }}{4} + \\frac{{\\left|0010\\right\\rangle }}{4} + \\frac{{\\left|0011\\right\\rangle }}{4} + \\frac{{\\left|0100\\right\\rangle }}{4} + \\frac{{\\left|0101\\right\\rangle }}{4} + \\frac{{\\left|0110\\right\\rangle }}{4} + \\frac{{\\left|0111\\right\\rangle }}{4} + \\frac{{\\left|1000\\right\\rangle }}{4} + \\frac{{\\left|1001\\right\\rangle }}{4} + \\frac{{\\left|1010\\right\\rangle }}{4} + \\frac{{\\left|1011\\right\\rangle }}{4} + \\frac{{\\left|1100\\right\\rangle }}{4} + \\frac{{\\left|1101\\right\\rangle }}{4} + \\frac{{\\left|1110\\right\\rangle }}{4} + \\frac{{\\left|1111\\right\\rangle }}{4}$$"
      ],
      "text/plain": [
       "❘0000⟩   ❘0001⟩   ❘0010⟩   ❘0011⟩   ❘0100⟩   ❘0101⟩   ❘0110⟩   ❘0111⟩   ❘1000⟩\n",
       "────── + ────── + ────── + ────── + ────── + ────── + ────── + ────── + ──────\n",
       "  4        4        4        4        4        4        4        4        4   \n",
       "\n",
       "   ❘1001⟩   ❘1010⟩   ❘1011⟩   ❘1100⟩   ❘1101⟩   ❘1110⟩   ❘1111⟩\n",
       " + ────── + ────── + ────── + ────── + ────── + ────── + ──────\n",
       "     4        4        4        4        4        4        4   "
      ]
     },
     "execution_count": 34,
     "metadata": {},
     "output_type": "execute_result"
    }
   ],
   "source": [
    "h_4 = hadamard(0,4)\n",
    "hadamard_4=qapply(h_4*Qubit('0000'))\n",
    "hadamard_4"
   ]
  },
  {
   "cell_type": "markdown",
   "metadata": {},
   "source": [
    "### 4. 測定する\n",
    "\n",
    "ここまでの量子計算（qapply）では、量子状態のまま計算されます。  \n",
    "シミュレーション上の理論的な計算では、qapplyまで行えば、目的が達成することが多いです。  \n",
    "\n",
    "\n",
    "SymPy には、観測のためのメソッドも備わっています。  \n",
    "measure_all()では、引数で渡された量子ビットのすべての状態の測定確率を計算で求めて出力します。  \n",
    "\n",
    "そのほかにも幾つか観測のためのメソッドが提供されます。例えば、measure_partial()は、第一引数で指定された量子ビットに対して、第二引数で指定された部分的な振幅の測定を実行します。"
   ]
  },
  {
   "cell_type": "code",
   "execution_count": 35,
   "metadata": {},
   "outputs": [
    {
     "data": {
      "image/png": "[encoded data removed]",
      "text/latex": [
       "$$\\left [ \\left ( {\\left|0000\\right\\rangle }, \\quad \\frac{1}{16}\\right ), \\quad \\left ( {\\left|0001\\right\\rangle }, \\quad \\frac{1}{16}\\right ), \\quad \\left ( {\\left|0010\\right\\rangle }, \\quad \\frac{1}{16}\\right ), \\quad \\left ( {\\left|0011\\right\\rangle }, \\quad \\frac{1}{16}\\right ), \\quad \\left ( {\\left|0100\\right\\rangle }, \\quad \\frac{1}{16}\\right ), \\quad \\left ( {\\left|0101\\right\\rangle }, \\quad \\frac{1}{16}\\right ), \\quad \\left ( {\\left|0110\\right\\rangle }, \\quad \\frac{1}{16}\\right ), \\quad \\left ( {\\left|0111\\right\\rangle }, \\quad \\frac{1}{16}\\right ), \\quad \\left ( {\\left|1000\\right\\rangle }, \\quad \\frac{1}{16}\\right ), \\quad \\left ( {\\left|1001\\right\\rangle }, \\quad \\frac{1}{16}\\right ), \\quad \\left ( {\\left|1010\\right\\rangle }, \\quad \\frac{1}{16}\\right ), \\quad \\left ( {\\left|1011\\right\\rangle }, \\quad \\frac{1}{16}\\right ), \\quad \\left ( {\\left|1100\\right\\rangle }, \\quad \\frac{1}{16}\\right ), \\quad \\left ( {\\left|1101\\right\\rangle }, \\quad \\frac{1}{16}\\right ), \\quad \\left ( {\\left|1110\\right\\rangle }, \\quad \\frac{1}{16}\\right ), \\quad \\left ( {\\left|1111\\right\\rangle }, \\quad \\frac{1}{16}\\right )\\right ]$$"
      ],
      "text/plain": [
       "[(❘0000⟩, 1/16), (❘0001⟩, 1/16), (❘0010⟩, 1/16), (❘0011⟩, 1/16), (❘0100⟩, 1/16\n",
       "), (❘0101⟩, 1/16), (❘0110⟩, 1/16), (❘0111⟩, 1/16), (❘1000⟩, 1/16), (❘1001⟩, 1/\n",
       "16), (❘1010⟩, 1/16), (❘1011⟩, 1/16), (❘1100⟩, 1/16), (❘1101⟩, 1/16), (❘1110⟩, \n",
       "1/16), (❘1111⟩, 1/16)]"
      ]
     },
     "execution_count": 35,
     "metadata": {},
     "output_type": "execute_result"
    }
   ],
   "source": [
    "measure_all(hadamard_4)"
   ]
  },
  {
   "cell_type": "code",
   "execution_count": 36,
   "metadata": {},
   "outputs": [
    {
     "name": "stdout",
     "output_type": "stream",
     "text": [
      "❘0100⟩\n",
      "❘1011⟩\n",
      "❘0111⟩\n",
      "❘1010⟩\n",
      "❘0101⟩\n",
      "❘1101⟩\n",
      "❘1001⟩\n",
      "❘0011⟩\n"
     ]
    }
   ],
   "source": [
    "for i in range(8):\n",
    "    pprint(measure_all_oneshot(hadamard_4))"
   ]
  },
  {
   "cell_type": "markdown",
   "metadata": {},
   "source": [
    "## （例題１）Toffoli（CCX）, CCCX, CCCCX ..."
   ]
  },
  {
   "cell_type": "code",
   "execution_count": 37,
   "metadata": {},
   "outputs": [
    {
     "data": {
      "text/plain": [
       "<sympy.physics.quantum.circuitplot.CircuitPlot at 0x12062ca58>"
      ]
     },
     "execution_count": 37,
     "metadata": {},
     "output_type": "execute_result"
    },
    {
     "data": {
      "image/png": "[encoded data removed]",
      "text/plain": [
       "<Figure size 144x216 with 1 Axes>"
      ]
     },
     "metadata": {},
     "output_type": "display_data"
    }
   ],
   "source": [
    "def CCX(c1,c2,t):  return CGateS((c1,c2),X(t))\n",
    "def Toffoli(c1,c2,t):  return CGateS((c1,c2),X(t))\n",
    "CircuitPlot(CCX(1,2,0),3,labels=labeller(3)[::-1])"
   ]
  },
  {
   "cell_type": "code",
   "execution_count": 38,
   "metadata": {},
   "outputs": [
    {
     "data": {
      "image/png": "[encoded data removed]",
      "text/latex": [
       "$$\\left[\\begin{matrix}1 & 0 & 0 & 0 & 0 & 0 & 0 & 0\\\\0 & 1 & 0 & 0 & 0 & 0 & 0 & 0\\\\0 & 0 & 1 & 0 & 0 & 0 & 0 & 0\\\\0 & 0 & 0 & 1 & 0 & 0 & 0 & 0\\\\0 & 0 & 0 & 0 & 1 & 0 & 0 & 0\\\\0 & 0 & 0 & 0 & 0 & 1 & 0 & 0\\\\0 & 0 & 0 & 0 & 0 & 0 & 0 & 1\\\\0 & 0 & 0 & 0 & 0 & 0 & 1 & 0\\end{matrix}\\right]$$"
      ],
      "text/plain": [
       "⎡1  0  0  0  0  0  0  0⎤\n",
       "⎢                      ⎥\n",
       "⎢0  1  0  0  0  0  0  0⎥\n",
       "⎢                      ⎥\n",
       "⎢0  0  1  0  0  0  0  0⎥\n",
       "⎢                      ⎥\n",
       "⎢0  0  0  1  0  0  0  0⎥\n",
       "⎢                      ⎥\n",
       "⎢0  0  0  0  1  0  0  0⎥\n",
       "⎢                      ⎥\n",
       "⎢0  0  0  0  0  1  0  0⎥\n",
       "⎢                      ⎥\n",
       "⎢0  0  0  0  0  0  0  1⎥\n",
       "⎢                      ⎥\n",
       "⎣0  0  0  0  0  0  1  0⎦"
      ]
     },
     "execution_count": 38,
     "metadata": {},
     "output_type": "execute_result"
    }
   ],
   "source": [
    "represent(CCX(1,2,0),nqubits=3)"
   ]
  },
  {
   "cell_type": "code",
   "execution_count": 39,
   "metadata": {},
   "outputs": [
    {
     "data": {
      "text/plain": [
       "<sympy.physics.quantum.circuitplot.CircuitPlot at 0x1206b4fd0>"
      ]
     },
     "execution_count": 39,
     "metadata": {},
     "output_type": "execute_result"
    },
    {
     "data": {
      "image/png": "[encoded data removed]",
      "text/plain": [
       "<Figure size 144x288 with 1 Axes>"
      ]
     },
     "metadata": {},
     "output_type": "display_data"
    }
   ],
   "source": [
    "def CCCX(c1,c2,c3,t): return CGateS((c1,c2,c3),X(t))\n",
    "CircuitPlot(CCCX(1,2,3,0),4,labels=labeller(4)[::-1])"
   ]
  },
  {
   "cell_type": "code",
   "execution_count": 40,
   "metadata": {},
   "outputs": [
    {
     "data": {
      "text/plain": [
       "<sympy.physics.quantum.circuitplot.CircuitPlot at 0x120c0ddd8>"
      ]
     },
     "execution_count": 40,
     "metadata": {},
     "output_type": "execute_result"
    },
    {
     "data": {
      "image/png": "[encoded data removed]",
      "text/plain": [
       "<Figure size 144x360 with 1 Axes>"
      ]
     },
     "metadata": {},
     "output_type": "display_data"
    }
   ],
   "source": [
    "def CCCCX(c1,c2,c3,c4,t): return CGateS((c1,c2,c3,c4),X(t))\n",
    "CircuitPlot(CCCCX(1,2,3,4,0),5,labels=labeller(5)[::-1])"
   ]
  },
  {
   "cell_type": "markdown",
   "metadata": {},
   "source": [
    "## （例題２）重ね合わせ状態の中の、ある状態のみマーキングする\n",
    "\n",
    "重ね合わせ状態の中の、ある状態 $ s_t $ のみに、−１掛ける操作（ここでは、マーキングを呼びます）を考えます。  \n",
    "  \n",
    "たとえば、２量子ビットの重ね合わせ状態 $\\displaystyle \\frac{1}{2} \\left(\\ |\\ 00\\ \\rangle\\ +\\ |\\ 01\\ \\rangle\\ +\\ |\\ 10\\ \\rangle\\ +\\ |\\ 11\\ \\rangle\\ \\right) $ を考えるとき、  \n",
    "状態 $\\;|\\ 10\\ \\rangle\\;$ をマーキングするとします。   \n",
    "  \n",
    "マーキング後の状態は、$\\displaystyle  \\frac{1}{2} \\left(\\ |\\ 00\\ \\rangle\\ +\\ |\\ 01\\ \\rangle\\ -\\ |\\ 10\\ \\rangle\\ +\\ |\\ 11\\ \\rangle\\ \\right) $ となることを目指します。"
   ]
  },
  {
   "cell_type": "markdown",
   "metadata": {},
   "source": [
    "### ３量子ビットのマーキング操作を試してみましょう"
   ]
  },
  {
   "cell_type": "code",
   "execution_count": 41,
   "metadata": {},
   "outputs": [],
   "source": [
    "h_3 = hadamard(0,3)\n",
    "target_state_3 = qapply(h_3*Qubit('000'))          #３量子ビットの重ね合わせ状態を準備します。\n",
    "def CCZ(c1,c2,t): return (H(t)*CCX(c1,c2,t)*H(t)) # ＣＣＺ演算子を定義します。"
   ]
  },
  {
   "cell_type": "code",
   "execution_count": 42,
   "metadata": {},
   "outputs": [
    {
     "data": {
      "image/png": "[encoded data removed]",
      "text/latex": [
       "$$\\frac{\\sqrt{2} {\\left|000\\right\\rangle }}{4} + \\frac{\\sqrt{2} {\\left|001\\right\\rangle }}{4} + \\frac{\\sqrt{2} {\\left|010\\right\\rangle }}{4} + \\frac{\\sqrt{2} {\\left|011\\right\\rangle }}{4} + \\frac{\\sqrt{2} {\\left|100\\right\\rangle }}{4} + \\frac{\\sqrt{2} {\\left|101\\right\\rangle }}{4} + \\frac{\\sqrt{2} {\\left|110\\right\\rangle }}{4} - \\frac{\\sqrt{2} {\\left|111\\right\\rangle }}{4}$$"
      ],
      "text/plain": [
       "√2⋅❘000⟩   √2⋅❘001⟩   √2⋅❘010⟩   √2⋅❘011⟩   √2⋅❘100⟩   √2⋅❘101⟩   √2⋅❘110⟩   √\n",
       "──────── + ──────── + ──────── + ──────── + ──────── + ──────── + ──────── - ─\n",
       "   4          4          4          4          4          4          4        \n",
       "\n",
       "2⋅❘111⟩\n",
       "───────\n",
       "  4    "
      ]
     },
     "execution_count": 42,
     "metadata": {},
     "output_type": "execute_result"
    }
   ],
   "source": [
    "mark_7 = CCZ(1,2,0)\n",
    "qapply(mark_7*target_state_3)"
   ]
  },
  {
   "cell_type": "code",
   "execution_count": 43,
   "metadata": {},
   "outputs": [
    {
     "data": {
      "image/png": "[encoded data removed]",
      "text/latex": [
       "$$\\frac{\\sqrt{2} {\\left|000\\right\\rangle }}{4} + \\frac{\\sqrt{2} {\\left|001\\right\\rangle }}{4} + \\frac{\\sqrt{2} {\\left|010\\right\\rangle }}{4} + \\frac{\\sqrt{2} {\\left|011\\right\\rangle }}{4} + \\frac{\\sqrt{2} {\\left|100\\right\\rangle }}{4} + \\frac{\\sqrt{2} {\\left|101\\right\\rangle }}{4} - \\frac{\\sqrt{2} {\\left|110\\right\\rangle }}{4} + \\frac{\\sqrt{2} {\\left|111\\right\\rangle }}{4}$$"
      ],
      "text/plain": [
       "√2⋅❘000⟩   √2⋅❘001⟩   √2⋅❘010⟩   √2⋅❘011⟩   √2⋅❘100⟩   √2⋅❘101⟩   √2⋅❘110⟩   √\n",
       "──────── + ──────── + ──────── + ──────── + ──────── + ──────── - ──────── + ─\n",
       "   4          4          4          4          4          4          4        \n",
       "\n",
       "2⋅❘111⟩\n",
       "───────\n",
       "  4    "
      ]
     },
     "execution_count": 43,
     "metadata": {},
     "output_type": "execute_result"
    }
   ],
   "source": [
    "mark_6 = X(0)*CCZ(1,2,0)*X(0)\n",
    "qapply(mark_6*target_state_3)"
   ]
  },
  {
   "cell_type": "code",
   "execution_count": 44,
   "metadata": {},
   "outputs": [
    {
     "data": {
      "image/png": "[encoded data removed]",
      "text/latex": [
       "$$\\frac{\\sqrt{2} {\\left|000\\right\\rangle }}{4} + \\frac{\\sqrt{2} {\\left|001\\right\\rangle }}{4} + \\frac{\\sqrt{2} {\\left|010\\right\\rangle }}{4} + \\frac{\\sqrt{2} {\\left|011\\right\\rangle }}{4} + \\frac{\\sqrt{2} {\\left|100\\right\\rangle }}{4} - \\frac{\\sqrt{2} {\\left|101\\right\\rangle }}{4} + \\frac{\\sqrt{2} {\\left|110\\right\\rangle }}{4} + \\frac{\\sqrt{2} {\\left|111\\right\\rangle }}{4}$$"
      ],
      "text/plain": [
       "√2⋅❘000⟩   √2⋅❘001⟩   √2⋅❘010⟩   √2⋅❘011⟩   √2⋅❘100⟩   √2⋅❘101⟩   √2⋅❘110⟩   √\n",
       "──────── + ──────── + ──────── + ──────── + ──────── - ──────── + ──────── + ─\n",
       "   4          4          4          4          4          4          4        \n",
       "\n",
       "2⋅❘111⟩\n",
       "───────\n",
       "  4    "
      ]
     },
     "execution_count": 44,
     "metadata": {},
     "output_type": "execute_result"
    }
   ],
   "source": [
    "mark_5 = X(1)*CCZ(1,2,0)*X(1)\n",
    "qapply(mark_5*target_state_3)"
   ]
  },
  {
   "cell_type": "code",
   "execution_count": 45,
   "metadata": {},
   "outputs": [
    {
     "data": {
      "image/png": "[encoded data removed]",
      "text/latex": [
       "$$\\frac{\\sqrt{2} {\\left|000\\right\\rangle }}{4} + \\frac{\\sqrt{2} {\\left|001\\right\\rangle }}{4} + \\frac{\\sqrt{2} {\\left|010\\right\\rangle }}{4} + \\frac{\\sqrt{2} {\\left|011\\right\\rangle }}{4} - \\frac{\\sqrt{2} {\\left|100\\right\\rangle }}{4} + \\frac{\\sqrt{2} {\\left|101\\right\\rangle }}{4} + \\frac{\\sqrt{2} {\\left|110\\right\\rangle }}{4} + \\frac{\\sqrt{2} {\\left|111\\right\\rangle }}{4}$$"
      ],
      "text/plain": [
       "√2⋅❘000⟩   √2⋅❘001⟩   √2⋅❘010⟩   √2⋅❘011⟩   √2⋅❘100⟩   √2⋅❘101⟩   √2⋅❘110⟩   √\n",
       "──────── + ──────── + ──────── + ──────── - ──────── + ──────── + ──────── + ─\n",
       "   4          4          4          4          4          4          4        \n",
       "\n",
       "2⋅❘111⟩\n",
       "───────\n",
       "  4    "
      ]
     },
     "execution_count": 45,
     "metadata": {},
     "output_type": "execute_result"
    }
   ],
   "source": [
    "mark_4 = X(1)*X(0)*CCZ(1,2,0)*X(1)*X(0)\n",
    "qapply(mark_4*target_state_3)"
   ]
  },
  {
   "cell_type": "code",
   "execution_count": 46,
   "metadata": {},
   "outputs": [
    {
     "data": {
      "image/png": "[encoded data removed]",
      "text/latex": [
       "$$\\frac{\\sqrt{2} {\\left|000\\right\\rangle }}{4} + \\frac{\\sqrt{2} {\\left|001\\right\\rangle }}{4} + \\frac{\\sqrt{2} {\\left|010\\right\\rangle }}{4} - \\frac{\\sqrt{2} {\\left|011\\right\\rangle }}{4} + \\frac{\\sqrt{2} {\\left|100\\right\\rangle }}{4} + \\frac{\\sqrt{2} {\\left|101\\right\\rangle }}{4} + \\frac{\\sqrt{2} {\\left|110\\right\\rangle }}{4} + \\frac{\\sqrt{2} {\\left|111\\right\\rangle }}{4}$$"
      ],
      "text/plain": [
       "√2⋅❘000⟩   √2⋅❘001⟩   √2⋅❘010⟩   √2⋅❘011⟩   √2⋅❘100⟩   √2⋅❘101⟩   √2⋅❘110⟩   √\n",
       "──────── + ──────── + ──────── - ──────── + ──────── + ──────── + ──────── + ─\n",
       "   4          4          4          4          4          4          4        \n",
       "\n",
       "2⋅❘111⟩\n",
       "───────\n",
       "  4    "
      ]
     },
     "execution_count": 46,
     "metadata": {},
     "output_type": "execute_result"
    }
   ],
   "source": [
    "mark_3 = X(2)*CCZ(1,2,0)*X(2)\n",
    "qapply(mark_3*target_state_3)"
   ]
  },
  {
   "cell_type": "code",
   "execution_count": 47,
   "metadata": {},
   "outputs": [
    {
     "data": {
      "image/png": "[encoded data removed]",
      "text/latex": [
       "$$\\frac{\\sqrt{2} {\\left|000\\right\\rangle }}{4} + \\frac{\\sqrt{2} {\\left|001\\right\\rangle }}{4} - \\frac{\\sqrt{2} {\\left|010\\right\\rangle }}{4} + \\frac{\\sqrt{2} {\\left|011\\right\\rangle }}{4} + \\frac{\\sqrt{2} {\\left|100\\right\\rangle }}{4} + \\frac{\\sqrt{2} {\\left|101\\right\\rangle }}{4} + \\frac{\\sqrt{2} {\\left|110\\right\\rangle }}{4} + \\frac{\\sqrt{2} {\\left|111\\right\\rangle }}{4}$$"
      ],
      "text/plain": [
       "√2⋅❘000⟩   √2⋅❘001⟩   √2⋅❘010⟩   √2⋅❘011⟩   √2⋅❘100⟩   √2⋅❘101⟩   √2⋅❘110⟩   √\n",
       "──────── + ──────── - ──────── + ──────── + ──────── + ──────── + ──────── + ─\n",
       "   4          4          4          4          4          4          4        \n",
       "\n",
       "2⋅❘111⟩\n",
       "───────\n",
       "  4    "
      ]
     },
     "execution_count": 47,
     "metadata": {},
     "output_type": "execute_result"
    }
   ],
   "source": [
    "mark_2 = X(2)*X(0)*CCZ(1,2,0)*X(2)*X(0)\n",
    "qapply(mark_2*target_state_3)"
   ]
  },
  {
   "cell_type": "code",
   "execution_count": 48,
   "metadata": {},
   "outputs": [
    {
     "data": {
      "image/png": "[encoded data removed]",
      "text/latex": [
       "$$\\frac{\\sqrt{2} {\\left|000\\right\\rangle }}{4} - \\frac{\\sqrt{2} {\\left|001\\right\\rangle }}{4} + \\frac{\\sqrt{2} {\\left|010\\right\\rangle }}{4} + \\frac{\\sqrt{2} {\\left|011\\right\\rangle }}{4} + \\frac{\\sqrt{2} {\\left|100\\right\\rangle }}{4} + \\frac{\\sqrt{2} {\\left|101\\right\\rangle }}{4} + \\frac{\\sqrt{2} {\\left|110\\right\\rangle }}{4} + \\frac{\\sqrt{2} {\\left|111\\right\\rangle }}{4}$$"
      ],
      "text/plain": [
       "√2⋅❘000⟩   √2⋅❘001⟩   √2⋅❘010⟩   √2⋅❘011⟩   √2⋅❘100⟩   √2⋅❘101⟩   √2⋅❘110⟩   √\n",
       "──────── - ──────── + ──────── + ──────── + ──────── + ──────── + ──────── + ─\n",
       "   4          4          4          4          4          4          4        \n",
       "\n",
       "2⋅❘111⟩\n",
       "───────\n",
       "  4    "
      ]
     },
     "execution_count": 48,
     "metadata": {},
     "output_type": "execute_result"
    }
   ],
   "source": [
    "mark_1 = X(2)*X(1)*CCZ(1,2,0)*X(2)*X(1)\n",
    "qapply(mark_1*target_state_3)"
   ]
  },
  {
   "cell_type": "code",
   "execution_count": 49,
   "metadata": {},
   "outputs": [
    {
     "data": {
      "image/png": "[encoded data removed]",
      "text/latex": [
       "$$- \\frac{\\sqrt{2} {\\left|000\\right\\rangle }}{4} + \\frac{\\sqrt{2} {\\left|001\\right\\rangle }}{4} + \\frac{\\sqrt{2} {\\left|010\\right\\rangle }}{4} + \\frac{\\sqrt{2} {\\left|011\\right\\rangle }}{4} + \\frac{\\sqrt{2} {\\left|100\\right\\rangle }}{4} + \\frac{\\sqrt{2} {\\left|101\\right\\rangle }}{4} + \\frac{\\sqrt{2} {\\left|110\\right\\rangle }}{4} + \\frac{\\sqrt{2} {\\left|111\\right\\rangle }}{4}$$"
      ],
      "text/plain": [
       "  √2⋅❘000⟩   √2⋅❘001⟩   √2⋅❘010⟩   √2⋅❘011⟩   √2⋅❘100⟩   √2⋅❘101⟩   √2⋅❘110⟩  \n",
       "- ──────── + ──────── + ──────── + ──────── + ──────── + ──────── + ──────── +\n",
       "     4          4          4          4          4          4          4      \n",
       "\n",
       " √2⋅❘111⟩\n",
       " ────────\n",
       "    4    "
      ]
     },
     "execution_count": 49,
     "metadata": {},
     "output_type": "execute_result"
    }
   ],
   "source": [
    "mark_0 = X(2)*X(1)*X(0)*CCZ(1,2,0)*X(2)*X(1)*X(0)\n",
    "qapply(mark_0*h_3*Qubit('000'))"
   ]
  },
  {
   "cell_type": "markdown",
   "metadata": {},
   "source": [
    "## （例題３）重ね合わせ状態の中に、マーキングした状態があるかを見る\n",
    "  \n",
    "著名な操作「Grover のアルゴリズム」を試してみましょう。  \n",
    "\n",
    "（ヒント１）平均値周りの反転操作：$\\displaystyle D_{n} = H_{n} \\cdot \\Big( 2\\ |\\ 0\\ \\rangle\\langle\\ 0\\ |_{n}\\ -\\ I_{n} \\Big) \\cdot H_{n} $ を使います。  \n",
    "  \n",
    "（ヒント２）試行回数は、$\\displaystyle \\mathcal{O}(\\sqrt{n}) $ \n"
   ]
  },
  {
   "cell_type": "code",
   "execution_count": 50,
   "metadata": {},
   "outputs": [
    {
     "data": {
      "image/png": "[encoded data removed]",
      "text/latex": [
       "$$\\left[\\begin{matrix}- \\frac{3}{4} & \\frac{1}{4} & \\frac{1}{4} & \\frac{1}{4} & \\frac{1}{4} & \\frac{1}{4} & \\frac{1}{4} & \\frac{1}{4}\\\\\\frac{1}{4} & - \\frac{3}{4} & \\frac{1}{4} & \\frac{1}{4} & \\frac{1}{4} & \\frac{1}{4} & \\frac{1}{4} & \\frac{1}{4}\\\\\\frac{1}{4} & \\frac{1}{4} & - \\frac{3}{4} & \\frac{1}{4} & \\frac{1}{4} & \\frac{1}{4} & \\frac{1}{4} & \\frac{1}{4}\\\\\\frac{1}{4} & \\frac{1}{4} & \\frac{1}{4} & - \\frac{3}{4} & \\frac{1}{4} & \\frac{1}{4} & \\frac{1}{4} & \\frac{1}{4}\\\\\\frac{1}{4} & \\frac{1}{4} & \\frac{1}{4} & \\frac{1}{4} & - \\frac{3}{4} & \\frac{1}{4} & \\frac{1}{4} & \\frac{1}{4}\\\\\\frac{1}{4} & \\frac{1}{4} & \\frac{1}{4} & \\frac{1}{4} & \\frac{1}{4} & - \\frac{3}{4} & \\frac{1}{4} & \\frac{1}{4}\\\\\\frac{1}{4} & \\frac{1}{4} & \\frac{1}{4} & \\frac{1}{4} & \\frac{1}{4} & \\frac{1}{4} & - \\frac{3}{4} & \\frac{1}{4}\\\\\\frac{1}{4} & \\frac{1}{4} & \\frac{1}{4} & \\frac{1}{4} & \\frac{1}{4} & \\frac{1}{4} & \\frac{1}{4} & - \\frac{3}{4}\\end{matrix}\\right]$$"
      ],
      "text/plain": [
       "⎡-3/4  1/4   1/4   1/4   1/4   1/4   1/4   1/4 ⎤\n",
       "⎢                                              ⎥\n",
       "⎢1/4   -3/4  1/4   1/4   1/4   1/4   1/4   1/4 ⎥\n",
       "⎢                                              ⎥\n",
       "⎢1/4   1/4   -3/4  1/4   1/4   1/4   1/4   1/4 ⎥\n",
       "⎢                                              ⎥\n",
       "⎢1/4   1/4   1/4   -3/4  1/4   1/4   1/4   1/4 ⎥\n",
       "⎢                                              ⎥\n",
       "⎢1/4   1/4   1/4   1/4   -3/4  1/4   1/4   1/4 ⎥\n",
       "⎢                                              ⎥\n",
       "⎢1/4   1/4   1/4   1/4   1/4   -3/4  1/4   1/4 ⎥\n",
       "⎢                                              ⎥\n",
       "⎢1/4   1/4   1/4   1/4   1/4   1/4   -3/4  1/4 ⎥\n",
       "⎢                                              ⎥\n",
       "⎣1/4   1/4   1/4   1/4   1/4   1/4   1/4   -3/4⎦"
      ]
     },
     "execution_count": 50,
     "metadata": {},
     "output_type": "execute_result"
    }
   ],
   "source": [
    "# d_3 = h_3 * X(0)*X(1)*X(2) * H(0)*CCX(1,2,0)*H(0) * X(0)*X(1)*X(2) * h_3    # グローバル位相（絶対位相）の差に注意\n",
    "# d_3 = h_3 * X(0)*X(1)*X(2) * CGateS((1,2), Z(0)) * X(0)*X(1)*X(2) * h_3\n",
    "def DOp(n): return (Qubit('0'*n)*QubitBra('0'*n)*2-_I(0))     # ゲート操作で計算するには、上記コメントのような演算になります。\n",
    "d_3 = h_3 * DOp(3) * h_3    # 平均値周りの反転操作\n",
    "represent(d_3,nqubits=3)"
   ]
  },
  {
   "cell_type": "markdown",
   "metadata": {},
   "source": [
    "### ３量子ビットで状態｜７＞を探す"
   ]
  },
  {
   "cell_type": "code",
   "execution_count": 51,
   "metadata": {},
   "outputs": [
    {
     "data": {
      "image/png": "[encoded data removed]",
      "text/latex": [
       "$$\\left [ \\left ( {\\left|000\\right\\rangle }, \\quad \\frac{1}{32}\\right ), \\quad \\left ( {\\left|001\\right\\rangle }, \\quad \\frac{1}{32}\\right ), \\quad \\left ( {\\left|010\\right\\rangle }, \\quad \\frac{1}{32}\\right ), \\quad \\left ( {\\left|011\\right\\rangle }, \\quad \\frac{1}{32}\\right ), \\quad \\left ( {\\left|100\\right\\rangle }, \\quad \\frac{1}{32}\\right ), \\quad \\left ( {\\left|101\\right\\rangle }, \\quad \\frac{1}{32}\\right ), \\quad \\left ( {\\left|110\\right\\rangle }, \\quad \\frac{1}{32}\\right ), \\quad \\left ( {\\left|111\\right\\rangle }, \\quad \\frac{25}{32}\\right )\\right ]$$"
      ],
      "text/plain": [
       "⎡                                                                             \n",
       "⎢(❘000⟩, 1/32), (❘001⟩, 1/32), (❘010⟩, 1/32), (❘011⟩, 1/32), (❘100⟩, 1/32), (❘\n",
       "⎣                                                                             \n",
       "\n",
       "                            ⎛       25⎞⎤\n",
       "101⟩, 1/32), (❘110⟩, 1/32), ⎜❘111⟩, ──⎟⎥\n",
       "                            ⎝       32⎠⎦"
      ]
     },
     "execution_count": 51,
     "metadata": {},
     "output_type": "execute_result"
    }
   ],
   "source": [
    "ret1=qapply(d_3*mark_7*target_state_3)\n",
    "measure_all(ret1)"
   ]
  },
  {
   "cell_type": "code",
   "execution_count": 52,
   "metadata": {},
   "outputs": [
    {
     "data": {
      "image/png": "[encoded data removed]",
      "text/latex": [
       "$$\\left [ \\left ( {\\left|000\\right\\rangle }, \\quad \\frac{1}{128}\\right ), \\quad \\left ( {\\left|001\\right\\rangle }, \\quad \\frac{1}{128}\\right ), \\quad \\left ( {\\left|010\\right\\rangle }, \\quad \\frac{1}{128}\\right ), \\quad \\left ( {\\left|011\\right\\rangle }, \\quad \\frac{1}{128}\\right ), \\quad \\left ( {\\left|100\\right\\rangle }, \\quad \\frac{1}{128}\\right ), \\quad \\left ( {\\left|101\\right\\rangle }, \\quad \\frac{1}{128}\\right ), \\quad \\left ( {\\left|110\\right\\rangle }, \\quad \\frac{1}{128}\\right ), \\quad \\left ( {\\left|111\\right\\rangle }, \\quad \\frac{121}{128}\\right )\\right ]$$"
      ],
      "text/plain": [
       "⎡                                                                             \n",
       "⎢(❘000⟩, 1/128), (❘001⟩, 1/128), (❘010⟩, 1/128), (❘011⟩, 1/128), (❘100⟩, 1/128\n",
       "⎣                                                                             \n",
       "\n",
       "                                   ⎛       121⎞⎤\n",
       "), (❘101⟩, 1/128), (❘110⟩, 1/128), ⎜❘111⟩, ───⎟⎥\n",
       "                                   ⎝       128⎠⎦"
      ]
     },
     "execution_count": 52,
     "metadata": {},
     "output_type": "execute_result"
    }
   ],
   "source": [
    "ret2=qapply(d_3*mark_7*ret1)  # シミュレーター計算ですから、上で一度観測した ret1 を使っても観測の影響なく次の計算に利用可能。\n",
    "measure_all(ret2)"
   ]
  },
  {
   "cell_type": "code",
   "execution_count": 53,
   "metadata": {},
   "outputs": [
    {
     "data": {
      "image/png": "[encoded data removed]",
      "text/latex": [
       "$$\\left [ \\left ( {\\left|000\\right\\rangle }, \\quad \\frac{49}{512}\\right ), \\quad \\left ( {\\left|001\\right\\rangle }, \\quad \\frac{49}{512}\\right ), \\quad \\left ( {\\left|010\\right\\rangle }, \\quad \\frac{49}{512}\\right ), \\quad \\left ( {\\left|011\\right\\rangle }, \\quad \\frac{49}{512}\\right ), \\quad \\left ( {\\left|100\\right\\rangle }, \\quad \\frac{49}{512}\\right ), \\quad \\left ( {\\left|101\\right\\rangle }, \\quad \\frac{49}{512}\\right ), \\quad \\left ( {\\left|110\\right\\rangle }, \\quad \\frac{49}{512}\\right ), \\quad \\left ( {\\left|111\\right\\rangle }, \\quad \\frac{169}{512}\\right )\\right ]$$"
      ],
      "text/plain": [
       "⎡⎛        49⎞  ⎛        49⎞  ⎛        49⎞  ⎛        49⎞  ⎛        49⎞  ⎛      \n",
       "⎢⎜❘000⟩, ───⎟, ⎜❘001⟩, ───⎟, ⎜❘010⟩, ───⎟, ⎜❘011⟩, ───⎟, ⎜❘100⟩, ───⎟, ⎜❘101⟩,\n",
       "⎣⎝       512⎠  ⎝       512⎠  ⎝       512⎠  ⎝       512⎠  ⎝       512⎠  ⎝      \n",
       "\n",
       "  49⎞  ⎛        49⎞  ⎛       169⎞⎤\n",
       " ───⎟, ⎜❘110⟩, ───⎟, ⎜❘111⟩, ───⎟⎥\n",
       " 512⎠  ⎝       512⎠  ⎝       512⎠⎦"
      ]
     },
     "execution_count": 53,
     "metadata": {},
     "output_type": "execute_result"
    }
   ],
   "source": [
    "over_1=qapply(d_3*mark_7*ret2)  # 試行回数が多いとどうなるでしょう。\n",
    "measure_all(over_1)"
   ]
  },
  {
   "cell_type": "code",
   "execution_count": 54,
   "metadata": {},
   "outputs": [
    {
     "data": {
      "image/png": "[encoded data removed]",
      "text/latex": [
       "$$\\left [ \\left ( {\\left|000\\right\\rangle }, \\quad \\frac{289}{2048}\\right ), \\quad \\left ( {\\left|001\\right\\rangle }, \\quad \\frac{289}{2048}\\right ), \\quad \\left ( {\\left|010\\right\\rangle }, \\quad \\frac{289}{2048}\\right ), \\quad \\left ( {\\left|011\\right\\rangle }, \\quad \\frac{289}{2048}\\right ), \\quad \\left ( {\\left|100\\right\\rangle }, \\quad \\frac{289}{2048}\\right ), \\quad \\left ( {\\left|101\\right\\rangle }, \\quad \\frac{289}{2048}\\right ), \\quad \\left ( {\\left|110\\right\\rangle }, \\quad \\frac{289}{2048}\\right ), \\quad \\left ( {\\left|111\\right\\rangle }, \\quad \\frac{25}{2048}\\right )\\right ]$$"
      ],
      "text/plain": [
       "⎡⎛       289 ⎞  ⎛       289 ⎞  ⎛       289 ⎞  ⎛       289 ⎞  ⎛       289 ⎞  ⎛ \n",
       "⎢⎜❘000⟩, ────⎟, ⎜❘001⟩, ────⎟, ⎜❘010⟩, ────⎟, ⎜❘011⟩, ────⎟, ⎜❘100⟩, ────⎟, ⎜❘\n",
       "⎣⎝       2048⎠  ⎝       2048⎠  ⎝       2048⎠  ⎝       2048⎠  ⎝       2048⎠  ⎝ \n",
       "\n",
       "      289 ⎞  ⎛       289 ⎞  ⎛        25 ⎞⎤\n",
       "101⟩, ────⎟, ⎜❘110⟩, ────⎟, ⎜❘111⟩, ────⎟⎥\n",
       "      2048⎠  ⎝       2048⎠  ⎝       2048⎠⎦"
      ]
     },
     "execution_count": 54,
     "metadata": {},
     "output_type": "execute_result"
    }
   ],
   "source": [
    "over_2=qapply(d_3*mark_7*over_1)  # 試行回数が多いとどうなるでしょう。\n",
    "measure_all(over_2)"
   ]
  },
  {
   "cell_type": "markdown",
   "metadata": {},
   "source": [
    "通しで計算すると、回路が長くなってきています。少し時間かかります。"
   ]
  },
  {
   "cell_type": "code",
   "execution_count": 55,
   "metadata": {},
   "outputs": [
    {
     "data": {
      "image/png": "[encoded data removed]",
      "text/latex": [
       "$$- \\frac{\\sqrt{2} {\\left|000\\right\\rangle }}{16} - \\frac{\\sqrt{2} {\\left|001\\right\\rangle }}{16} - \\frac{\\sqrt{2} {\\left|010\\right\\rangle }}{16} - \\frac{\\sqrt{2} {\\left|011\\right\\rangle }}{16} - \\frac{\\sqrt{2} {\\left|100\\right\\rangle }}{16} - \\frac{\\sqrt{2} {\\left|101\\right\\rangle }}{16} - \\frac{\\sqrt{2} {\\left|110\\right\\rangle }}{16} + \\frac{11 \\sqrt{2} {\\left|111\\right\\rangle }}{16}$$"
      ],
      "text/plain": [
       "  √2⋅❘000⟩   √2⋅❘001⟩   √2⋅❘010⟩   √2⋅❘011⟩   √2⋅❘100⟩   √2⋅❘101⟩   √2⋅❘110⟩  \n",
       "- ──────── - ──────── - ──────── - ──────── - ──────── - ──────── - ──────── +\n",
       "     16         16         16         16         16         16         16     \n",
       "\n",
       " 11⋅√2⋅❘111⟩\n",
       " ───────────\n",
       "      16    "
      ]
     },
     "execution_count": 55,
     "metadata": {},
     "output_type": "execute_result"
    }
   ],
   "source": [
    "from sympy.physics.quantum.gate import gate_simp\n",
    "search_7_in_3qubit = gate_simp(d_3*mark_7*d_3*mark_7)\n",
    "ret3=qapply(search_7_in_3qubit*target_state_3)\n",
    "ret3"
   ]
  },
  {
   "cell_type": "code",
   "execution_count": 56,
   "metadata": {},
   "outputs": [
    {
     "name": "stdout",
     "output_type": "stream",
     "text": [
      "[(|000>, 1/128), (|001>, 1/128), (|010>, 1/128), (|011>, 1/128), (|100>, 1/128), (|101>, 1/128), (|110>, 1/128), (|111>, 121/128)]\n",
      "❘111⟩\n",
      "❘111⟩\n",
      "❘111⟩\n",
      "❘111⟩\n",
      "❘111⟩\n",
      "❘111⟩\n",
      "❘111⟩\n",
      "❘111⟩\n",
      "❘111⟩\n",
      "❘111⟩\n"
     ]
    }
   ],
   "source": [
    "print(measure_all(ret3))\n",
    "for i in range(10):\n",
    "    pprint(measure_all_oneshot(ret3))"
   ]
  },
  {
   "cell_type": "code",
   "execution_count": 57,
   "metadata": {
    "scrolled": true
   },
   "outputs": [
    {
     "data": {
      "text/plain": [
       "<sympy.physics.quantum.circuitplot.CircuitPlot at 0x120e17668>"
      ]
     },
     "execution_count": 57,
     "metadata": {},
     "output_type": "execute_result"
    },
    {
     "data": {
      "image/png": "[encoded data removed]",
      "text/plain": [
       "<Figure size 2232x216 with 1 Axes>"
      ]
     },
     "metadata": {},
     "output_type": "display_data"
    }
   ],
   "source": [
    "d_3_gate = h_3 * X(0)*X(1)*X(2) * H(0)*CCX(1,2,0)*H(0) * X(0)*X(1)*X(2) * h_3\n",
    "CircuitPlot(gate_simp(d_3_gate*mark_7*d_3_gate*mark_7*h_3),nqubits=3,labels=labeller(3)[::-1])"
   ]
  },
  {
   "cell_type": "markdown",
   "metadata": {},
   "source": [
    "## （Homework）Toffoli 再び\n",
    "\n",
    "### 課題１）　Toffoli ゲートを、基本的な量子ゲートだけで表してください。"
   ]
  },
  {
   "cell_type": "code",
   "execution_count": 58,
   "metadata": {},
   "outputs": [
    {
     "data": {
      "image/png": "[encoded data removed]",
      "text/latex": [
       "$${\\left|111\\right\\rangle }$$"
      ],
      "text/plain": [
       "❘111⟩"
      ]
     },
     "execution_count": 58,
     "metadata": {},
     "output_type": "execute_result"
    },
    {
     "data": {
      "image/png": "[encoded data removed]",
      "text/plain": [
       "<Figure size 1152x216 with 1 Axes>"
      ]
     },
     "metadata": {},
     "output_type": "display_data"
    }
   ],
   "source": [
    "def ToffoliGate(q0,q1,q2):\n",
    "    return T(q0)*S(q1)*CNOT(q0,q1)*Tdg(q1)*CNOT(q0,q1)\\\n",
    "            *H(q2)*Tdg(q1)*T(q2)*CNOT(q0,q2)*Tdg(q2)*CNOT(q1,q2)\\\n",
    "            *T(q2)*CNOT(q0,q2)*Tdg(q2)*CNOT(q1,q2)*H(q2)\n",
    "ToffoliGate(2,1,0)\n",
    "CircuitPlot(ToffoliGate(2,1,0), nqubits=3)\n",
    "qapply(ToffoliGate(2,1,0)*Qubit('110'))"
   ]
  },
  {
   "cell_type": "code",
   "execution_count": 59,
   "metadata": {},
   "outputs": [
    {
     "data": {
      "image/png": "[encoded data removed]",
      "text/latex": [
       "$${\\left|010\\right\\rangle }$$"
      ],
      "text/plain": [
       "❘010⟩"
      ]
     },
     "execution_count": 59,
     "metadata": {},
     "output_type": "execute_result"
    }
   ],
   "source": [
    "qapply(ToffoliGate(2,1,0)*Qubit('010'))"
   ]
  },
  {
   "cell_type": "markdown",
   "metadata": {},
   "source": [
    "### 課題２）　CCCX ゲートを、 Toffoli ゲートと CNOT ゲートで表してください。"
   ]
  },
  {
   "cell_type": "code",
   "execution_count": 60,
   "metadata": {
    "scrolled": true
   },
   "outputs": [
    {
     "data": {
      "text/plain": [
       "<sympy.physics.quantum.circuitplot.CircuitPlot at 0x1212dc080>"
      ]
     },
     "execution_count": 60,
     "metadata": {},
     "output_type": "execute_result"
    },
    {
     "data": {
      "image/png": "[encoded data removed]",
      "text/plain": [
       "<Figure size 504x504 with 1 Axes>"
      ]
     },
     "metadata": {},
     "output_type": "display_data"
    }
   ],
   "source": [
    "def CCCX_with_ancilla(q0,q1,q2,t,a0,a1,a2): \n",
    "    return CNOT(q0,a0)*Toffoli(q1,a0,a1)*Toffoli(q2,a1,a2)*CNOT(a2,t)*Toffoli(q2,a1,a2)*Toffoli(q1,a0,a1)*CNOT(q0,a0)\n",
    "CircuitPlot(CCCX_with_ancilla(6,5,4,3,2,1,0),nqubits=7,labels=(labeller(3,'a')+['t']+labeller(3,)))"
   ]
  },
  {
   "cell_type": "code",
   "execution_count": 61,
   "metadata": {},
   "outputs": [
    {
     "data": {
      "image/png": "[encoded data removed]",
      "text/latex": [
       "$${\\left|1110000\\right\\rangle }$$"
      ],
      "text/plain": [
       "❘1110000⟩"
      ]
     },
     "execution_count": 61,
     "metadata": {},
     "output_type": "execute_result"
    }
   ],
   "source": [
    "qapply(CCCX_with_ancilla(6,5,4,3,2,1,0)*Qubit('1111000'))"
   ]
  },
  {
   "cell_type": "code",
   "execution_count": 62,
   "metadata": {},
   "outputs": [
    {
     "data": {
      "image/png": "[encoded data removed]",
      "text/latex": [
       "$${\\left|1111000\\right\\rangle }$$"
      ],
      "text/plain": [
       "❘1111000⟩"
      ]
     },
     "execution_count": 62,
     "metadata": {},
     "output_type": "execute_result"
    }
   ],
   "source": [
    "qapply(CCCX_with_ancilla(6,5,4,3,2,1,0)*Qubit('1110000'))"
   ]
  },
  {
   "cell_type": "markdown",
   "metadata": {},
   "source": [
    "### 付録Ａ：ブラ・ベクトル\n",
    "複素共役を表すための dagger（ $ \\dagger $ ） をQubitオプジェクトに作用させると、ブラ・ベクトルになります。  \n",
    "また、内積も計算できます。  \n",
    "シンボルのままで内積にするには、単にブラ・ベクトル QubitBra とケット・ベクトル Qubit を掛ける（*）だけです。  \n",
    "実際の値を計算するには、この内積オブジェクトのdoit()メソッドで計算します。"
   ]
  },
  {
   "cell_type": "code",
   "execution_count": 63,
   "metadata": {},
   "outputs": [
    {
     "data": {
      "image/png": "[encoded data removed]",
      "text/latex": [
       "$${\\left\\langle 000\\right|}$$"
      ],
      "text/plain": [
       "⟨000❘"
      ]
     },
     "execution_count": 63,
     "metadata": {},
     "output_type": "execute_result"
    }
   ],
   "source": [
    "from sympy.physics.quantum.dagger import Dagger\n",
    "Dagger(q)"
   ]
  },
  {
   "cell_type": "code",
   "execution_count": 64,
   "metadata": {},
   "outputs": [
    {
     "data": {
      "text/plain": [
       "sympy.physics.quantum.qubit.QubitBra"
      ]
     },
     "execution_count": 64,
     "metadata": {},
     "output_type": "execute_result"
    }
   ],
   "source": [
    "type(Dagger(q))"
   ]
  },
  {
   "cell_type": "code",
   "execution_count": 65,
   "metadata": {},
   "outputs": [
    {
     "data": {
      "image/png": "[encoded data removed]",
      "text/latex": [
       "$$\\left\\langle 000 \\right. {\\left|000\\right\\rangle }$$"
      ],
      "text/plain": [
       "⟨000❘000⟩"
      ]
     },
     "execution_count": 65,
     "metadata": {},
     "output_type": "execute_result"
    }
   ],
   "source": [
    "ip = Dagger(q)*q\n",
    "ip"
   ]
  },
  {
   "cell_type": "code",
   "execution_count": 66,
   "metadata": {},
   "outputs": [
    {
     "data": {
      "image/png": "[encoded data removed]",
      "text/latex": [
       "$$1$$"
      ],
      "text/plain": [
       "1"
      ]
     },
     "execution_count": 66,
     "metadata": {},
     "output_type": "execute_result"
    }
   ],
   "source": [
    "ip.doit()"
   ]
  },
  {
   "cell_type": "markdown",
   "metadata": {},
   "source": [
    "### 付録Ｂ：量子フーリエ変換"
   ]
  },
  {
   "cell_type": "code",
   "execution_count": 67,
   "metadata": {},
   "outputs": [
    {
     "data": {
      "image/png": "[encoded data removed]",
      "text/latex": [
       "$$SWAP_{0,2} H_{0} C_{0}{\\left(S_{1}\\right)} H_{1} C_{0}{\\left(T_{2}\\right)} C_{1}{\\left(S_{2}\\right)} H_{2}$$"
      ],
      "text/plain": [
       "SWAP   ⋅H ⋅C ⎛S ⎞⋅H ⋅C ⎛T ⎞⋅C ⎛S ⎞⋅H \n",
       "    0,2  0  0⎝ 1⎠  1  0⎝ 2⎠  1⎝ 2⎠  2"
      ]
     },
     "execution_count": 67,
     "metadata": {},
     "output_type": "execute_result"
    }
   ],
   "source": [
    "from sympy.physics.quantum.qft import QFT\n",
    "fourier_3 = QFT(0,3).decompose()\n",
    "fourier_3"
   ]
  },
  {
   "cell_type": "code",
   "execution_count": 68,
   "metadata": {
    "scrolled": true
   },
   "outputs": [
    {
     "data": {
      "image/png": "[encoded data removed]",
      "text/latex": [
       "$$\\frac{\\sqrt{2} {\\left|000\\right\\rangle }}{4} + \\frac{\\sqrt{2} {\\left|001\\right\\rangle }}{4} + \\frac{\\sqrt{2} {\\left|010\\right\\rangle }}{4} + \\frac{\\sqrt{2} {\\left|011\\right\\rangle }}{4} + \\frac{\\sqrt{2} {\\left|100\\right\\rangle }}{4} + \\frac{\\sqrt{2} {\\left|101\\right\\rangle }}{4} + \\frac{\\sqrt{2} {\\left|110\\right\\rangle }}{4} + \\frac{\\sqrt{2} {\\left|111\\right\\rangle }}{4}$$"
      ],
      "text/plain": [
       "√2⋅❘000⟩   √2⋅❘001⟩   √2⋅❘010⟩   √2⋅❘011⟩   √2⋅❘100⟩   √2⋅❘101⟩   √2⋅❘110⟩   √\n",
       "──────── + ──────── + ──────── + ──────── + ──────── + ──────── + ──────── + ─\n",
       "   4          4          4          4          4          4          4        \n",
       "\n",
       "2⋅❘111⟩\n",
       "───────\n",
       "  4    "
      ]
     },
     "execution_count": 68,
     "metadata": {},
     "output_type": "execute_result"
    },
    {
     "data": {
      "image/png": "[encoded data removed]",
      "text/plain": [
       "<Figure size 504x216 with 1 Axes>"
      ]
     },
     "metadata": {},
     "output_type": "display_data"
    }
   ],
   "source": [
    "figure_qft3 = CircuitPlot(fourier_3, nqubits=3)\n",
    "qapply(fourier_3 * Qubit('000'))"
   ]
  },
  {
   "cell_type": "markdown",
   "metadata": {
    "collapsed": true
   },
   "source": [
    "## 付録Ｃ"
   ]
  },
  {
   "cell_type": "markdown",
   "metadata": {},
   "source": [
    "## OpenQL 発のPythonライブラリ QuantPy を紹介します\n",
    "  \n",
    "QuantPy は、フロントエンドを SymPy を使っています。  \n",
    "「量子ビットの準備」「量子操作（ゲート演算子）の記述」は SymPy で行います。  \n",
    "「量子ビットにゲート演算子を作用」する qapply() を置き換えて動作します。  \n"
   ]
  },
  {
   "cell_type": "code",
   "execution_count": 69,
   "metadata": {},
   "outputs": [],
   "source": [
    "from quantpy.sympy.qapply import qapply\n",
    "# sympy.physics.quantum.qapply を上書きします。sympy.physics.quantum のインポートの後に読み込んでください。"
   ]
  },
  {
   "cell_type": "code",
   "execution_count": 70,
   "metadata": {},
   "outputs": [
    {
     "name": "stdout",
     "output_type": "stream",
     "text": [
      "(0.4999999999999999+0j)|00> + (0.4999999999999999+0j)|10> + (0.4999999999999999+0j)|01> + (0.4999999999999999+0j)|11>\n"
     ]
    }
   ],
   "source": [
    "from quantpy.sympy.executor.classical_simulation_executor import ClassicalSimulationExecutor\n",
    "print(qapply(H(1)*H(0)*Qubit('00'), executor=ClassicalSimulationExecutor()))"
   ]
  },
  {
   "cell_type": "code",
   "execution_count": 71,
   "metadata": {},
   "outputs": [
    {
     "data": {
      "image/png": "[encoded data removed]",
      "text/latex": [
       "$$X_{2} X_{1} X_{0}$$"
      ],
      "text/plain": [
       "X ⋅X ⋅X \n",
       " 2  1  0"
      ]
     },
     "execution_count": 71,
     "metadata": {},
     "output_type": "execute_result"
    }
   ],
   "source": [
    "from quantpy.sympy.expr_extension import *\n",
    "sympy_expr_add_operators()\n",
    "circuit = X(0)>>X(1)>>X(2)\n",
    "circuit"
   ]
  },
  {
   "cell_type": "code",
   "execution_count": 72,
   "metadata": {},
   "outputs": [
    {
     "data": {
      "image/png": "[encoded data removed]",
      "text/latex": [
       "$${\\left|111\\right\\rangle }$$"
      ],
      "text/plain": [
       "❘111⟩"
      ]
     },
     "execution_count": 72,
     "metadata": {},
     "output_type": "execute_result"
    },
    {
     "data": {
      "image/png": "[encoded data removed]",
      "text/plain": [
       "<Figure size 1152x216 with 1 Axes>"
      ]
     },
     "metadata": {},
     "output_type": "display_data"
    }
   ],
   "source": [
    "def ToffoliGate2(q0,q1,q2):\n",
    "    return H(q2)>>CNOT(q1,q2)>>Tdg(q2)>>CNOT(q0,q2)>>T(q2)>>\\\n",
    "            CNOT(q1,q2)>>Tdg(q2)>>CNOT(q0,q2)>>T(q2)>>Tdg(q1)>>H(q2)>>\\\n",
    "            CNOT(q0,q1)>>Tdg(q1)>>CNOT(q0,q1)>>S(q1)>>T(q0)\n",
    "ToffoliGate2(2,1,0)\n",
    "CircuitPlot(ToffoliGate2(2,1,0), nqubits=3)\n",
    "qapply(ToffoliGate2(2,1,0)*Qubit('110'))"
   ]
  },
  {
   "cell_type": "code",
   "execution_count": 73,
   "metadata": {},
   "outputs": [
    {
     "data": {
      "image/png": "[encoded data removed]",
      "text/latex": [
       "$${\\left|100\\right\\rangle }$$"
      ],
      "text/plain": [
       "❘100⟩"
      ]
     },
     "execution_count": 73,
     "metadata": {},
     "output_type": "execute_result"
    }
   ],
   "source": [
    "qapply(ToffoliGate2(2,1,0)*Qubit('100'))"
   ]
  },
  {
   "cell_type": "code",
   "execution_count": null,
   "metadata": {},
   "outputs": [],
   "source": []
  }
 ],
 "metadata": {
  "kernelspec": {
   "display_name": "Python 3",
   "language": "python",
   "name": "python3"
  },
  "language_info": {
   "codemirror_mode": {
    "name": "ipython",
    "version": 3
   },
   "file_extension": ".py",
   "mimetype": "text/x-python",
   "name": "python",
   "nbconvert_exporter": "python",
   "pygments_lexer": "ipython3",
   "version": "3.7.0"
  }
 },
 "nbformat": 4,
 "nbformat_minor": 2
}
